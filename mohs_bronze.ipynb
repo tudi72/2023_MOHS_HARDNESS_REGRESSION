{
 "cells": [
  {
   "cell_type": "code",
   "execution_count": 51,
   "metadata": {},
   "outputs": [
    {
     "name": "stdout",
     "output_type": "stream",
     "text": [
      "The autoreload extension is already loaded. To reload it, use:\n",
      "  %reload_ext autoreload\n"
     ]
    }
   ],
   "source": [
    "%load_ext autoreload \n",
    "%autoreload 2"
   ]
  },
  {
   "cell_type": "code",
   "execution_count": 52,
   "metadata": {},
   "outputs": [],
   "source": [
    "from src.acquisition import *\n",
    "from src.feature_engineering import *\n",
    "from src.visualization import *"
   ]
  },
  {
   "cell_type": "code",
   "execution_count": 53,
   "metadata": {},
   "outputs": [],
   "source": [
    "import pandas as pd \n",
    "import xgboost as xgb                                                           # gradient boosting algorithm\n",
    "import optuna                                                                   # hyperparameter optimization\n",
    "from catboost import CatBoostRegressor, Pool                                    # gradient boosting algorithm\n",
    "import numpy as np\n",
    "\n",
    "\n",
    "from sklearn.linear_model import LogisticRegression                             # linear fitting\n",
    "from sklearn.ensemble import HistGradientBoostingClassifier, IsolationForest    # histogram boosting for NaN, IsolationForest?\n",
    "from sklearn.cluster import KMeans                                              # K Means technique\n",
    "from sklearn.neighbors import NearestNeighbors                                  # nearest neighbor \n",
    "\n",
    "from sklearn.model_selection import KFold, train_test_split, StratifiedGroupKFold\n",
    "from sklearn.model_selection import cross_val_score, cross_val_predict  \n",
    "from sklearn.metrics import mean_absolute_error, median_absolute_error, mean_squared_error\n",
    "\n",
    "from sklearn.preprocessing import StandardScaler, MinMaxScaler, RobustScaler\n",
    "import matplotlib.pyplot as plt\n",
    "import seaborn as sns\n",
    "\n",
    "import warnings\n",
    "warnings.filterwarnings('ignore')\n",
    "\n",
    "pd.options.display.float_format = '{:,.3f}'.format\n",
    "pd.set_option('display.max_columns', 15) \n",
    "pd.set_option('display.max_rows', 50)\n",
    "\n",
    "seed = np.random.seed(578)"
   ]
  },
  {
   "cell_type": "markdown",
   "metadata": {},
   "source": [
    "## 1. Data acquisition"
   ]
  },
  {
   "cell_type": "markdown",
   "metadata": {},
   "source": [
    "## 1.2 $\\textbf{3DSC}$ Database\n",
    "$\\textit{https://github.com/aimat-lab/3DSC}$ superconductor database "
   ]
  },
  {
   "cell_type": "code",
   "execution_count": 54,
   "metadata": {},
   "outputs": [],
   "source": [
    "train_path   = 'data/train.csv'\n",
    "test_path    = 'data/test.csv'\n",
    "crystal_path = 'data/Artificial_Crystals_Dataset.csv'\n",
    "mineral_path = 'data/Mineral_Dataset_Supplementary_Info.csv'"
   ]
  },
  {
   "cell_type": "code",
   "execution_count": 55,
   "metadata": {},
   "outputs": [],
   "source": [
    "train = acquisition_pipeline(path=train_path,drop_cols='id')\n",
    "test = acquisition_pipeline(path=test_path,drop_cols='id')\n",
    "crystal = acquisition_pipeline(path=crystal_path,drop_cols='Unnamed: 0',fill_NA_col='Crystal structure')\n",
    "mineral = acquisition_pipeline(path=mineral_path,drop_cols='Unnamed: 0')"
   ]
  },
  {
   "cell_type": "code",
   "execution_count": 56,
   "metadata": {},
   "outputs": [
    {
     "data": {
      "text/html": [
       "<div>\n",
       "<style scoped>\n",
       "    .dataframe tbody tr th:only-of-type {\n",
       "        vertical-align: middle;\n",
       "    }\n",
       "\n",
       "    .dataframe tbody tr th {\n",
       "        vertical-align: top;\n",
       "    }\n",
       "\n",
       "    .dataframe thead th {\n",
       "        text-align: right;\n",
       "    }\n",
       "</style>\n",
       "<table border=\"1\" class=\"dataframe\">\n",
       "  <thead>\n",
       "    <tr style=\"text-align: right;\">\n",
       "      <th></th>\n",
       "      <th>allelectrons_Total</th>\n",
       "      <th>density_Total</th>\n",
       "      <th>allelectrons_Average</th>\n",
       "      <th>val_e_Average</th>\n",
       "      <th>atomicweight_Average</th>\n",
       "      <th>ionenergy_Average</th>\n",
       "      <th>el_neg_chi_Average</th>\n",
       "      <th>R_vdw_element_Average</th>\n",
       "      <th>R_cov_element_Average</th>\n",
       "      <th>zaratio_Average</th>\n",
       "      <th>density_Average</th>\n",
       "      <th>Hardness</th>\n",
       "    </tr>\n",
       "  </thead>\n",
       "  <tbody>\n",
       "    <tr>\n",
       "      <th>0</th>\n",
       "      <td>100.000</td>\n",
       "      <td>0.842</td>\n",
       "      <td>10.000</td>\n",
       "      <td>4.800</td>\n",
       "      <td>20.613</td>\n",
       "      <td>11.088</td>\n",
       "      <td>2.766</td>\n",
       "      <td>1.732</td>\n",
       "      <td>0.860</td>\n",
       "      <td>0.496</td>\n",
       "      <td>0.915</td>\n",
       "      <td>6.000</td>\n",
       "    </tr>\n",
       "    <tr>\n",
       "      <th>1</th>\n",
       "      <td>100.000</td>\n",
       "      <td>7.558</td>\n",
       "      <td>10.000</td>\n",
       "      <td>4.800</td>\n",
       "      <td>20.299</td>\n",
       "      <td>12.041</td>\n",
       "      <td>2.755</td>\n",
       "      <td>1.631</td>\n",
       "      <td>0.910</td>\n",
       "      <td>0.493</td>\n",
       "      <td>0.718</td>\n",
       "      <td>6.500</td>\n",
       "    </tr>\n",
       "    <tr>\n",
       "      <th>2</th>\n",
       "      <td>76.000</td>\n",
       "      <td>8.886</td>\n",
       "      <td>15.600</td>\n",
       "      <td>5.600</td>\n",
       "      <td>33.739</td>\n",
       "      <td>12.086</td>\n",
       "      <td>2.828</td>\n",
       "      <td>1.788</td>\n",
       "      <td>0.864</td>\n",
       "      <td>0.481</td>\n",
       "      <td>1.506</td>\n",
       "      <td>2.500</td>\n",
       "    </tr>\n",
       "    <tr>\n",
       "      <th>3</th>\n",
       "      <td>100.000</td>\n",
       "      <td>8.795</td>\n",
       "      <td>10.000</td>\n",
       "      <td>4.800</td>\n",
       "      <td>20.213</td>\n",
       "      <td>10.948</td>\n",
       "      <td>2.648</td>\n",
       "      <td>1.626</td>\n",
       "      <td>0.936</td>\n",
       "      <td>0.489</td>\n",
       "      <td>0.789</td>\n",
       "      <td>6.000</td>\n",
       "    </tr>\n",
       "    <tr>\n",
       "      <th>4</th>\n",
       "      <td>116.000</td>\n",
       "      <td>9.578</td>\n",
       "      <td>11.600</td>\n",
       "      <td>4.800</td>\n",
       "      <td>24.988</td>\n",
       "      <td>11.824</td>\n",
       "      <td>2.766</td>\n",
       "      <td>1.682</td>\n",
       "      <td>0.896</td>\n",
       "      <td>0.493</td>\n",
       "      <td>1.865</td>\n",
       "      <td>6.000</td>\n",
       "    </tr>\n",
       "  </tbody>\n",
       "</table>\n",
       "</div>"
      ],
      "text/plain": [
       "   allelectrons_Total  density_Total  allelectrons_Average  val_e_Average  \\\n",
       "0             100.000          0.842                10.000          4.800   \n",
       "1             100.000          7.558                10.000          4.800   \n",
       "2              76.000          8.886                15.600          5.600   \n",
       "3             100.000          8.795                10.000          4.800   \n",
       "4             116.000          9.578                11.600          4.800   \n",
       "\n",
       "   atomicweight_Average  ionenergy_Average  el_neg_chi_Average  \\\n",
       "0                20.613             11.088               2.766   \n",
       "1                20.299             12.041               2.755   \n",
       "2                33.739             12.086               2.828   \n",
       "3                20.213             10.948               2.648   \n",
       "4                24.988             11.824               2.766   \n",
       "\n",
       "   R_vdw_element_Average  R_cov_element_Average  zaratio_Average  \\\n",
       "0                  1.732                  0.860            0.496   \n",
       "1                  1.631                  0.910            0.493   \n",
       "2                  1.788                  0.864            0.481   \n",
       "3                  1.626                  0.936            0.489   \n",
       "4                  1.682                  0.896            0.493   \n",
       "\n",
       "   density_Average  Hardness  \n",
       "0            0.915     6.000  \n",
       "1            0.718     6.500  \n",
       "2            1.506     2.500  \n",
       "3            0.789     6.000  \n",
       "4            1.865     6.000  "
      ]
     },
     "execution_count": 56,
     "metadata": {},
     "output_type": "execute_result"
    }
   ],
   "source": [
    "train.head()"
   ]
  },
  {
   "cell_type": "code",
   "execution_count": 57,
   "metadata": {},
   "outputs": [
    {
     "data": {
      "text/html": [
       "<div>\n",
       "<style scoped>\n",
       "    .dataframe tbody tr th:only-of-type {\n",
       "        vertical-align: middle;\n",
       "    }\n",
       "\n",
       "    .dataframe tbody tr th {\n",
       "        vertical-align: top;\n",
       "    }\n",
       "\n",
       "    .dataframe thead th {\n",
       "        text-align: right;\n",
       "    }\n",
       "</style>\n",
       "<table border=\"1\" class=\"dataframe\">\n",
       "  <thead>\n",
       "    <tr style=\"text-align: right;\">\n",
       "      <th></th>\n",
       "      <th>allelectrons_Total</th>\n",
       "      <th>density_Total</th>\n",
       "      <th>allelectrons_Average</th>\n",
       "      <th>val_e_Average</th>\n",
       "      <th>atomicweight_Average</th>\n",
       "      <th>ionenergy_Average</th>\n",
       "      <th>el_neg_chi_Average</th>\n",
       "      <th>R_vdw_element_Average</th>\n",
       "      <th>R_cov_element_Average</th>\n",
       "      <th>zaratio_Average</th>\n",
       "      <th>density_Average</th>\n",
       "    </tr>\n",
       "  </thead>\n",
       "  <tbody>\n",
       "    <tr>\n",
       "      <th>0</th>\n",
       "      <td>884.000</td>\n",
       "      <td>121.420</td>\n",
       "      <td>35.360</td>\n",
       "      <td>5.280</td>\n",
       "      <td>82.561</td>\n",
       "      <td>9.370</td>\n",
       "      <td>2.298</td>\n",
       "      <td>1.907</td>\n",
       "      <td>1.200</td>\n",
       "      <td>0.462</td>\n",
       "      <td>1.795</td>\n",
       "    </tr>\n",
       "    <tr>\n",
       "      <th>1</th>\n",
       "      <td>90.000</td>\n",
       "      <td>9.932</td>\n",
       "      <td>18.000</td>\n",
       "      <td>5.600</td>\n",
       "      <td>39.568</td>\n",
       "      <td>12.086</td>\n",
       "      <td>2.868</td>\n",
       "      <td>1.652</td>\n",
       "      <td>0.864</td>\n",
       "      <td>0.476</td>\n",
       "      <td>1.412</td>\n",
       "    </tr>\n",
       "    <tr>\n",
       "      <th>2</th>\n",
       "      <td>116.000</td>\n",
       "      <td>7.768</td>\n",
       "      <td>11.600</td>\n",
       "      <td>4.800</td>\n",
       "      <td>23.232</td>\n",
       "      <td>11.024</td>\n",
       "      <td>2.644</td>\n",
       "      <td>1.794</td>\n",
       "      <td>0.960</td>\n",
       "      <td>0.500</td>\n",
       "      <td>0.788</td>\n",
       "    </tr>\n",
       "    <tr>\n",
       "      <th>3</th>\n",
       "      <td>100.000</td>\n",
       "      <td>9.108</td>\n",
       "      <td>10.000</td>\n",
       "      <td>4.800</td>\n",
       "      <td>20.299</td>\n",
       "      <td>12.086</td>\n",
       "      <td>2.828</td>\n",
       "      <td>1.662</td>\n",
       "      <td>0.792</td>\n",
       "      <td>0.496</td>\n",
       "      <td>1.205</td>\n",
       "    </tr>\n",
       "    <tr>\n",
       "      <th>4</th>\n",
       "      <td>55.000</td>\n",
       "      <td>4.030</td>\n",
       "      <td>11.000</td>\n",
       "      <td>4.000</td>\n",
       "      <td>22.978</td>\n",
       "      <td>11.281</td>\n",
       "      <td>2.455</td>\n",
       "      <td>1.750</td>\n",
       "      <td>0.893</td>\n",
       "      <td>0.476</td>\n",
       "      <td>0.935</td>\n",
       "    </tr>\n",
       "  </tbody>\n",
       "</table>\n",
       "</div>"
      ],
      "text/plain": [
       "   allelectrons_Total  density_Total  allelectrons_Average  val_e_Average  \\\n",
       "0             884.000        121.420                35.360          5.280   \n",
       "1              90.000          9.932                18.000          5.600   \n",
       "2             116.000          7.768                11.600          4.800   \n",
       "3             100.000          9.108                10.000          4.800   \n",
       "4              55.000          4.030                11.000          4.000   \n",
       "\n",
       "   atomicweight_Average  ionenergy_Average  el_neg_chi_Average  \\\n",
       "0                82.561              9.370               2.298   \n",
       "1                39.568             12.086               2.868   \n",
       "2                23.232             11.024               2.644   \n",
       "3                20.299             12.086               2.828   \n",
       "4                22.978             11.281               2.455   \n",
       "\n",
       "   R_vdw_element_Average  R_cov_element_Average  zaratio_Average  \\\n",
       "0                  1.907                  1.200            0.462   \n",
       "1                  1.652                  0.864            0.476   \n",
       "2                  1.794                  0.960            0.500   \n",
       "3                  1.662                  0.792            0.496   \n",
       "4                  1.750                  0.893            0.476   \n",
       "\n",
       "   density_Average  \n",
       "0            1.795  \n",
       "1            1.412  \n",
       "2            0.788  \n",
       "3            1.205  \n",
       "4            0.935  "
      ]
     },
     "execution_count": 57,
     "metadata": {},
     "output_type": "execute_result"
    }
   ],
   "source": [
    "test.head()"
   ]
  },
  {
   "cell_type": "markdown",
   "metadata": {},
   "source": [
    "## 2. Feature Engineering"
   ]
  },
  {
   "cell_type": "code",
   "execution_count": 58,
   "metadata": {},
   "outputs": [],
   "source": [
    "ignore_features = ['id','Hardness','is_original']\n",
    "features = [f for f in train.columns if f not in ignore_features]"
   ]
  },
  {
   "cell_type": "code",
   "execution_count": 59,
   "metadata": {},
   "outputs": [
    {
     "name": "stdout",
     "output_type": "stream",
     "text": [
      "[INFO.feature_engineering.merge_without_duplicates]: Found 23 duplicates\n",
      "[ERROR.feature_engineering.feature_engineering_pipeline]:  list index out of range\n"
     ]
    }
   ],
   "source": [
    "fe_train = feature_engineering_pipeline(train,\n",
    "        to_merge=mineral,                                        # merging data with mineral dataset                             \n",
    "        ignore_outlier_features=ignore_features,                 # ignoring columns for outlier detection   \n",
    "        outlier_col='Outlier',                                   # outlier column with True/FAlse\n",
    "        std_features=features,std_method='robust',               # standardization method applied to features\n",
    "        kmeans_features=features,k_clusters=5,                   # creating new columns with closest cluster + distance to it\n",
    "        # new_column='Crystal structure',to_merge_NN=crystal\n",
    "        )\n",
    "\n",
    "fe_test = feature_engineering_pipeline(test,\n",
    "        ignore_outlier_features=ignore_features,                 # ignoring columns for outlier detection   \n",
    "        outlier_col='Outlier',                                   # outlier column with True/FAlse\n",
    "        std_features=features,std_method='robust',               # standardization method applied to features\n",
    "        kmeans_features=features,k_clusters=5,                   # creating new columns with closest cluster + distance to it\n",
    "        # new_column='Crystal structure',to_merge=crystal\n",
    "        )"
   ]
  },
  {
   "cell_type": "code",
   "execution_count": 60,
   "metadata": {},
   "outputs": [
    {
     "data": {
      "text/html": [
       "<div>\n",
       "<style scoped>\n",
       "    .dataframe tbody tr th:only-of-type {\n",
       "        vertical-align: middle;\n",
       "    }\n",
       "\n",
       "    .dataframe tbody tr th {\n",
       "        vertical-align: top;\n",
       "    }\n",
       "\n",
       "    .dataframe thead th {\n",
       "        text-align: right;\n",
       "    }\n",
       "</style>\n",
       "<table border=\"1\" class=\"dataframe\">\n",
       "  <thead>\n",
       "    <tr style=\"text-align: right;\">\n",
       "      <th></th>\n",
       "      <th>allelectrons_Total</th>\n",
       "      <th>density_Total</th>\n",
       "      <th>allelectrons_Average</th>\n",
       "      <th>val_e_Average</th>\n",
       "      <th>atomicweight_Average</th>\n",
       "      <th>ionenergy_Average</th>\n",
       "      <th>el_neg_chi_Average</th>\n",
       "      <th>R_vdw_element_Average</th>\n",
       "      <th>R_cov_element_Average</th>\n",
       "      <th>zaratio_Average</th>\n",
       "      <th>density_Average</th>\n",
       "      <th>Hardness</th>\n",
       "    </tr>\n",
       "  </thead>\n",
       "  <tbody>\n",
       "    <tr>\n",
       "      <th>0</th>\n",
       "      <td>100.000</td>\n",
       "      <td>0.842</td>\n",
       "      <td>10.000</td>\n",
       "      <td>4.800</td>\n",
       "      <td>20.613</td>\n",
       "      <td>11.088</td>\n",
       "      <td>2.766</td>\n",
       "      <td>1.732</td>\n",
       "      <td>0.860</td>\n",
       "      <td>0.496</td>\n",
       "      <td>0.915</td>\n",
       "      <td>6.000</td>\n",
       "    </tr>\n",
       "    <tr>\n",
       "      <th>1</th>\n",
       "      <td>100.000</td>\n",
       "      <td>7.558</td>\n",
       "      <td>10.000</td>\n",
       "      <td>4.800</td>\n",
       "      <td>20.299</td>\n",
       "      <td>12.041</td>\n",
       "      <td>2.755</td>\n",
       "      <td>1.631</td>\n",
       "      <td>0.910</td>\n",
       "      <td>0.493</td>\n",
       "      <td>0.718</td>\n",
       "      <td>6.500</td>\n",
       "    </tr>\n",
       "    <tr>\n",
       "      <th>2</th>\n",
       "      <td>76.000</td>\n",
       "      <td>8.886</td>\n",
       "      <td>15.600</td>\n",
       "      <td>5.600</td>\n",
       "      <td>33.739</td>\n",
       "      <td>12.086</td>\n",
       "      <td>2.828</td>\n",
       "      <td>1.788</td>\n",
       "      <td>0.864</td>\n",
       "      <td>0.481</td>\n",
       "      <td>1.506</td>\n",
       "      <td>2.500</td>\n",
       "    </tr>\n",
       "    <tr>\n",
       "      <th>3</th>\n",
       "      <td>100.000</td>\n",
       "      <td>8.795</td>\n",
       "      <td>10.000</td>\n",
       "      <td>4.800</td>\n",
       "      <td>20.213</td>\n",
       "      <td>10.948</td>\n",
       "      <td>2.648</td>\n",
       "      <td>1.626</td>\n",
       "      <td>0.936</td>\n",
       "      <td>0.489</td>\n",
       "      <td>0.789</td>\n",
       "      <td>6.000</td>\n",
       "    </tr>\n",
       "    <tr>\n",
       "      <th>4</th>\n",
       "      <td>116.000</td>\n",
       "      <td>9.578</td>\n",
       "      <td>11.600</td>\n",
       "      <td>4.800</td>\n",
       "      <td>24.988</td>\n",
       "      <td>11.824</td>\n",
       "      <td>2.766</td>\n",
       "      <td>1.682</td>\n",
       "      <td>0.896</td>\n",
       "      <td>0.493</td>\n",
       "      <td>1.865</td>\n",
       "      <td>6.000</td>\n",
       "    </tr>\n",
       "  </tbody>\n",
       "</table>\n",
       "</div>"
      ],
      "text/plain": [
       "   allelectrons_Total  density_Total  allelectrons_Average  val_e_Average  \\\n",
       "0             100.000          0.842                10.000          4.800   \n",
       "1             100.000          7.558                10.000          4.800   \n",
       "2              76.000          8.886                15.600          5.600   \n",
       "3             100.000          8.795                10.000          4.800   \n",
       "4             116.000          9.578                11.600          4.800   \n",
       "\n",
       "   atomicweight_Average  ionenergy_Average  el_neg_chi_Average  \\\n",
       "0                20.613             11.088               2.766   \n",
       "1                20.299             12.041               2.755   \n",
       "2                33.739             12.086               2.828   \n",
       "3                20.213             10.948               2.648   \n",
       "4                24.988             11.824               2.766   \n",
       "\n",
       "   R_vdw_element_Average  R_cov_element_Average  zaratio_Average  \\\n",
       "0                  1.732                  0.860            0.496   \n",
       "1                  1.631                  0.910            0.493   \n",
       "2                  1.788                  0.864            0.481   \n",
       "3                  1.626                  0.936            0.489   \n",
       "4                  1.682                  0.896            0.493   \n",
       "\n",
       "   density_Average  Hardness  \n",
       "0            0.915     6.000  \n",
       "1            0.718     6.500  \n",
       "2            1.506     2.500  \n",
       "3            0.789     6.000  \n",
       "4            1.865     6.000  "
      ]
     },
     "execution_count": 60,
     "metadata": {},
     "output_type": "execute_result"
    }
   ],
   "source": [
    "fe_train.head()"
   ]
  },
  {
   "cell_type": "code",
   "execution_count": 61,
   "metadata": {},
   "outputs": [
    {
     "data": {
      "image/png": "[encoded data removed]",
      "text/plain": [
       "<Figure size 1000x800 with 2 Axes>"
      ]
     },
     "metadata": {},
     "output_type": "display_data"
    }
   ],
   "source": [
    "corr = fe_train.corr()\n",
    "mask = np.triu(np.ones_like(corr, dtype=bool))\n",
    "\n",
    "fig, ax = plt.subplots(figsize=(10, 8))\n",
    "\n",
    "heatmap = sns.heatmap(corr, mask=mask, cmap='pink_r', vmax=.3, center=0,\n",
    "            annot=True, fmt='.2f', square=True, linewidths=.5, cbar_kws={\"shrink\": .5})\n",
    "\n",
    "plt.xticks(rotation=45, ha='right')\n",
    "plt.yticks(rotation=0)\n",
    "\n",
    "title = heatmap.set_title(\"Correlation Heatmap\", weight='bold', size=16)\n",
    "title.set_position([0.45, 1.1])\n",
    "plt.show()"
   ]
  },
  {
   "cell_type": "code",
   "execution_count": 62,
   "metadata": {},
   "outputs": [
    {
     "name": "stdout",
     "output_type": "stream",
     "text": [
      "+-----------------------+--------------------+\n",
      "|        Feature        | Mutual Information |\n",
      "+-----------------------+--------------------+\n",
      "|  atomicweight_Average |       0.557        |\n",
      "|    zaratio_Average    |        0.54        |\n",
      "|   ionenergy_Average   |        0.5         |\n",
      "| R_cov_element_Average |       0.475        |\n",
      "|   el_neg_chi_Average  |       0.455        |\n",
      "| R_vdw_element_Average |        0.45        |\n",
      "|  allelectrons_Average |       0.435        |\n",
      "|     density_Total     |       0.384        |\n",
      "|     val_e_Average     |       0.336        |\n",
      "|   allelectrons_Total  |       0.336        |\n",
      "|    density_Average    |       0.224        |\n",
      "+-----------------------+--------------------+\n"
     ]
    }
   ],
   "source": [
    "view_mutual_info_regression(fe_train,\"Hardness\")"
   ]
  },
  {
   "cell_type": "markdown",
   "metadata": {},
   "source": [
    "## 2.1 Train Test Split"
   ]
  },
  {
   "cell_type": "code",
   "execution_count": 63,
   "metadata": {},
   "outputs": [],
   "source": [
    "y = fe_train['Hardness'].values\n",
    "X = fe_train.drop(columns=['Hardness'])"
   ]
  },
  {
   "cell_type": "code",
   "execution_count": 64,
   "metadata": {},
   "outputs": [],
   "source": [
    "X_train, X_val,y_train,y_val = train_test_split(X,y,test_size=0.2,shuffle=True,random_state=seed)"
   ]
  },
  {
   "cell_type": "markdown",
   "metadata": {},
   "source": [
    "## 3. Model selection"
   ]
  },
  {
   "cell_type": "code",
   "execution_count": 65,
   "metadata": {},
   "outputs": [],
   "source": [
    "from sklearn.model_selection import GridSearchCV\n",
    "from sklearn.linear_model import LinearRegression\n",
    "from sklearn.ensemble import VotingRegressor\n",
    "from xgboost import XGBRegressor\n",
    "models = {\n",
    "    'XGB': XGBRegressor(random_state=seed),\n",
    "    'CAT': CatBoostRegressor(random_state=seed),\n",
    "}\n",
    "\n",
    "\n",
    "param_grids = {\n",
    "    'XGB': {\n",
    "        'max_depth': [3],\n",
    "        'learning_rate': [0.06],\n",
    "        'n_estimators': [270],\n",
    "        'eval_metric': ['rmse'],\n",
    "        'tree_method': ['exact'],\n",
    "        'sampling_method':['uniform'],\n",
    "        'subsample': [0.7],\n",
    "        'colsample_bytree': [0.9],\n",
    "        'reg_lambda': [0.2],\n",
    "    },\n",
    "\n",
    "    'CAT': {\n",
    "        'verbose': [False],\n",
    "        'random_seed': [42],\n",
    "        'iterations': [3000],\n",
    "        'loss_function': ['Quantile:alpha=0.5'],\n",
    "        'depth': [7],\n",
    "        'subsample':[0.7841394148733731],\n",
    "        'learning_rate': [0.04442655333145627],\n",
    "        'l2_leaf_reg': [3.523614847869309],\n",
    "        'leaf_estimation_method': ['Exact'],\n",
    "        'boost_from_average': [True],\n",
    "    }\n",
    "}\n"
   ]
  },
  {
   "cell_type": "markdown",
   "metadata": {},
   "source": [
    "## 4. Training and Validation"
   ]
  },
  {
   "cell_type": "code",
   "execution_count": 66,
   "metadata": {},
   "outputs": [],
   "source": [
    "best_models = {}\n",
    "best_score = float('inf')"
   ]
  },
  {
   "cell_type": "code",
   "execution_count": 67,
   "metadata": {},
   "outputs": [
    {
     "name": "stdout",
     "output_type": "stream",
     "text": [
      "==========================================================================================================================================================================\n",
      "[XGB]:\t0.680527639389038\t\t{'colsample_bytree': 0.9, 'eval_metric': 'rmse', 'learning_rate': 0.06, 'max_depth': 3, 'n_estimators': 270, 'reg_lambda': 0.2, 'sampling_method': 'uniform', 'subsample': 0.7, 'tree_method': 'exact'}\t\n",
      "==========================================================================================================================================================================\n",
      "[CAT]:\t0.5275221848639176\t\t{'boost_from_average': True, 'depth': 7, 'iterations': 3000, 'l2_leaf_reg': 3.523614847869309, 'leaf_estimation_method': 'Exact', 'learning_rate': 0.04442655333145627, 'loss_function': 'Quantile:alpha=0.5', 'random_seed': 42, 'subsample': 0.7841394148733731, 'verbose': False}\t\n"
     ]
    }
   ],
   "source": [
    "for model_name, model in models.items():\n",
    "    param_grid = param_grids[model_name]\n",
    "\n",
    "    grid_search = GridSearchCV(\n",
    "            model,\n",
    "            param_grid,\n",
    "            cv=5,\n",
    "            scoring='neg_median_absolute_error',\n",
    "            verbose=False,\n",
    "            return_train_score=True,\n",
    "        )\n",
    "\n",
    "    grid_search.fit(X_train, y_train)\n",
    "    cv_results = grid_search.cv_results_\n",
    "\n",
    "    best_models[model_name] = grid_search.best_estimator_\n",
    "\n",
    "    # pretty-print model configurations\n",
    "    print(\"=\" * 170)\n",
    "    for i, params in enumerate(cv_results['params']):\n",
    "        score = abs(cv_results['mean_test_score'][i])\n",
    "        print(f\"[{model_name}]:\\t{score}\\t\\t{params}\\t\")"
   ]
  },
  {
   "cell_type": "code",
   "execution_count": 68,
   "metadata": {},
   "outputs": [],
   "source": [
    "ensemble_clf = VotingRegressor(\n",
    "    estimators=[\n",
    "        ('XGB',best_models['XGB']),\n",
    "        ('CAT',best_models['CAT']),\n",
    "    ],\n",
    "    weights=[0.3, 0.7],\n",
    "    verbose=True\n",
    ")"
   ]
  },
  {
   "cell_type": "markdown",
   "metadata": {},
   "source": [
    "## Forward Neural Network"
   ]
  },
  {
   "cell_type": "code",
   "execution_count": 69,
   "metadata": {},
   "outputs": [],
   "source": [
    "from src.models.FNN32 import *"
   ]
  },
  {
   "cell_type": "markdown",
   "metadata": {},
   "source": [
    "## Pre-fitting"
   ]
  },
  {
   "cell_type": "code",
   "execution_count": 92,
   "metadata": {},
   "outputs": [
    {
     "name": "stdout",
     "output_type": "stream",
     "text": [
      "[LightGBM] [Info] Auto-choosing col-wise multi-threading, the overhead of testing was 0.000264 seconds.\n",
      "You can set `force_col_wise=true` to remove the overhead.\n",
      "[LightGBM] [Info] Total Bins 2549\n",
      "[LightGBM] [Info] Number of data points in the train set: 11006, number of used features: 11\n",
      "[LightGBM] [Info] Start training from score 4.646097\n"
     ]
    }
   ],
   "source": [
    "from lightgbm import LGBMRegressor\n",
    "model_pre = LGBMRegressor()\n",
    "model_pre.fit(X, y)\n",
    "X_new = X.copy()\n",
    "X_new['Hardness'] = model_pre.predict(X)"
   ]
  },
  {
   "cell_type": "code",
   "execution_count": 93,
   "metadata": {},
   "outputs": [
    {
     "name": "stdout",
     "output_type": "stream",
     "text": [
      "Epoch 1/100\n",
      "310/310 [==============================] - 2s 4ms/step - loss: 1.2293 - metric_fn: 4.6257 - val_loss: 0.8445 - val_metric_fn: 5.9216 - lr: 0.0130\n",
      "Epoch 2/100\n",
      "310/310 [==============================] - 1s 3ms/step - loss: 0.8257 - metric_fn: 3.2725 - val_loss: 0.5740 - val_metric_fn: 2.9183 - lr: 0.0130\n",
      "Epoch 3/100\n",
      "310/310 [==============================] - 1s 3ms/step - loss: 0.7408 - metric_fn: 3.1457 - val_loss: 0.5498 - val_metric_fn: 2.5081 - lr: 0.0130\n",
      "Epoch 4/100\n",
      "310/310 [==============================] - 1s 3ms/step - loss: 0.7326 - metric_fn: 3.1041 - val_loss: 0.5352 - val_metric_fn: 2.7939 - lr: 0.0130\n",
      "Epoch 5/100\n",
      "310/310 [==============================] - 1s 3ms/step - loss: 0.7402 - metric_fn: 3.1924 - val_loss: 0.6468 - val_metric_fn: 2.9677 - lr: 0.0130\n",
      "Epoch 6/100\n",
      "310/310 [==============================] - 1s 3ms/step - loss: 0.6029 - metric_fn: 3.2290 - val_loss: 0.5147 - val_metric_fn: 2.9682 - lr: 0.0130\n",
      "Epoch 7/100\n",
      "310/310 [==============================] - 1s 3ms/step - loss: 0.5800 - metric_fn: 3.2351 - val_loss: 0.4777 - val_metric_fn: 2.8383 - lr: 0.0130\n",
      "Epoch 8/100\n",
      "310/310 [==============================] - 1s 3ms/step - loss: 0.5502 - metric_fn: 3.4234 - val_loss: 0.5600 - val_metric_fn: 2.9034 - lr: 0.0130\n",
      "Epoch 9/100\n",
      "310/310 [==============================] - 1s 3ms/step - loss: 0.5339 - metric_fn: 3.3788 - val_loss: 0.4649 - val_metric_fn: 2.9082 - lr: 0.0130\n",
      "Epoch 10/100\n",
      "310/310 [==============================] - 1s 3ms/step - loss: 0.4972 - metric_fn: 3.4239 - val_loss: 0.4839 - val_metric_fn: 2.9730 - lr: 0.0130\n",
      "Epoch 11/100\n",
      "310/310 [==============================] - 1s 3ms/step - loss: 0.5574 - metric_fn: 3.5257 - val_loss: 0.5085 - val_metric_fn: 3.0314 - lr: 0.0130\n",
      "Epoch 12/100\n",
      "310/310 [==============================] - 1s 3ms/step - loss: 0.5199 - metric_fn: 3.5559 - val_loss: 0.4952 - val_metric_fn: 2.9239 - lr: 0.0130\n",
      "Epoch 13/100\n",
      "310/310 [==============================] - 1s 3ms/step - loss: 0.4964 - metric_fn: 3.4360 - val_loss: 0.5101 - val_metric_fn: 2.9736 - lr: 0.0104\n",
      "Epoch 14/100\n",
      "310/310 [==============================] - 1s 3ms/step - loss: 0.4856 - metric_fn: 3.3570 - val_loss: 0.5587 - val_metric_fn: 3.0141 - lr: 0.0104\n",
      "Epoch 15/100\n",
      "310/310 [==============================] - 1s 3ms/step - loss: 0.5137 - metric_fn: 3.4476 - val_loss: 0.5279 - val_metric_fn: 3.0290 - lr: 0.0104\n",
      "Epoch 16/100\n",
      "310/310 [==============================] - 1s 3ms/step - loss: 0.5013 - metric_fn: 3.4009 - val_loss: 0.4809 - val_metric_fn: 2.9791 - lr: 0.0083\n",
      "Epoch 17/100\n",
      "310/310 [==============================] - 1s 3ms/step - loss: 0.4976 - metric_fn: 3.4212 - val_loss: 0.5044 - val_metric_fn: 3.0782 - lr: 0.0083\n",
      "Epoch 18/100\n",
      "310/310 [==============================] - 1s 3ms/step - loss: 0.5098 - metric_fn: 3.4231 - val_loss: 0.5224 - val_metric_fn: 3.0893 - lr: 0.0083\n",
      "Epoch 19/100\n",
      "310/310 [==============================] - 1s 3ms/step - loss: 0.5427 - metric_fn: 3.4022 - val_loss: 0.4853 - val_metric_fn: 2.9048 - lr: 0.0067\n",
      "Epoch 20/100\n",
      "310/310 [==============================] - 1s 3ms/step - loss: 0.4972 - metric_fn: 3.4249 - val_loss: 0.5802 - val_metric_fn: 2.9922 - lr: 0.0067\n",
      "Epoch 21/100\n",
      "310/310 [==============================] - 1s 3ms/step - loss: 0.5037 - metric_fn: 3.4996 - val_loss: 0.5212 - val_metric_fn: 2.9828 - lr: 0.0067\n",
      "Epoch 22/100\n",
      "310/310 [==============================] - 1s 3ms/step - loss: 0.4944 - metric_fn: 3.3866 - val_loss: 0.4972 - val_metric_fn: 3.0083 - lr: 0.0053\n",
      "Epoch 23/100\n",
      "310/310 [==============================] - 1s 3ms/step - loss: 0.4850 - metric_fn: 3.4263 - val_loss: 0.5277 - val_metric_fn: 3.1159 - lr: 0.0053\n",
      "Epoch 24/100\n",
      "310/310 [==============================] - 1s 3ms/step - loss: 0.4935 - metric_fn: 3.4020 - val_loss: 0.4960 - val_metric_fn: 2.9706 - lr: 0.0053\n",
      "Epoch 25/100\n",
      "310/310 [==============================] - 1s 3ms/step - loss: 0.4924 - metric_fn: 3.3122 - val_loss: 0.5027 - val_metric_fn: 2.9936 - lr: 0.0043\n",
      "Epoch 26/100\n",
      "310/310 [==============================] - 1s 3ms/step - loss: 0.4784 - metric_fn: 3.3085 - val_loss: 0.4859 - val_metric_fn: 2.9225 - lr: 0.0043\n",
      "Epoch 27/100\n",
      "310/310 [==============================] - 1s 3ms/step - loss: 0.4740 - metric_fn: 3.2574 - val_loss: 0.4462 - val_metric_fn: 2.8665 - lr: 0.0043\n",
      "Epoch 28/100\n",
      "310/310 [==============================] - 1s 3ms/step - loss: 0.4632 - metric_fn: 3.3294 - val_loss: 0.4550 - val_metric_fn: 2.9821 - lr: 0.0043\n",
      "Epoch 29/100\n",
      "310/310 [==============================] - 1s 3ms/step - loss: 0.4824 - metric_fn: 3.3232 - val_loss: 0.4363 - val_metric_fn: 2.8551 - lr: 0.0043\n",
      "Epoch 30/100\n",
      "310/310 [==============================] - 1s 3ms/step - loss: 0.4641 - metric_fn: 3.3187 - val_loss: 0.4834 - val_metric_fn: 2.9530 - lr: 0.0043\n",
      "Epoch 31/100\n",
      "310/310 [==============================] - 1s 3ms/step - loss: 0.4634 - metric_fn: 3.2916 - val_loss: 0.4664 - val_metric_fn: 2.9811 - lr: 0.0043\n",
      "Epoch 32/100\n",
      "310/310 [==============================] - 1s 3ms/step - loss: 0.4732 - metric_fn: 3.2507 - val_loss: 0.4612 - val_metric_fn: 3.0075 - lr: 0.0043\n",
      "Epoch 33/100\n",
      "310/310 [==============================] - 1s 3ms/step - loss: 0.4570 - metric_fn: 3.3650 - val_loss: 0.4886 - val_metric_fn: 3.0514 - lr: 0.0034\n",
      "Epoch 34/100\n",
      "310/310 [==============================] - 1s 3ms/step - loss: 0.4641 - metric_fn: 3.3498 - val_loss: 0.4643 - val_metric_fn: 3.1461 - lr: 0.0034\n",
      "Epoch 35/100\n",
      "310/310 [==============================] - 1s 3ms/step - loss: 0.4446 - metric_fn: 3.3393 - val_loss: 0.4694 - val_metric_fn: 3.2628 - lr: 0.0034\n",
      "Epoch 36/100\n",
      "310/310 [==============================] - 1s 3ms/step - loss: 0.4664 - metric_fn: 3.4037 - val_loss: 0.4882 - val_metric_fn: 3.0876 - lr: 0.0027\n",
      "Epoch 37/100\n",
      "310/310 [==============================] - 1s 3ms/step - loss: 0.4497 - metric_fn: 3.4053 - val_loss: 0.4162 - val_metric_fn: 3.0687 - lr: 0.0027\n",
      "Epoch 38/100\n",
      "310/310 [==============================] - 1s 3ms/step - loss: 0.4588 - metric_fn: 3.3676 - val_loss: 0.4236 - val_metric_fn: 2.9384 - lr: 0.0027\n",
      "Epoch 39/100\n",
      "310/310 [==============================] - 1s 3ms/step - loss: 0.4514 - metric_fn: 3.3622 - val_loss: 0.4568 - val_metric_fn: 3.1046 - lr: 0.0027\n",
      "Epoch 40/100\n",
      "310/310 [==============================] - 1s 3ms/step - loss: 0.4466 - metric_fn: 3.3503 - val_loss: 0.4344 - val_metric_fn: 3.0210 - lr: 0.0027\n",
      "Epoch 41/100\n",
      "310/310 [==============================] - 1s 3ms/step - loss: 0.4536 - metric_fn: 3.4063 - val_loss: 0.4241 - val_metric_fn: 3.0664 - lr: 0.0022\n",
      "Epoch 42/100\n",
      "310/310 [==============================] - 1s 3ms/step - loss: 0.4435 - metric_fn: 3.3621 - val_loss: 0.3964 - val_metric_fn: 3.0253 - lr: 0.0022\n",
      "Epoch 43/100\n",
      "310/310 [==============================] - 1s 3ms/step - loss: 0.4476 - metric_fn: 3.3429 - val_loss: 0.4165 - val_metric_fn: 3.0636 - lr: 0.0022\n",
      "Epoch 44/100\n",
      "310/310 [==============================] - 1s 3ms/step - loss: 0.4468 - metric_fn: 3.3136 - val_loss: 0.3945 - val_metric_fn: 2.9825 - lr: 0.0022\n",
      "Epoch 45/100\n",
      "310/310 [==============================] - 1s 3ms/step - loss: 0.4393 - metric_fn: 3.3106 - val_loss: 0.4395 - val_metric_fn: 3.0223 - lr: 0.0022\n",
      "Epoch 46/100\n",
      "310/310 [==============================] - 1s 3ms/step - loss: 0.4426 - metric_fn: 3.3485 - val_loss: 0.4447 - val_metric_fn: 3.1049 - lr: 0.0022\n",
      "Epoch 47/100\n",
      "310/310 [==============================] - 1s 3ms/step - loss: 0.4510 - metric_fn: 3.4170 - val_loss: 0.4451 - val_metric_fn: 3.1116 - lr: 0.0022\n",
      "Epoch 48/100\n",
      "310/310 [==============================] - 1s 3ms/step - loss: 0.4430 - metric_fn: 3.3545 - val_loss: 0.4237 - val_metric_fn: 3.0358 - lr: 0.0017\n",
      "Epoch 49/100\n",
      "310/310 [==============================] - 1s 3ms/step - loss: 0.4344 - metric_fn: 3.3867 - val_loss: 0.4208 - val_metric_fn: 3.0658 - lr: 0.0017\n",
      "Epoch 50/100\n",
      "310/310 [==============================] - 1s 3ms/step - loss: 0.4459 - metric_fn: 3.3656 - val_loss: 0.4312 - val_metric_fn: 3.0667 - lr: 0.0017\n",
      "Epoch 51/100\n",
      "310/310 [==============================] - 1s 3ms/step - loss: 0.4430 - metric_fn: 3.3485 - val_loss: 0.4330 - val_metric_fn: 3.0622 - lr: 0.0014\n",
      "Epoch 52/100\n",
      "310/310 [==============================] - 1s 3ms/step - loss: 0.4518 - metric_fn: 3.3763 - val_loss: 0.4286 - val_metric_fn: 3.1231 - lr: 0.0014\n",
      "Epoch 53/100\n",
      "310/310 [==============================] - 1s 3ms/step - loss: 0.4502 - metric_fn: 3.4068 - val_loss: 0.4232 - val_metric_fn: 3.1224 - lr: 0.0014\n",
      "Epoch 54/100\n",
      "310/310 [==============================] - 1s 4ms/step - loss: 0.4433 - metric_fn: 3.4102 - val_loss: 0.4290 - val_metric_fn: 3.1178 - lr: 0.0011\n",
      "Epoch 55/100\n",
      "310/310 [==============================] - 1s 4ms/step - loss: 0.4364 - metric_fn: 3.4313 - val_loss: 0.4422 - val_metric_fn: 3.1298 - lr: 0.0011\n",
      "Epoch 56/100\n",
      "310/310 [==============================] - 1s 3ms/step - loss: 0.4388 - metric_fn: 3.3442 - val_loss: 0.4196 - val_metric_fn: 3.1010 - lr: 0.0011\n",
      "Epoch 57/100\n",
      "310/310 [==============================] - 1s 3ms/step - loss: 0.4377 - metric_fn: 3.4087 - val_loss: 0.4242 - val_metric_fn: 3.0753 - lr: 8.9335e-04\n",
      "Epoch 58/100\n",
      "310/310 [==============================] - 1s 3ms/step - loss: 0.4246 - metric_fn: 3.3543 - val_loss: 0.4295 - val_metric_fn: 3.0281 - lr: 8.9335e-04\n",
      "Epoch 59/100\n",
      "310/310 [==============================] - 1s 3ms/step - loss: 0.4350 - metric_fn: 3.4180 - val_loss: 0.4228 - val_metric_fn: 3.0962 - lr: 8.9335e-04\n",
      "Epoch 60/100\n",
      "310/310 [==============================] - 1s 3ms/step - loss: 0.4392 - metric_fn: 3.4150 - val_loss: 0.4119 - val_metric_fn: 3.0732 - lr: 7.1468e-04\n",
      "Epoch 61/100\n",
      "310/310 [==============================] - 1s 3ms/step - loss: 0.4381 - metric_fn: 3.3694 - val_loss: 0.4352 - val_metric_fn: 3.0915 - lr: 7.1468e-04\n",
      "Epoch 62/100\n",
      "310/310 [==============================] - 1s 3ms/step - loss: 0.4520 - metric_fn: 3.3562 - val_loss: 0.4307 - val_metric_fn: 3.0609 - lr: 7.1468e-04\n",
      "Epoch 63/100\n",
      "310/310 [==============================] - 1s 3ms/step - loss: 0.4308 - metric_fn: 3.3406 - val_loss: 0.4267 - val_metric_fn: 3.0285 - lr: 5.7175e-04\n",
      "Epoch 64/100\n",
      "310/310 [==============================] - 1s 3ms/step - loss: 0.4346 - metric_fn: 3.4080 - val_loss: 0.4259 - val_metric_fn: 3.0197 - lr: 5.7175e-04\n",
      "Epoch 65/100\n",
      "310/310 [==============================] - 1s 3ms/step - loss: 0.4371 - metric_fn: 3.3622 - val_loss: 0.4245 - val_metric_fn: 3.0498 - lr: 5.7175e-04\n",
      "Epoch 66/100\n",
      "310/310 [==============================] - 1s 3ms/step - loss: 0.4372 - metric_fn: 3.3829 - val_loss: 0.4150 - val_metric_fn: 3.0554 - lr: 4.5740e-04\n",
      "Epoch 67/100\n",
      "310/310 [==============================] - 1s 3ms/step - loss: 0.4415 - metric_fn: 3.3527 - val_loss: 0.4154 - val_metric_fn: 3.0374 - lr: 4.5740e-04\n",
      "Epoch 68/100\n",
      "310/310 [==============================] - 1s 3ms/step - loss: 0.4449 - metric_fn: 3.3790 - val_loss: 0.4153 - val_metric_fn: 3.0463 - lr: 4.5740e-04\n",
      "Epoch 69/100\n",
      "310/310 [==============================] - 1s 3ms/step - loss: 0.4337 - metric_fn: 3.3318 - val_loss: 0.4175 - val_metric_fn: 3.0436 - lr: 3.6592e-04\n",
      "Epoch 70/100\n",
      "310/310 [==============================] - 1s 3ms/step - loss: 0.4322 - metric_fn: 3.3441 - val_loss: 0.4176 - val_metric_fn: 3.0298 - lr: 3.6592e-04\n",
      "Epoch 71/100\n",
      "310/310 [==============================] - 1s 3ms/step - loss: 0.4270 - metric_fn: 3.3121 - val_loss: 0.4261 - val_metric_fn: 3.0276 - lr: 3.6592e-04\n",
      "Epoch 72/100\n",
      "310/310 [==============================] - 1s 2ms/step - loss: 0.4379 - metric_fn: 3.3256 - val_loss: 0.4232 - val_metric_fn: 3.0252 - lr: 2.9273e-04\n",
      "Epoch 73/100\n",
      "310/310 [==============================] - 1s 3ms/step - loss: 0.4247 - metric_fn: 3.3309 - val_loss: 0.4257 - val_metric_fn: 3.0363 - lr: 2.9273e-04\n",
      "Epoch 74/100\n",
      "307/310 [============================>.] - ETA: 0s - loss: 0.4300 - metric_fn: 3.3179Restoring model weights from the end of the best epoch: 44.\n",
      "310/310 [==============================] - 1s 3ms/step - loss: 0.4287 - metric_fn: 3.3161 - val_loss: 0.4215 - val_metric_fn: 3.0477 - lr: 2.9273e-04\n",
      "Epoch 74: early stopping\n"
     ]
    }
   ],
   "source": [
    "model = create_model(X_new.columns)\n",
    "\n",
    "history = model.fit(X_new.astype('float32'), y.astype('float32'),\n",
    "                    epochs=100,\n",
    "                    class_weight=model_pre.class_weight,\n",
    "                    callbacks=callbacks_list,\n",
    "                    validation_split=0.1)"
   ]
  },
  {
   "cell_type": "code",
   "execution_count": 97,
   "metadata": {},
   "outputs": [
    {
     "ename": "ValueError",
     "evalue": "Failed to find data adapter that can handle input: <class 'NoneType'>, <class 'NoneType'>",
     "output_type": "error",
     "traceback": [
      "\u001b[1;31m---------------------------------------------------------------------------\u001b[0m",
      "\u001b[1;31mValueError\u001b[0m                                Traceback (most recent call last)",
      "\u001b[1;32mc:\\Users\\tudor\\Documents\\GIT\\2023_MOHS_HARDNESS_REGRESSION\\mohs_bronze.ipynb Cell 30\u001b[0m line \u001b[0;36m1\n\u001b[1;32m----> <a href='vscode-notebook-cell:/c%3A/Users/tudor/Documents/GIT/2023_MOHS_HARDNESS_REGRESSION/mohs_bronze.ipynb#X65sZmlsZQ%3D%3D?line=0'>1</a>\u001b[0m test_preds \u001b[39m=\u001b[39m model\u001b[39m.\u001b[39;49mpredict(fe_test)\n",
      "File \u001b[1;32mc:\\Users\\tudor\\Documents\\GIT\\2023_MOHS_HARDNESS_REGRESSION\\.venv\\Lib\\site-packages\\keras\\src\\utils\\traceback_utils.py:70\u001b[0m, in \u001b[0;36mfilter_traceback.<locals>.error_handler\u001b[1;34m(*args, **kwargs)\u001b[0m\n\u001b[0;32m     67\u001b[0m     filtered_tb \u001b[39m=\u001b[39m _process_traceback_frames(e\u001b[39m.\u001b[39m__traceback__)\n\u001b[0;32m     68\u001b[0m     \u001b[39m# To get the full stack trace, call:\u001b[39;00m\n\u001b[0;32m     69\u001b[0m     \u001b[39m# `tf.debugging.disable_traceback_filtering()`\u001b[39;00m\n\u001b[1;32m---> 70\u001b[0m     \u001b[39mraise\u001b[39;00m e\u001b[39m.\u001b[39mwith_traceback(filtered_tb) \u001b[39mfrom\u001b[39;00m \u001b[39mNone\u001b[39;00m\n\u001b[0;32m     71\u001b[0m \u001b[39mfinally\u001b[39;00m:\n\u001b[0;32m     72\u001b[0m     \u001b[39mdel\u001b[39;00m filtered_tb\n",
      "File \u001b[1;32mc:\\Users\\tudor\\Documents\\GIT\\2023_MOHS_HARDNESS_REGRESSION\\.venv\\Lib\\site-packages\\keras\\src\\engine\\data_adapter.py:1105\u001b[0m, in \u001b[0;36mselect_data_adapter\u001b[1;34m(x, y)\u001b[0m\n\u001b[0;32m   1102\u001b[0m adapter_cls \u001b[39m=\u001b[39m [\u001b[39mcls\u001b[39m \u001b[39mfor\u001b[39;00m \u001b[39mcls\u001b[39m \u001b[39min\u001b[39;00m ALL_ADAPTER_CLS \u001b[39mif\u001b[39;00m \u001b[39mcls\u001b[39m\u001b[39m.\u001b[39mcan_handle(x, y)]\n\u001b[0;32m   1103\u001b[0m \u001b[39mif\u001b[39;00m \u001b[39mnot\u001b[39;00m adapter_cls:\n\u001b[0;32m   1104\u001b[0m     \u001b[39m# TODO(scottzhu): This should be a less implementation-specific error.\u001b[39;00m\n\u001b[1;32m-> 1105\u001b[0m     \u001b[39mraise\u001b[39;00m \u001b[39mValueError\u001b[39;00m(\n\u001b[0;32m   1106\u001b[0m         \u001b[39m\"\u001b[39m\u001b[39mFailed to find data adapter that can handle input: \u001b[39m\u001b[39m{}\u001b[39;00m\u001b[39m, \u001b[39m\u001b[39m{}\u001b[39;00m\u001b[39m\"\u001b[39m\u001b[39m.\u001b[39mformat(\n\u001b[0;32m   1107\u001b[0m             _type_name(x), _type_name(y)\n\u001b[0;32m   1108\u001b[0m         )\n\u001b[0;32m   1109\u001b[0m     )\n\u001b[0;32m   1110\u001b[0m \u001b[39melif\u001b[39;00m \u001b[39mlen\u001b[39m(adapter_cls) \u001b[39m>\u001b[39m \u001b[39m1\u001b[39m:\n\u001b[0;32m   1111\u001b[0m     \u001b[39mraise\u001b[39;00m \u001b[39mRuntimeError\u001b[39;00m(\n\u001b[0;32m   1112\u001b[0m         \u001b[39m\"\u001b[39m\u001b[39mData adapters should be mutually exclusive for \u001b[39m\u001b[39m\"\u001b[39m\n\u001b[0;32m   1113\u001b[0m         \u001b[39m\"\u001b[39m\u001b[39mhandling inputs. Found multiple adapters \u001b[39m\u001b[39m{}\u001b[39;00m\u001b[39m to handle \u001b[39m\u001b[39m\"\u001b[39m\n\u001b[0;32m   1114\u001b[0m         \u001b[39m\"\u001b[39m\u001b[39minput: \u001b[39m\u001b[39m{}\u001b[39;00m\u001b[39m, \u001b[39m\u001b[39m{}\u001b[39;00m\u001b[39m\"\u001b[39m\u001b[39m.\u001b[39mformat(adapter_cls, _type_name(x), _type_name(y))\n\u001b[0;32m   1115\u001b[0m     )\n",
      "\u001b[1;31mValueError\u001b[0m: Failed to find data adapter that can handle input: <class 'NoneType'>, <class 'NoneType'>"
     ]
    }
   ],
   "source": [
    "test_preds = model.predict(fe_test)"
   ]
  },
  {
   "cell_type": "markdown",
   "metadata": {},
   "source": [
    "## 4.2 Validation"
   ]
  },
  {
   "cell_type": "code",
   "execution_count": 94,
   "metadata": {},
   "outputs": [
    {
     "name": "stdout",
     "output_type": "stream",
     "text": [
      "[Voting] ...................... (1 of 2) Processing XGB, total=   0.4s\n",
      "[Voting] ...................... (2 of 2) Processing CAT, total=  18.3s\n"
     ]
    },
    {
     "data": {
      "text/html": [
       "<style>#sk-container-id-3 {color: black;}#sk-container-id-3 pre{padding: 0;}#sk-container-id-3 div.sk-toggleable {background-color: white;}#sk-container-id-3 label.sk-toggleable__label {cursor: pointer;display: block;width: 100%;margin-bottom: 0;padding: 0.3em;box-sizing: border-box;text-align: center;}#sk-container-id-3 label.sk-toggleable__label-arrow:before {content: \"▸\";float: left;margin-right: 0.25em;color: #696969;}#sk-container-id-3 label.sk-toggleable__label-arrow:hover:before {color: black;}#sk-container-id-3 div.sk-estimator:hover label.sk-toggleable__label-arrow:before {color: black;}#sk-container-id-3 div.sk-toggleable__content {max-height: 0;max-width: 0;overflow: hidden;text-align: left;background-color: #f0f8ff;}#sk-container-id-3 div.sk-toggleable__content pre {margin: 0.2em;color: black;border-radius: 0.25em;background-color: #f0f8ff;}#sk-container-id-3 input.sk-toggleable__control:checked~div.sk-toggleable__content {max-height: 200px;max-width: 100%;overflow: auto;}#sk-container-id-3 input.sk-toggleable__control:checked~label.sk-toggleable__label-arrow:before {content: \"▾\";}#sk-container-id-3 div.sk-estimator input.sk-toggleable__control:checked~label.sk-toggleable__label {background-color: #d4ebff;}#sk-container-id-3 div.sk-label input.sk-toggleable__control:checked~label.sk-toggleable__label {background-color: #d4ebff;}#sk-container-id-3 input.sk-hidden--visually {border: 0;clip: rect(1px 1px 1px 1px);clip: rect(1px, 1px, 1px, 1px);height: 1px;margin: -1px;overflow: hidden;padding: 0;position: absolute;width: 1px;}#sk-container-id-3 div.sk-estimator {font-family: monospace;background-color: #f0f8ff;border: 1px dotted black;border-radius: 0.25em;box-sizing: border-box;margin-bottom: 0.5em;}#sk-container-id-3 div.sk-estimator:hover {background-color: #d4ebff;}#sk-container-id-3 div.sk-parallel-item::after {content: \"\";width: 100%;border-bottom: 1px solid gray;flex-grow: 1;}#sk-container-id-3 div.sk-label:hover label.sk-toggleable__label {background-color: #d4ebff;}#sk-container-id-3 div.sk-serial::before {content: \"\";position: absolute;border-left: 1px solid gray;box-sizing: border-box;top: 0;bottom: 0;left: 50%;z-index: 0;}#sk-container-id-3 div.sk-serial {display: flex;flex-direction: column;align-items: center;background-color: white;padding-right: 0.2em;padding-left: 0.2em;position: relative;}#sk-container-id-3 div.sk-item {position: relative;z-index: 1;}#sk-container-id-3 div.sk-parallel {display: flex;align-items: stretch;justify-content: center;background-color: white;position: relative;}#sk-container-id-3 div.sk-item::before, #sk-container-id-3 div.sk-parallel-item::before {content: \"\";position: absolute;border-left: 1px solid gray;box-sizing: border-box;top: 0;bottom: 0;left: 50%;z-index: -1;}#sk-container-id-3 div.sk-parallel-item {display: flex;flex-direction: column;z-index: 1;position: relative;background-color: white;}#sk-container-id-3 div.sk-parallel-item:first-child::after {align-self: flex-end;width: 50%;}#sk-container-id-3 div.sk-parallel-item:last-child::after {align-self: flex-start;width: 50%;}#sk-container-id-3 div.sk-parallel-item:only-child::after {width: 0;}#sk-container-id-3 div.sk-dashed-wrapped {border: 1px dashed gray;margin: 0 0.4em 0.5em 0.4em;box-sizing: border-box;padding-bottom: 0.4em;background-color: white;}#sk-container-id-3 div.sk-label label {font-family: monospace;font-weight: bold;display: inline-block;line-height: 1.2em;}#sk-container-id-3 div.sk-label-container {text-align: center;}#sk-container-id-3 div.sk-container {/* jupyter's `normalize.less` sets `[hidden] { display: none; }` but bootstrap.min.css set `[hidden] { display: none !important; }` so we also need the `!important` here to be able to override the default hidden behavior on the sphinx rendered scikit-learn.org. See: https://github.com/scikit-learn/scikit-learn/issues/21755 */display: inline-block !important;position: relative;}#sk-container-id-3 div.sk-text-repr-fallback {display: none;}</style><div id=\"sk-container-id-3\" class=\"sk-top-container\"><div class=\"sk-text-repr-fallback\"><pre>VotingRegressor(estimators=[(&#x27;XGB&#x27;,\n",
       "                             XGBRegressor(base_score=None, booster=None,\n",
       "                                          callbacks=None,\n",
       "                                          colsample_bylevel=None,\n",
       "                                          colsample_bynode=None,\n",
       "                                          colsample_bytree=0.9, device=None,\n",
       "                                          early_stopping_rounds=None,\n",
       "                                          enable_categorical=False,\n",
       "                                          eval_metric=&#x27;rmse&#x27;,\n",
       "                                          feature_types=None, gamma=None,\n",
       "                                          grow_policy=None,\n",
       "                                          importance_type=None,\n",
       "                                          interaction_constraints=None,\n",
       "                                          learning_rat...\n",
       "                                          max_cat_threshold=None,\n",
       "                                          max_cat_to_onehot=None,\n",
       "                                          max_delta_step=None, max_depth=3,\n",
       "                                          max_leaves=None,\n",
       "                                          min_child_weight=None, missing=nan,\n",
       "                                          monotone_constraints=None,\n",
       "                                          multi_strategy=None, n_estimators=270,\n",
       "                                          n_jobs=None, num_parallel_tree=None,\n",
       "                                          random_state=None, ...)),\n",
       "                            (&#x27;CAT&#x27;,\n",
       "                             &lt;catboost.core.CatBoostRegressor object at 0x000001CF70B36490&gt;)],\n",
       "                verbose=True, weights=[0.3, 0.7])</pre><b>In a Jupyter environment, please rerun this cell to show the HTML representation or trust the notebook. <br />On GitHub, the HTML representation is unable to render, please try loading this page with nbviewer.org.</b></div><div class=\"sk-container\" hidden><div class=\"sk-item sk-dashed-wrapped\"><div class=\"sk-label-container\"><div class=\"sk-label sk-toggleable\"><input class=\"sk-toggleable__control sk-hidden--visually\" id=\"sk-estimator-id-7\" type=\"checkbox\" ><label for=\"sk-estimator-id-7\" class=\"sk-toggleable__label sk-toggleable__label-arrow\">VotingRegressor</label><div class=\"sk-toggleable__content\"><pre>VotingRegressor(estimators=[(&#x27;XGB&#x27;,\n",
       "                             XGBRegressor(base_score=None, booster=None,\n",
       "                                          callbacks=None,\n",
       "                                          colsample_bylevel=None,\n",
       "                                          colsample_bynode=None,\n",
       "                                          colsample_bytree=0.9, device=None,\n",
       "                                          early_stopping_rounds=None,\n",
       "                                          enable_categorical=False,\n",
       "                                          eval_metric=&#x27;rmse&#x27;,\n",
       "                                          feature_types=None, gamma=None,\n",
       "                                          grow_policy=None,\n",
       "                                          importance_type=None,\n",
       "                                          interaction_constraints=None,\n",
       "                                          learning_rat...\n",
       "                                          max_cat_threshold=None,\n",
       "                                          max_cat_to_onehot=None,\n",
       "                                          max_delta_step=None, max_depth=3,\n",
       "                                          max_leaves=None,\n",
       "                                          min_child_weight=None, missing=nan,\n",
       "                                          monotone_constraints=None,\n",
       "                                          multi_strategy=None, n_estimators=270,\n",
       "                                          n_jobs=None, num_parallel_tree=None,\n",
       "                                          random_state=None, ...)),\n",
       "                            (&#x27;CAT&#x27;,\n",
       "                             &lt;catboost.core.CatBoostRegressor object at 0x000001CF70B36490&gt;)],\n",
       "                verbose=True, weights=[0.3, 0.7])</pre></div></div></div><div class=\"sk-parallel\"><div class=\"sk-parallel-item\"><div class=\"sk-item\"><div class=\"sk-label-container\"><div class=\"sk-label sk-toggleable\"><label>XGB</label></div></div><div class=\"sk-serial\"><div class=\"sk-item\"><div class=\"sk-estimator sk-toggleable\"><input class=\"sk-toggleable__control sk-hidden--visually\" id=\"sk-estimator-id-8\" type=\"checkbox\" ><label for=\"sk-estimator-id-8\" class=\"sk-toggleable__label sk-toggleable__label-arrow\">XGBRegressor</label><div class=\"sk-toggleable__content\"><pre>XGBRegressor(base_score=None, booster=None, callbacks=None,\n",
       "             colsample_bylevel=None, colsample_bynode=None,\n",
       "             colsample_bytree=0.9, device=None, early_stopping_rounds=None,\n",
       "             enable_categorical=False, eval_metric=&#x27;rmse&#x27;, feature_types=None,\n",
       "             gamma=None, grow_policy=None, importance_type=None,\n",
       "             interaction_constraints=None, learning_rate=0.06, max_bin=None,\n",
       "             max_cat_threshold=None, max_cat_to_onehot=None,\n",
       "             max_delta_step=None, max_depth=3, max_leaves=None,\n",
       "             min_child_weight=None, missing=nan, monotone_constraints=None,\n",
       "             multi_strategy=None, n_estimators=270, n_jobs=None,\n",
       "             num_parallel_tree=None, random_state=None, ...)</pre></div></div></div></div></div></div><div class=\"sk-parallel-item\"><div class=\"sk-item\"><div class=\"sk-label-container\"><div class=\"sk-label sk-toggleable\"><label>CAT</label></div></div><div class=\"sk-serial\"><div class=\"sk-item\"><div class=\"sk-estimator sk-toggleable\"><input class=\"sk-toggleable__control sk-hidden--visually\" id=\"sk-estimator-id-9\" type=\"checkbox\" ><label for=\"sk-estimator-id-9\" class=\"sk-toggleable__label sk-toggleable__label-arrow\">CatBoostRegressor</label><div class=\"sk-toggleable__content\"><pre>&lt;catboost.core.CatBoostRegressor object at 0x000001CF70B36490&gt;</pre></div></div></div></div></div></div></div></div></div></div>"
      ],
      "text/plain": [
       "VotingRegressor(estimators=[('XGB',\n",
       "                             XGBRegressor(base_score=None, booster=None,\n",
       "                                          callbacks=None,\n",
       "                                          colsample_bylevel=None,\n",
       "                                          colsample_bynode=None,\n",
       "                                          colsample_bytree=0.9, device=None,\n",
       "                                          early_stopping_rounds=None,\n",
       "                                          enable_categorical=False,\n",
       "                                          eval_metric='rmse',\n",
       "                                          feature_types=None, gamma=None,\n",
       "                                          grow_policy=None,\n",
       "                                          importance_type=None,\n",
       "                                          interaction_constraints=None,\n",
       "                                          learning_rat...\n",
       "                                          max_cat_threshold=None,\n",
       "                                          max_cat_to_onehot=None,\n",
       "                                          max_delta_step=None, max_depth=3,\n",
       "                                          max_leaves=None,\n",
       "                                          min_child_weight=None, missing=nan,\n",
       "                                          monotone_constraints=None,\n",
       "                                          multi_strategy=None, n_estimators=270,\n",
       "                                          n_jobs=None, num_parallel_tree=None,\n",
       "                                          random_state=None, ...)),\n",
       "                            ('CAT',\n",
       "                             <catboost.core.CatBoostRegressor object at 0x000001CF70B36490>)],\n",
       "                verbose=True, weights=[0.3, 0.7])"
      ]
     },
     "execution_count": 94,
     "metadata": {},
     "output_type": "execute_result"
    }
   ],
   "source": [
    "ensemble_clf.fit(X_train,y_train)"
   ]
  },
  {
   "cell_type": "code",
   "execution_count": 95,
   "metadata": {},
   "outputs": [
    {
     "name": "stdout",
     "output_type": "stream",
     "text": [
      "[MedAE]:\t\t 0.46553087218412714\n"
     ]
    }
   ],
   "source": [
    "print(\"[MedAE]:\\t\\t\", ensemble_clf.score(X_val,y_val))"
   ]
  },
  {
   "cell_type": "markdown",
   "metadata": {},
   "source": [
    "## 5. Test Preparation"
   ]
  },
  {
   "cell_type": "code",
   "execution_count": 96,
   "metadata": {},
   "outputs": [
    {
     "ename": "XGBoostError",
     "evalue": "[23:35:40] C:\\buildkite-agent\\builds\\buildkite-windows-cpu-autoscaling-group-i-0750514818a16474a-1\\xgboost\\xgboost-ci-windows\\src\\c_api\\c_api.cc:651: DMatrix/Booster has not been initialized or has already been disposed.",
     "output_type": "error",
     "traceback": [
      "\u001b[1;31m---------------------------------------------------------------------------\u001b[0m",
      "\u001b[1;31mXGBoostError\u001b[0m                              Traceback (most recent call last)",
      "\u001b[1;32mc:\\Users\\tudor\\Documents\\GIT\\2023_MOHS_HARDNESS_REGRESSION\\mohs_bronze.ipynb Cell 35\u001b[0m line \u001b[0;36m1\n\u001b[1;32m----> <a href='vscode-notebook-cell:/c%3A/Users/tudor/Documents/GIT/2023_MOHS_HARDNESS_REGRESSION/mohs_bronze.ipynb#X41sZmlsZQ%3D%3D?line=0'>1</a>\u001b[0m test_preds \u001b[39m=\u001b[39m ensemble_clf\u001b[39m.\u001b[39;49mpredict(fe_test)\n",
      "File \u001b[1;32mc:\\Users\\tudor\\Documents\\GIT\\2023_MOHS_HARDNESS_REGRESSION\\.venv\\Lib\\site-packages\\sklearn\\ensemble\\_voting.py:624\u001b[0m, in \u001b[0;36mVotingRegressor.predict\u001b[1;34m(self, X)\u001b[0m\n\u001b[0;32m    608\u001b[0m \u001b[39m\u001b[39m\u001b[39m\"\"\"Predict regression target for X.\u001b[39;00m\n\u001b[0;32m    609\u001b[0m \n\u001b[0;32m    610\u001b[0m \u001b[39mThe predicted regression target of an input sample is computed as the\u001b[39;00m\n\u001b[1;32m   (...)\u001b[0m\n\u001b[0;32m    621\u001b[0m \u001b[39m    The predicted values.\u001b[39;00m\n\u001b[0;32m    622\u001b[0m \u001b[39m\"\"\"\u001b[39;00m\n\u001b[0;32m    623\u001b[0m check_is_fitted(\u001b[39mself\u001b[39m)\n\u001b[1;32m--> 624\u001b[0m \u001b[39mreturn\u001b[39;00m np\u001b[39m.\u001b[39maverage(\u001b[39mself\u001b[39;49m\u001b[39m.\u001b[39;49m_predict(X), axis\u001b[39m=\u001b[39m\u001b[39m1\u001b[39m, weights\u001b[39m=\u001b[39m\u001b[39mself\u001b[39m\u001b[39m.\u001b[39m_weights_not_none)\n",
      "File \u001b[1;32mc:\\Users\\tudor\\Documents\\GIT\\2023_MOHS_HARDNESS_REGRESSION\\.venv\\Lib\\site-packages\\sklearn\\ensemble\\_voting.py:68\u001b[0m, in \u001b[0;36m_BaseVoting._predict\u001b[1;34m(self, X)\u001b[0m\n\u001b[0;32m     66\u001b[0m \u001b[39mdef\u001b[39;00m \u001b[39m_predict\u001b[39m(\u001b[39mself\u001b[39m, X):\n\u001b[0;32m     67\u001b[0m \u001b[39m    \u001b[39m\u001b[39m\"\"\"Collect results from clf.predict calls.\"\"\"\u001b[39;00m\n\u001b[1;32m---> 68\u001b[0m     \u001b[39mreturn\u001b[39;00m np\u001b[39m.\u001b[39masarray([est\u001b[39m.\u001b[39;49mpredict(X) \u001b[39mfor\u001b[39;49;00m est \u001b[39min\u001b[39;49;00m \u001b[39mself\u001b[39;49m\u001b[39m.\u001b[39;49mestimators_])\u001b[39m.\u001b[39mT\n",
      "File \u001b[1;32mc:\\Users\\tudor\\Documents\\GIT\\2023_MOHS_HARDNESS_REGRESSION\\.venv\\Lib\\site-packages\\sklearn\\ensemble\\_voting.py:68\u001b[0m, in \u001b[0;36m<listcomp>\u001b[1;34m(.0)\u001b[0m\n\u001b[0;32m     66\u001b[0m \u001b[39mdef\u001b[39;00m \u001b[39m_predict\u001b[39m(\u001b[39mself\u001b[39m, X):\n\u001b[0;32m     67\u001b[0m \u001b[39m    \u001b[39m\u001b[39m\"\"\"Collect results from clf.predict calls.\"\"\"\u001b[39;00m\n\u001b[1;32m---> 68\u001b[0m     \u001b[39mreturn\u001b[39;00m np\u001b[39m.\u001b[39masarray([est\u001b[39m.\u001b[39;49mpredict(X) \u001b[39mfor\u001b[39;00m est \u001b[39min\u001b[39;00m \u001b[39mself\u001b[39m\u001b[39m.\u001b[39mestimators_])\u001b[39m.\u001b[39mT\n",
      "File \u001b[1;32mc:\\Users\\tudor\\Documents\\GIT\\2023_MOHS_HARDNESS_REGRESSION\\.venv\\Lib\\site-packages\\xgboost\\sklearn.py:1189\u001b[0m, in \u001b[0;36mXGBModel.predict\u001b[1;34m(self, X, output_margin, validate_features, base_margin, iteration_range)\u001b[0m\n\u001b[0;32m   1179\u001b[0m         \u001b[39mpass\u001b[39;00m\n\u001b[0;32m   1181\u001b[0m test \u001b[39m=\u001b[39m DMatrix(\n\u001b[0;32m   1182\u001b[0m     X,\n\u001b[0;32m   1183\u001b[0m     base_margin\u001b[39m=\u001b[39mbase_margin,\n\u001b[1;32m   (...)\u001b[0m\n\u001b[0;32m   1187\u001b[0m     enable_categorical\u001b[39m=\u001b[39m\u001b[39mself\u001b[39m\u001b[39m.\u001b[39menable_categorical,\n\u001b[0;32m   1188\u001b[0m )\n\u001b[1;32m-> 1189\u001b[0m \u001b[39mreturn\u001b[39;00m \u001b[39mself\u001b[39;49m\u001b[39m.\u001b[39;49mget_booster()\u001b[39m.\u001b[39;49mpredict(\n\u001b[0;32m   1190\u001b[0m     data\u001b[39m=\u001b[39;49mtest,\n\u001b[0;32m   1191\u001b[0m     iteration_range\u001b[39m=\u001b[39;49miteration_range,\n\u001b[0;32m   1192\u001b[0m     output_margin\u001b[39m=\u001b[39;49moutput_margin,\n\u001b[0;32m   1193\u001b[0m     validate_features\u001b[39m=\u001b[39;49mvalidate_features,\n\u001b[0;32m   1194\u001b[0m )\n",
      "File \u001b[1;32mc:\\Users\\tudor\\Documents\\GIT\\2023_MOHS_HARDNESS_REGRESSION\\.venv\\Lib\\site-packages\\xgboost\\core.py:2270\u001b[0m, in \u001b[0;36mBooster.predict\u001b[1;34m(self, data, output_margin, pred_leaf, pred_contribs, approx_contribs, pred_interactions, validate_features, training, iteration_range, strict_shape)\u001b[0m\n\u001b[0;32m   2268\u001b[0m     \u001b[39mraise\u001b[39;00m \u001b[39mTypeError\u001b[39;00m(\u001b[39m\"\u001b[39m\u001b[39mExpecting data to be a DMatrix object, got: \u001b[39m\u001b[39m\"\u001b[39m, \u001b[39mtype\u001b[39m(data))\n\u001b[0;32m   2269\u001b[0m \u001b[39mif\u001b[39;00m validate_features:\n\u001b[1;32m-> 2270\u001b[0m     fn \u001b[39m=\u001b[39m data\u001b[39m.\u001b[39;49mfeature_names\n\u001b[0;32m   2271\u001b[0m     \u001b[39mself\u001b[39m\u001b[39m.\u001b[39m_validate_features(fn)\n\u001b[0;32m   2272\u001b[0m args \u001b[39m=\u001b[39m {\n\u001b[0;32m   2273\u001b[0m     \u001b[39m\"\u001b[39m\u001b[39mtype\u001b[39m\u001b[39m\"\u001b[39m: \u001b[39m0\u001b[39m,\n\u001b[0;32m   2274\u001b[0m     \u001b[39m\"\u001b[39m\u001b[39mtraining\u001b[39m\u001b[39m\"\u001b[39m: training,\n\u001b[1;32m   (...)\u001b[0m\n\u001b[0;32m   2277\u001b[0m     \u001b[39m\"\u001b[39m\u001b[39mstrict_shape\u001b[39m\u001b[39m\"\u001b[39m: strict_shape,\n\u001b[0;32m   2278\u001b[0m }\n",
      "File \u001b[1;32mc:\\Users\\tudor\\Documents\\GIT\\2023_MOHS_HARDNESS_REGRESSION\\.venv\\Lib\\site-packages\\xgboost\\core.py:1277\u001b[0m, in \u001b[0;36mDMatrix.feature_names\u001b[1;34m(self)\u001b[0m\n\u001b[0;32m   1275\u001b[0m length \u001b[39m=\u001b[39m c_bst_ulong()\n\u001b[0;32m   1276\u001b[0m sarr \u001b[39m=\u001b[39m ctypes\u001b[39m.\u001b[39mPOINTER(ctypes\u001b[39m.\u001b[39mc_char_p)()\n\u001b[1;32m-> 1277\u001b[0m _check_call(\n\u001b[0;32m   1278\u001b[0m     _LIB\u001b[39m.\u001b[39;49mXGDMatrixGetStrFeatureInfo(\n\u001b[0;32m   1279\u001b[0m         \u001b[39mself\u001b[39;49m\u001b[39m.\u001b[39;49mhandle,\n\u001b[0;32m   1280\u001b[0m         c_str(\u001b[39m\"\u001b[39;49m\u001b[39mfeature_name\u001b[39;49m\u001b[39m\"\u001b[39;49m),\n\u001b[0;32m   1281\u001b[0m         ctypes\u001b[39m.\u001b[39;49mbyref(length),\n\u001b[0;32m   1282\u001b[0m         ctypes\u001b[39m.\u001b[39;49mbyref(sarr),\n\u001b[0;32m   1283\u001b[0m     )\n\u001b[0;32m   1284\u001b[0m )\n\u001b[0;32m   1285\u001b[0m feature_names \u001b[39m=\u001b[39m from_cstr_to_pystr(sarr, length)\n\u001b[0;32m   1286\u001b[0m \u001b[39mif\u001b[39;00m \u001b[39mnot\u001b[39;00m feature_names:\n",
      "File \u001b[1;32mc:\\Users\\tudor\\Documents\\GIT\\2023_MOHS_HARDNESS_REGRESSION\\.venv\\Lib\\site-packages\\xgboost\\core.py:281\u001b[0m, in \u001b[0;36m_check_call\u001b[1;34m(ret)\u001b[0m\n\u001b[0;32m    270\u001b[0m \u001b[39m\u001b[39m\u001b[39m\"\"\"Check the return value of C API call\u001b[39;00m\n\u001b[0;32m    271\u001b[0m \n\u001b[0;32m    272\u001b[0m \u001b[39mThis function will raise exception when error occurs.\u001b[39;00m\n\u001b[1;32m   (...)\u001b[0m\n\u001b[0;32m    278\u001b[0m \u001b[39m    return value from API calls\u001b[39;00m\n\u001b[0;32m    279\u001b[0m \u001b[39m\"\"\"\u001b[39;00m\n\u001b[0;32m    280\u001b[0m \u001b[39mif\u001b[39;00m ret \u001b[39m!=\u001b[39m \u001b[39m0\u001b[39m:\n\u001b[1;32m--> 281\u001b[0m     \u001b[39mraise\u001b[39;00m XGBoostError(py_str(_LIB\u001b[39m.\u001b[39mXGBGetLastError()))\n",
      "\u001b[1;31mXGBoostError\u001b[0m: [23:35:40] C:\\buildkite-agent\\builds\\buildkite-windows-cpu-autoscaling-group-i-0750514818a16474a-1\\xgboost\\xgboost-ci-windows\\src\\c_api\\c_api.cc:651: DMatrix/Booster has not been initialized or has already been disposed."
     ]
    }
   ],
   "source": [
    "test_preds = ensemble_clf.predict(fe_test)"
   ]
  },
  {
   "cell_type": "markdown",
   "metadata": {},
   "source": [
    "## Kaggle submission"
   ]
  },
  {
   "cell_type": "code",
   "execution_count": null,
   "metadata": {},
   "outputs": [],
   "source": [
    "sample_df = pd.read_csv('data/sample_submission.csv')\n",
    "sample_df['Hardness'] = test_preds  \n",
    "\n",
    "sample_df.to_csv('data/sample_submission.csv', index=False)"
   ]
  }
 ],
 "metadata": {
  "kernelspec": {
   "display_name": ".venv",
   "language": "python",
   "name": "python3"
  },
  "language_info": {
   "codemirror_mode": {
    "name": "ipython",
    "version": 3
   },
   "file_extension": ".py",
   "mimetype": "text/x-python",
   "name": "python",
   "nbconvert_exporter": "python",
   "pygments_lexer": "ipython3",
   "version": "3.11.0"
  }
 },
 "nbformat": 4,
 "nbformat_minor": 2
}
