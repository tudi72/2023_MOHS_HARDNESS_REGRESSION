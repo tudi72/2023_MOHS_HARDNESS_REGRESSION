{
 "cells": [
  {
   "cell_type": "code",
   "execution_count": 84,
   "metadata": {},
   "outputs": [
    {
     "name": "stdout",
     "output_type": "stream",
     "text": [
      "The autoreload extension is already loaded. To reload it, use:\n",
      "  %reload_ext autoreload\n"
     ]
    }
   ],
   "source": [
    "%load_ext autoreload \n",
    "%autoreload 2"
   ]
  },
  {
   "cell_type": "code",
   "execution_count": 85,
   "metadata": {},
   "outputs": [],
   "source": [
    "from src.acquisition import *"
   ]
  },
  {
   "cell_type": "code",
   "execution_count": 86,
   "metadata": {},
   "outputs": [],
   "source": [
    "import pandas as pd \n",
    "import xgboost as xgb                                                           # gradient boosting algorithm\n",
    "import optuna                                                                   # hyperparameter optimization\n",
    "from catboost import CatBoostRegressor, Pool                                    # gradient boosting algorithm\n",
    "import numpy as np\n",
    "\n",
    "\n",
    "from sklearn.linear_model import LogisticRegression                             # linear fitting\n",
    "from sklearn.ensemble import HistGradientBoostingClassifier, IsolationForest    # histogram boosting for NaN, IsolationForest?\n",
    "from sklearn.cluster import KMeans                                              # K Means technique\n",
    "from sklearn.neighbors import NearestNeighbors                                  # nearest neighbor \n",
    "\n",
    "from sklearn.model_selection import KFold, train_test_split, StratifiedGroupKFold\n",
    "from sklearn.model_selection import cross_val_score, cross_val_predict  \n",
    "from sklearn.metrics import mean_absolute_error, median_absolute_error, mean_squared_error\n",
    "\n",
    "from sklearn.preprocessing import StandardScaler, MinMaxScaler, RobustScaler\n",
    "import matplotlib.pyplot as plt\n",
    "import seaborn as sns\n",
    "\n",
    "import warnings\n",
    "warnings.filterwarnings('ignore')\n",
    "\n",
    "pd.options.display.float_format = '{:,.3f}'.format\n",
    "pd.set_option('display.max_columns', 15) \n",
    "pd.set_option('display.max_rows', 50)\n",
    "\n",
    "seed = np.random.seed(578)"
   ]
  },
  {
   "cell_type": "markdown",
   "metadata": {},
   "source": [
    "## 1. Data acquisition"
   ]
  },
  {
   "cell_type": "markdown",
   "metadata": {},
   "source": [
    "## 1.2 $\\textbf{3DSC}$ Database\n",
    "$\\textit{https://github.com/aimat-lab/3DSC}$ superconductor database "
   ]
  },
  {
   "cell_type": "code",
   "execution_count": 87,
   "metadata": {},
   "outputs": [],
   "source": [
    "train_path   = 'data/train.csv'\n",
    "test_path    = 'data/test.csv'\n",
    "crystal_path = 'data/Artificial_Crystals_Dataset.csv'\n",
    "mineral_path = 'data/Mineral_Dataset_Supplementary_Info.csv'"
   ]
  },
  {
   "cell_type": "code",
   "execution_count": 88,
   "metadata": {},
   "outputs": [],
   "source": [
    "train = acquisition_pipeline(path=train_path,drop_cols='id')\n",
    "test = acquisition_pipeline(path=test_path,drop_cols='id')\n",
    "crystal = acquisition_pipeline(path=crystal_path,drop_cols='Unnamed: 0',fill_NA_col='Crystal structure')\n",
    "mineral = acquisition_pipeline(path=mineral_path)"
   ]
  },
  {
   "cell_type": "code",
   "execution_count": 89,
   "metadata": {},
   "outputs": [
    {
     "name": "stdout",
     "output_type": "stream",
     "text": [
      "<class 'pandas.core.frame.DataFrame'>\n",
      "RangeIndex: 52 entries, 0 to 51\n",
      "Data columns (total 14 columns):\n",
      " #   Column                 Non-Null Count  Dtype  \n",
      "---  ------                 --------------  -----  \n",
      " 0   Formula                52 non-null     object \n",
      " 1   Crystal structure      52 non-null     object \n",
      " 2   Hardness (Mohs)        52 non-null     float64\n",
      " 3   allelectrons_Total     52 non-null     float64\n",
      " 4   density_Total          52 non-null     float64\n",
      " 5   allelectrons_Average   52 non-null     float64\n",
      " 6   val_e_Average          52 non-null     float64\n",
      " 7   atomicweight_Average   52 non-null     float64\n",
      " 8   ionenergy_Average      52 non-null     float64\n",
      " 9   el_neg_chi_Average     52 non-null     float64\n",
      " 10  R_vdw_element_Average  52 non-null     float64\n",
      " 11  R_cov_element_Average  52 non-null     float64\n",
      " 12  zaratio_Average        52 non-null     float64\n",
      " 13  density_Average        52 non-null     float64\n",
      "dtypes: float64(12), object(2)\n",
      "memory usage: 5.8+ KB\n"
     ]
    }
   ],
   "source": [
    "crystal.info()"
   ]
  },
  {
   "cell_type": "code",
   "execution_count": 90,
   "metadata": {},
   "outputs": [
    {
     "name": "stdout",
     "output_type": "stream",
     "text": [
      "<class 'pandas.core.frame.DataFrame'>\n",
      "RangeIndex: 10407 entries, 0 to 10406\n",
      "Data columns (total 12 columns):\n",
      " #   Column                 Non-Null Count  Dtype  \n",
      "---  ------                 --------------  -----  \n",
      " 0   allelectrons_Total     10407 non-null  float64\n",
      " 1   density_Total          10407 non-null  float64\n",
      " 2   allelectrons_Average   10407 non-null  float64\n",
      " 3   val_e_Average          10407 non-null  float64\n",
      " 4   atomicweight_Average   10407 non-null  float64\n",
      " 5   ionenergy_Average      10407 non-null  float64\n",
      " 6   el_neg_chi_Average     10407 non-null  float64\n",
      " 7   R_vdw_element_Average  10407 non-null  float64\n",
      " 8   R_cov_element_Average  10407 non-null  float64\n",
      " 9   zaratio_Average        10407 non-null  float64\n",
      " 10  density_Average        10407 non-null  float64\n",
      " 11  Hardness               10407 non-null  float64\n",
      "dtypes: float64(12)\n",
      "memory usage: 975.8 KB\n"
     ]
    }
   ],
   "source": [
    "train.info()"
   ]
  }
 ],
 "metadata": {
  "kernelspec": {
   "display_name": ".venv",
   "language": "python",
   "name": "python3"
  },
  "language_info": {
   "codemirror_mode": {
    "name": "ipython",
    "version": 3
   },
   "file_extension": ".py",
   "mimetype": "text/x-python",
   "name": "python",
   "nbconvert_exporter": "python",
   "pygments_lexer": "ipython3",
   "version": "3.11.0"
  }
 },
 "nbformat": 4,
 "nbformat_minor": 2
}
