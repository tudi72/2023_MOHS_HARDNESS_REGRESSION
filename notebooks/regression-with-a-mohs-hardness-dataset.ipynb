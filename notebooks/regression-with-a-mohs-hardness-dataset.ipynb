{
 "cells": [
  {
   "cell_type": "markdown",
   "id": "139739ea",
   "metadata": {
    "papermill": {
     "duration": 0.024301,
     "end_time": "2023-11-26T04:11:38.331040",
     "exception": false,
     "start_time": "2023-11-26T04:11:38.306739",
     "status": "completed"
    },
    "tags": []
   },
   "source": [
    "# Regression with a Mohs Hardness Dataset  🌿 \n",
    "## Playground Series - Season 3, Episode 25\n",
    "\n",
    "\n",
    "### Welcome to my Kaggle notebook. \n",
    "\n",
    "The objective here was straightforward: to create a quick yet effective model with competitive performance. Initially, I began with a basic Linear Regression (LR) model, then progressed to a more sophisticated approach using XGBoost (XGB). Despite these efforts, my predictions did not achieve the desired level of performance. Consequently, I delved into studying numerous other notebooks for insights, references to which you can find in the credits section. I am confident that the strategies and methods outlined in this notebook can help you achieve a strong score.\n",
    "...\n",
    "* **Data Integration:** Begin by loading and merging all available datasets: Train, Crystals, and Minerals.\n",
    "* **Feature Engineering with Crystals Dataset:** Use the Crystals dataset to extract structural information. This will not only assist in estimating values for both the Train and Test datasets but also serve as an additional feature.\n",
    "* **Duplicate Removal:** Post integration, ensure to eliminate any duplicates that arise.\n",
    "* **Correlation Analysis:** Conduct a thorough correlation check among features. Important: perform this step after duplicate removal to avoid excessive data loss.\n",
    "* **Model Training - Level One:** Start by training a conventional machine learning model.\n",
    "* **Advanced Model Training - Level Two:** Progress to training a second-level model, incorporating weight classes from the first-level model. For an in-depth understanding, refer to this excellent discussion: Kaggle Discussion.\n",
    "* **Model Blending:** Enhance your approach by blending various models, including GBDT, LR, NN, and others, to create a more robust predictive model.\n",
    "* **Cross-Validation for Prediction:** Implement a Cross-Validation loop to generate predictions, ensuring model reliability and accuracy.\n",
    "* **Submission:** Finally, submit your model's predictions.\n",
    "\n",
    "### Here is a quick Overview of the Dataset...\n",
    "**Description**\n",
    "The dataset for this competition (both train and test) was generated from a deep learning model trained on the Prediction of Mohs Hardness with Machine Learning dataset. Feature distributions are close to, but not exactly the same, as the original. Feel free to use the original dataset as part of this competition, both to explore differences as well as to see whether incorporating the original in training improves model performance.\n",
    "\n",
    "Explanation of each feature can be found in the paper *Prediction of Mohs Hardness with Machine Learning Methods* by Joy C.Garnet.\n",
    "\n",
    "* **allelectrons_Total:** Total number of electrons\n",
    "* **density_Total:** Total elemental density\n",
    "* **allelectrons_Average**: Atomic average number of electrons\n",
    "* **val_e_Average**: Atomic average number of valence electrons\n",
    "* **atomicweight_Average**: Atomic average atomic weight\n",
    "* **ionenergy_Average**: Atomic average frst IE\n",
    "* **el_neg_chi_Average**: Atomic average Pauling electronegativity of the most common oxidation state\n",
    "* **R_vdw_element_Average**: Atomic average van der Waals atomic radius\n",
    "* **R_cov_element_Average**: Atomic average covalent atomic radius\n",
    "* **zaratio_Average**: Atomic average atomic number to mass number ratio\n",
    "* **density_Average**: Atomic average elemental density\n",
    "* **Hardness**: Mohs hardness (target)\n",
    "\n",
    "In order to achive the steps described avobe we will do the following.\n",
    "* 1. Load the datasets.\n",
    "* 2. Configuring the notebook.\n",
    "* 3. Exploring the dataset.\n",
    "* 4. ....\n",
    "* 5. ....\n",
    "\n",
    "Credits\n",
    "\n",
    "* https://www.kaggle.com/code/yantxx/catboost-regressor-mohs-hardness-prediction"
   ]
  },
  {
   "cell_type": "markdown",
   "id": "fc507b96",
   "metadata": {
    "papermill": {
     "duration": 0.020392,
     "end_time": "2023-11-26T04:11:38.375330",
     "exception": false,
     "start_time": "2023-11-26T04:11:38.354938",
     "status": "completed"
    },
    "tags": []
   },
   "source": [
    "---"
   ]
  },
  {
   "cell_type": "markdown",
   "id": "dbc673d4",
   "metadata": {
    "papermill": {
     "duration": 0.020236,
     "end_time": "2023-11-26T04:11:38.416833",
     "exception": false,
     "start_time": "2023-11-26T04:11:38.396597",
     "status": "completed"
    },
    "tags": []
   },
   "source": [
    "# 1.0 Notebook Libraries..."
   ]
  },
  {
   "cell_type": "code",
   "execution_count": 2,
   "id": "efb4cc4d",
   "metadata": {
    "execution": {
     "iopub.execute_input": "2023-11-26T04:11:39.264477Z",
     "iopub.status.busy": "2023-11-26T04:11:39.264048Z",
     "iopub.status.idle": "2023-11-26T04:11:42.171767Z",
     "shell.execute_reply": "2023-11-26T04:11:42.170935Z"
    },
    "papermill": {
     "duration": 2.931462,
     "end_time": "2023-11-26T04:11:42.174131",
     "exception": false,
     "start_time": "2023-11-26T04:11:39.242669",
     "status": "completed"
    },
    "tags": []
   },
   "outputs": [
    {
     "name": "stderr",
     "output_type": "stream",
     "text": [
      "c:\\Users\\tudor\\Documents\\GIT\\2023_MOHS_HARDNESS_REGRESSION\\.venv\\Lib\\site-packages\\tqdm\\auto.py:21: TqdmWarning: IProgress not found. Please update jupyter and ipywidgets. See https://ipywidgets.readthedocs.io/en/stable/user_install.html\n",
      "  from .autonotebook import tqdm as notebook_tqdm\n"
     ]
    }
   ],
   "source": [
    "# General libraries\n",
    "import pandas as pd\n",
    "import xgboost as xgb\n",
    "import optuna\n",
    "\n",
    "# Machine Learning models\n",
    "from sklearn.linear_model import LogisticRegression\n",
    "from sklearn.ensemble import HistGradientBoostingClassifier, IsolationForest\n",
    "from sklearn.cluster import KMeans\n",
    "from sklearn.neighbors import NearestNeighbors\n",
    "from catboost import CatBoostRegressor, Pool\n",
    "\n",
    "# Model evaluation and metrics\n",
    "from sklearn.model_selection import KFold, train_test_split, StratifiedKFold\n",
    "from sklearn.model_selection import cross_val_score, cross_val_predict\n",
    "from sklearn.metrics import mean_absolute_error, median_absolute_error, mean_squared_error\n",
    "\n",
    "# Data preprocessing\n",
    "from sklearn.preprocessing import StandardScaler, MinMaxScaler, RobustScaler\n",
    "import matplotlib.pyplot as plt\n",
    "import seaborn as sns"
   ]
  },
  {
   "cell_type": "markdown",
   "id": "0c40eb40",
   "metadata": {
    "papermill": {
     "duration": 0.020279,
     "end_time": "2023-11-26T04:11:42.215487",
     "exception": false,
     "start_time": "2023-11-26T04:11:42.195208",
     "status": "completed"
    },
    "tags": []
   },
   "source": [
    "---"
   ]
  },
  {
   "cell_type": "markdown",
   "id": "290d62d2",
   "metadata": {
    "papermill": {
     "duration": 0.086119,
     "end_time": "2023-11-26T04:11:42.326041",
     "exception": false,
     "start_time": "2023-11-26T04:11:42.239922",
     "status": "completed"
    },
    "tags": []
   },
   "source": [
    "# 2.0 Notebook Configuration..."
   ]
  },
  {
   "cell_type": "code",
   "execution_count": 3,
   "id": "c386b685",
   "metadata": {
    "execution": {
     "iopub.execute_input": "2023-11-26T04:11:42.374542Z",
     "iopub.status.busy": "2023-11-26T04:11:42.374198Z",
     "iopub.status.idle": "2023-11-26T04:11:42.380373Z",
     "shell.execute_reply": "2023-11-26T04:11:42.379416Z"
    },
    "papermill": {
     "duration": 0.030043,
     "end_time": "2023-11-26T04:11:42.382605",
     "exception": false,
     "start_time": "2023-11-26T04:11:42.352562",
     "status": "completed"
    },
    "tags": []
   },
   "outputs": [
    {
     "name": "stdout",
     "output_type": "stream",
     "text": [
      "CPU times: total: 0 ns\n",
      "Wall time: 0 ns\n"
     ]
    }
   ],
   "source": [
    "%%time\n",
    "# I like to disable my Notebook Warnings.\n",
    "import warnings\n",
    "warnings.filterwarnings('ignore')\n",
    "\n",
    "# Configure notebook display settings to only use 2 decimal places, tables look nicer.\n",
    "pd.options.display.float_format = '{:,.3f}'.format\n",
    "pd.set_option('display.max_columns', 15) \n",
    "pd.set_option('display.max_rows', 50)\n",
    "\n",
    "# Define some of the notebook parameters for future experiment replication.\n",
    "SEED   = 578"
   ]
  },
  {
   "cell_type": "markdown",
   "id": "d1b2e888",
   "metadata": {
    "papermill": {
     "duration": 0.022906,
     "end_time": "2023-11-26T04:11:42.425943",
     "exception": false,
     "start_time": "2023-11-26T04:11:42.403037",
     "status": "completed"
    },
    "tags": []
   },
   "source": [
    "---"
   ]
  },
  {
   "cell_type": "markdown",
   "id": "968a1146",
   "metadata": {
    "papermill": {
     "duration": 0.020959,
     "end_time": "2023-11-26T04:11:42.467889",
     "exception": false,
     "start_time": "2023-11-26T04:11:42.446930",
     "status": "completed"
    },
    "tags": []
   },
   "source": [
    "# 3.0 Loading the Datasets..."
   ]
  },
  {
   "cell_type": "code",
   "execution_count": 4,
   "id": "5b3c948a",
   "metadata": {
    "execution": {
     "iopub.execute_input": "2023-11-26T04:11:42.517599Z",
     "iopub.status.busy": "2023-11-26T04:11:42.517280Z",
     "iopub.status.idle": "2023-11-26T04:11:42.626465Z",
     "shell.execute_reply": "2023-11-26T04:11:42.625595Z"
    },
    "papermill": {
     "duration": 0.134249,
     "end_time": "2023-11-26T04:11:42.629771",
     "exception": false,
     "start_time": "2023-11-26T04:11:42.495522",
     "status": "completed"
    },
    "tags": []
   },
   "outputs": [
    {
     "name": "stdout",
     "output_type": "stream",
     "text": [
      "An error occurred: [Errno 2] No such file or directory: '/kaggle/input/playground-series-s3e25/train.csv'\n",
      "An error occurred: [Errno 2] No such file or directory: '/kaggle/input/playground-series-s3e25/test.csv'\n",
      "An error occurred: [Errno 2] No such file or directory: '/kaggle/input/prediction-of-mohs-hardness-with-machine-learning/jm79zfps6b-1/Artificial_Crystals_Dataset.csv'\n"
     ]
    },
    {
     "ename": "AttributeError",
     "evalue": "'NoneType' object has no attribute 'drop'",
     "output_type": "error",
     "traceback": [
      "\u001b[1;31m---------------------------------------------------------------------------\u001b[0m",
      "\u001b[1;31mAttributeError\u001b[0m                            Traceback (most recent call last)",
      "File \u001b[1;32m<timed exec>:28\u001b[0m\n",
      "\u001b[1;31mAttributeError\u001b[0m: 'NoneType' object has no attribute 'drop'"
     ]
    }
   ],
   "source": [
    "%%time\n",
    "# Create a function to read the Datasets...\n",
    "\n",
    "def read_csv_to_dataframe(file_path):\n",
    "    \"\"\"\n",
    "    Reads a CSV file from the given file path and returns a pandas DataFrame.\n",
    "\n",
    "    :param file_path: str, the path to the CSV file.\n",
    "    :return: pandas.DataFrame, the data from the CSV file.\n",
    "    \"\"\"\n",
    "    try:\n",
    "        df = pd.read_csv(file_path)\n",
    "        return df\n",
    "    except Exception as e:\n",
    "        print(f\"An error occurred: {e}\")\n",
    "        return None\n",
    "\n",
    "\n",
    "# Usage:\n",
    "train_path = '../data/train.csv'\n",
    "test_path = '../data/test.csv'\n",
    "crystals_path = '../data/Artificial_Crystals_Dataset.csv'\n",
    "minerals_path = '../data/Mineral_Dataset_Supplementary_Info.csv'\n",
    "\n",
    "train_df = read_csv_to_dataframe(train_path)\n",
    "test_df = read_csv_to_dataframe(test_path)\n",
    "\n",
    "crystals = read_csv_to_dataframe(crystals_path)\n",
    "crystals.drop(columns='Unnamed: 0', inplace = True)\n",
    "crystals['Crystal structure'] = crystals['Crystal structure'].fillna('not known')\n",
    "\n",
    "minerals = read_csv_to_dataframe(minerals_path)\n",
    "\n",
    "train_df.drop(columns='id', inplace=True)\n",
    "test_df.drop(columns='id', inplace=True)\n",
    "\n",
    "#train_df['is_original'] = 0\n",
    "#test_df['is_original'] = 0"
   ]
  },
  {
   "cell_type": "code",
   "execution_count": null,
   "id": "11556da0",
   "metadata": {
    "execution": {
     "iopub.execute_input": "2023-11-26T04:11:42.677472Z",
     "iopub.status.busy": "2023-11-26T04:11:42.677134Z",
     "iopub.status.idle": "2023-11-26T04:11:42.692228Z",
     "shell.execute_reply": "2023-11-26T04:11:42.691285Z"
    },
    "papermill": {
     "duration": 0.040667,
     "end_time": "2023-11-26T04:11:42.694304",
     "exception": false,
     "start_time": "2023-11-26T04:11:42.653637",
     "status": "completed"
    },
    "tags": []
   },
   "outputs": [
    {
     "name": "stdout",
     "output_type": "stream",
     "text": [
      "<class 'pandas.core.frame.DataFrame'>\n",
      "RangeIndex: 10407 entries, 0 to 10406\n",
      "Data columns (total 12 columns):\n",
      " #   Column                 Non-Null Count  Dtype  \n",
      "---  ------                 --------------  -----  \n",
      " 0   allelectrons_Total     10407 non-null  float64\n",
      " 1   density_Total          10407 non-null  float64\n",
      " 2   allelectrons_Average   10407 non-null  float64\n",
      " 3   val_e_Average          10407 non-null  float64\n",
      " 4   atomicweight_Average   10407 non-null  float64\n",
      " 5   ionenergy_Average      10407 non-null  float64\n",
      " 6   el_neg_chi_Average     10407 non-null  float64\n",
      " 7   R_vdw_element_Average  10407 non-null  float64\n",
      " 8   R_cov_element_Average  10407 non-null  float64\n",
      " 9   zaratio_Average        10407 non-null  float64\n",
      " 10  density_Average        10407 non-null  float64\n",
      " 11  Hardness               10407 non-null  float64\n",
      "dtypes: float64(12)\n",
      "memory usage: 975.8 KB\n"
     ]
    }
   ],
   "source": [
    "train_df.info()"
   ]
  },
  {
   "cell_type": "code",
   "execution_count": null,
   "id": "bdfd4600",
   "metadata": {
    "execution": {
     "iopub.execute_input": "2023-11-26T04:11:42.737269Z",
     "iopub.status.busy": "2023-11-26T04:11:42.736950Z",
     "iopub.status.idle": "2023-11-26T04:11:42.747146Z",
     "shell.execute_reply": "2023-11-26T04:11:42.745910Z"
    },
    "papermill": {
     "duration": 0.033982,
     "end_time": "2023-11-26T04:11:42.749052",
     "exception": false,
     "start_time": "2023-11-26T04:11:42.715070",
     "status": "completed"
    },
    "tags": []
   },
   "outputs": [
    {
     "name": "stdout",
     "output_type": "stream",
     "text": [
      "<class 'pandas.core.frame.DataFrame'>\n",
      "RangeIndex: 52 entries, 0 to 51\n",
      "Data columns (total 14 columns):\n",
      " #   Column                 Non-Null Count  Dtype  \n",
      "---  ------                 --------------  -----  \n",
      " 0   Formula                52 non-null     object \n",
      " 1   Crystal structure      52 non-null     object \n",
      " 2   Hardness (Mohs)        52 non-null     float64\n",
      " 3   allelectrons_Total     52 non-null     float64\n",
      " 4   density_Total          52 non-null     float64\n",
      " 5   allelectrons_Average   52 non-null     float64\n",
      " 6   val_e_Average          52 non-null     float64\n",
      " 7   atomicweight_Average   52 non-null     float64\n",
      " 8   ionenergy_Average      52 non-null     float64\n",
      " 9   el_neg_chi_Average     52 non-null     float64\n",
      " 10  R_vdw_element_Average  52 non-null     float64\n",
      " 11  R_cov_element_Average  52 non-null     float64\n",
      " 12  zaratio_Average        52 non-null     float64\n",
      " 13  density_Average        52 non-null     float64\n",
      "dtypes: float64(12), object(2)\n",
      "memory usage: 5.8+ KB\n"
     ]
    }
   ],
   "source": [
    "crystals.info()"
   ]
  },
  {
   "cell_type": "code",
   "execution_count": null,
   "id": "aa89e065",
   "metadata": {
    "execution": {
     "iopub.execute_input": "2023-11-26T04:11:42.793766Z",
     "iopub.status.busy": "2023-11-26T04:11:42.793406Z",
     "iopub.status.idle": "2023-11-26T04:11:42.804281Z",
     "shell.execute_reply": "2023-11-26T04:11:42.803360Z"
    },
    "papermill": {
     "duration": 0.036014,
     "end_time": "2023-11-26T04:11:42.806474",
     "exception": false,
     "start_time": "2023-11-26T04:11:42.770460",
     "status": "completed"
    },
    "tags": []
   },
   "outputs": [
    {
     "name": "stdout",
     "output_type": "stream",
     "text": [
      "<class 'pandas.core.frame.DataFrame'>\n",
      "RangeIndex: 622 entries, 0 to 621\n",
      "Data columns (total 13 columns):\n",
      " #   Column                 Non-Null Count  Dtype  \n",
      "---  ------                 --------------  -----  \n",
      " 0   Unnamed: 0             622 non-null    int64  \n",
      " 1   Hardness               622 non-null    float64\n",
      " 2   allelectrons_Total     622 non-null    float64\n",
      " 3   density_Total          622 non-null    float64\n",
      " 4   allelectrons_Average   622 non-null    float64\n",
      " 5   val_e_Average          622 non-null    float64\n",
      " 6   atomicweight_Average   622 non-null    float64\n",
      " 7   ionenergy_Average      622 non-null    float64\n",
      " 8   el_neg_chi_Average     622 non-null    float64\n",
      " 9   R_vdw_element_Average  622 non-null    float64\n",
      " 10  R_cov_element_Average  622 non-null    float64\n",
      " 11  zaratio_Average        622 non-null    float64\n",
      " 12  density_Average        622 non-null    float64\n",
      "dtypes: float64(12), int64(1)\n",
      "memory usage: 63.3 KB\n"
     ]
    }
   ],
   "source": [
    "minerals.info()"
   ]
  },
  {
   "cell_type": "markdown",
   "id": "a300b510",
   "metadata": {
    "papermill": {
     "duration": 0.021572,
     "end_time": "2023-11-26T04:11:42.849959",
     "exception": false,
     "start_time": "2023-11-26T04:11:42.828387",
     "status": "completed"
    },
    "tags": []
   },
   "source": [
    "---"
   ]
  },
  {
   "cell_type": "markdown",
   "id": "4e7f2aaf",
   "metadata": {
    "papermill": {
     "duration": 0.021439,
     "end_time": "2023-11-26T04:11:42.893377",
     "exception": false,
     "start_time": "2023-11-26T04:11:42.871938",
     "status": "completed"
    },
    "tags": []
   },
   "source": [
    "# 4.0 Merging and Removing Duplicates..."
   ]
  },
  {
   "cell_type": "code",
   "execution_count": null,
   "id": "be7c0709",
   "metadata": {
    "execution": {
     "iopub.execute_input": "2023-11-26T04:11:42.938453Z",
     "iopub.status.busy": "2023-11-26T04:11:42.938084Z",
     "iopub.status.idle": "2023-11-26T04:11:42.947345Z",
     "shell.execute_reply": "2023-11-26T04:11:42.946397Z"
    },
    "papermill": {
     "duration": 0.034251,
     "end_time": "2023-11-26T04:11:42.949375",
     "exception": false,
     "start_time": "2023-11-26T04:11:42.915124",
     "status": "completed"
    },
    "tags": []
   },
   "outputs": [],
   "source": [
    "# Merge the Train and Minerals dataset...\n",
    "minerals.drop(columns='Unnamed: 0', inplace=True)\n",
    "\n",
    "train_df = pd.concat([minerals, train_df])\n",
    "train_df = train_df.reset_index(drop=True)"
   ]
  },
  {
   "cell_type": "code",
   "execution_count": null,
   "id": "bb8fc83a",
   "metadata": {
    "execution": {
     "iopub.execute_input": "2023-11-26T04:11:42.994778Z",
     "iopub.status.busy": "2023-11-26T04:11:42.994422Z",
     "iopub.status.idle": "2023-11-26T04:11:43.006244Z",
     "shell.execute_reply": "2023-11-26T04:11:43.005189Z"
    },
    "papermill": {
     "duration": 0.037162,
     "end_time": "2023-11-26T04:11:43.008456",
     "exception": false,
     "start_time": "2023-11-26T04:11:42.971294",
     "status": "completed"
    },
    "tags": []
   },
   "outputs": [
    {
     "name": "stdout",
     "output_type": "stream",
     "text": [
      "Duplicate rows found in the dataframe.\n",
      "Count of duplicate rows: 23.\n"
     ]
    }
   ],
   "source": [
    "def count_duplicate_rows(df):\n",
    "    duplicate_rows = df[df.duplicated()]\n",
    "    \n",
    "    if not duplicate_rows.empty:\n",
    "        print(\"Duplicate rows found in the dataframe.\")\n",
    "        count = len(duplicate_rows)\n",
    "        print(f\"Count of duplicate rows: {count}.\")\n",
    "    else:\n",
    "        print(\"No duplicate rows found in the dataframe.\")\n",
    "\n",
    "    return df\n",
    "\n",
    "train_df = count_duplicate_rows(train_df)"
   ]
  },
  {
   "cell_type": "code",
   "execution_count": null,
   "id": "805a560a",
   "metadata": {
    "execution": {
     "iopub.execute_input": "2023-11-26T04:11:43.053920Z",
     "iopub.status.busy": "2023-11-26T04:11:43.053562Z",
     "iopub.status.idle": "2023-11-26T04:11:43.062946Z",
     "shell.execute_reply": "2023-11-26T04:11:43.062165Z"
    },
    "papermill": {
     "duration": 0.034818,
     "end_time": "2023-11-26T04:11:43.065160",
     "exception": false,
     "start_time": "2023-11-26T04:11:43.030342",
     "status": "completed"
    },
    "tags": []
   },
   "outputs": [],
   "source": [
    "train_df = train_df.drop_duplicates()\n",
    "train_df.reset_index(drop=True, inplace=True)"
   ]
  },
  {
   "cell_type": "code",
   "execution_count": null,
   "id": "69edb613",
   "metadata": {
    "execution": {
     "iopub.execute_input": "2023-11-26T04:11:43.111376Z",
     "iopub.status.busy": "2023-11-26T04:11:43.110976Z",
     "iopub.status.idle": "2023-11-26T04:11:43.122817Z",
     "shell.execute_reply": "2023-11-26T04:11:43.121871Z"
    },
    "papermill": {
     "duration": 0.037678,
     "end_time": "2023-11-26T04:11:43.124745",
     "exception": false,
     "start_time": "2023-11-26T04:11:43.087067",
     "status": "completed"
    },
    "tags": []
   },
   "outputs": [
    {
     "name": "stdout",
     "output_type": "stream",
     "text": [
      "Duplicate rows found in the dataframe (excluding target feature).\n",
      "Count of duplicate rows: 38.\n"
     ]
    }
   ],
   "source": [
    "def count_duplicate_rows_target(df, target_column):\n",
    "    columns_to_check = df.columns.difference([target_column])\n",
    "    duplicate_rows = df[df.duplicated(subset=columns_to_check)]\n",
    "    \n",
    "    if not duplicate_rows.empty:\n",
    "        print(\"Duplicate rows found in the dataframe (excluding target feature).\")\n",
    "        count = len(duplicate_rows)\n",
    "        print(f\"Count of duplicate rows: {count}.\")\n",
    "    else:\n",
    "        print(\"No duplicate rows found in the dataframe (excluding target feature).\")\n",
    "\n",
    "    return df\n",
    "\n",
    "train_df = count_duplicate_rows_target(train_df, 'Hardness')"
   ]
  },
  {
   "cell_type": "code",
   "execution_count": null,
   "id": "052a75b1",
   "metadata": {
    "execution": {
     "iopub.execute_input": "2023-11-26T04:11:43.171959Z",
     "iopub.status.busy": "2023-11-26T04:11:43.171153Z",
     "iopub.status.idle": "2023-11-26T04:11:43.181333Z",
     "shell.execute_reply": "2023-11-26T04:11:43.180439Z"
    },
    "papermill": {
     "duration": 0.035325,
     "end_time": "2023-11-26T04:11:43.183500",
     "exception": false,
     "start_time": "2023-11-26T04:11:43.148175",
     "status": "completed"
    },
    "tags": []
   },
   "outputs": [],
   "source": [
    "train_df = train_df.drop_duplicates(subset=train_df.columns.difference(['Hardness']), keep='first')\n",
    "train_df = train_df.reset_index(drop=True)"
   ]
  },
  {
   "cell_type": "markdown",
   "id": "1aee8fb8",
   "metadata": {
    "papermill": {
     "duration": 0.021588,
     "end_time": "2023-11-26T04:11:43.226914",
     "exception": false,
     "start_time": "2023-11-26T04:11:43.205326",
     "status": "completed"
    },
    "tags": []
   },
   "source": [
    "# 5.0 Exploratory Analysis..."
   ]
  },
  {
   "cell_type": "code",
   "execution_count": null,
   "id": "e702b853",
   "metadata": {
    "execution": {
     "iopub.execute_input": "2023-11-26T04:11:43.272901Z",
     "iopub.status.busy": "2023-11-26T04:11:43.272549Z",
     "iopub.status.idle": "2023-11-26T04:11:43.349735Z",
     "shell.execute_reply": "2023-11-26T04:11:43.348690Z"
    },
    "papermill": {
     "duration": 0.102796,
     "end_time": "2023-11-26T04:11:43.351698",
     "exception": false,
     "start_time": "2023-11-26T04:11:43.248902",
     "status": "completed"
    },
    "tags": []
   },
   "outputs": [
    {
     "name": "stdout",
     "output_type": "stream",
     "text": [
      "DataFrame Information:\n",
      "----------------------\n",
      "<class 'pandas.core.frame.DataFrame'>\n",
      "RangeIndex: 10968 entries, 0 to 10967\n",
      "Data columns (total 12 columns):\n",
      " #   Column                 Non-Null Count  Dtype  \n",
      "---  ------                 --------------  -----  \n",
      " 0   Hardness               10968 non-null  float64\n",
      " 1   allelectrons_Total     10968 non-null  float64\n",
      " 2   density_Total          10968 non-null  float64\n",
      " 3   allelectrons_Average   10968 non-null  float64\n",
      " 4   val_e_Average          10968 non-null  float64\n",
      " 5   atomicweight_Average   10968 non-null  float64\n",
      " 6   ionenergy_Average      10968 non-null  float64\n",
      " 7   el_neg_chi_Average     10968 non-null  float64\n",
      " 8   R_vdw_element_Average  10968 non-null  float64\n",
      " 9   R_cov_element_Average  10968 non-null  float64\n",
      " 10  zaratio_Average        10968 non-null  float64\n",
      " 11  density_Average        10968 non-null  float64\n",
      "dtypes: float64(12)\n",
      "memory usage: 1.0 MB\n"
     ]
    },
    {
     "data": {
      "text/plain": [
       "None"
      ]
     },
     "metadata": {},
     "output_type": "display_data"
    },
    {
     "name": "stdout",
     "output_type": "stream",
     "text": [
      "\n",
      "\n",
      "DataFrame Values:\n",
      "----------------------\n"
     ]
    },
    {
     "data": {
      "text/html": [
       "<div>\n",
       "<style scoped>\n",
       "    .dataframe tbody tr th:only-of-type {\n",
       "        vertical-align: middle;\n",
       "    }\n",
       "\n",
       "    .dataframe tbody tr th {\n",
       "        vertical-align: top;\n",
       "    }\n",
       "\n",
       "    .dataframe thead th {\n",
       "        text-align: right;\n",
       "    }\n",
       "</style>\n",
       "<table border=\"1\" class=\"dataframe\">\n",
       "  <thead>\n",
       "    <tr style=\"text-align: right;\">\n",
       "      <th></th>\n",
       "      <th>0</th>\n",
       "      <th>1</th>\n",
       "      <th>2</th>\n",
       "      <th>3</th>\n",
       "      <th>4</th>\n",
       "    </tr>\n",
       "  </thead>\n",
       "  <tbody>\n",
       "    <tr>\n",
       "      <th>Hardness</th>\n",
       "      <td>2.300</td>\n",
       "      <td>5.500</td>\n",
       "      <td>5.500</td>\n",
       "      <td>5.500</td>\n",
       "      <td>5.500</td>\n",
       "    </tr>\n",
       "    <tr>\n",
       "      <th>allelectrons_Total</th>\n",
       "      <td>110.000</td>\n",
       "      <td>406.000</td>\n",
       "      <td>406.000</td>\n",
       "      <td>476.000</td>\n",
       "      <td>476.000</td>\n",
       "    </tr>\n",
       "    <tr>\n",
       "      <th>density_Total</th>\n",
       "      <td>23.000</td>\n",
       "      <td>30.472</td>\n",
       "      <td>30.472</td>\n",
       "      <td>61.142</td>\n",
       "      <td>61.142</td>\n",
       "    </tr>\n",
       "    <tr>\n",
       "      <th>allelectrons_Average</th>\n",
       "      <td>36.667</td>\n",
       "      <td>9.902</td>\n",
       "      <td>10.410</td>\n",
       "      <td>11.610</td>\n",
       "      <td>12.205</td>\n",
       "    </tr>\n",
       "    <tr>\n",
       "      <th>val_e_Average</th>\n",
       "      <td>2.667</td>\n",
       "      <td>4.683</td>\n",
       "      <td>4.923</td>\n",
       "      <td>4.683</td>\n",
       "      <td>4.923</td>\n",
       "    </tr>\n",
       "    <tr>\n",
       "      <th>atomicweight_Average</th>\n",
       "      <td>82.598</td>\n",
       "      <td>19.813</td>\n",
       "      <td>20.931</td>\n",
       "      <td>23.660</td>\n",
       "      <td>24.975</td>\n",
       "    </tr>\n",
       "    <tr>\n",
       "      <th>ionenergy_Average</th>\n",
       "      <td>8.504</td>\n",
       "      <td>11.456</td>\n",
       "      <td>11.541</td>\n",
       "      <td>11.487</td>\n",
       "      <td>11.574</td>\n",
       "    </tr>\n",
       "    <tr>\n",
       "      <th>el_neg_chi_Average</th>\n",
       "      <td>2.147</td>\n",
       "      <td>2.700</td>\n",
       "      <td>2.754</td>\n",
       "      <td>2.764</td>\n",
       "      <td>2.820</td>\n",
       "    </tr>\n",
       "    <tr>\n",
       "      <th>R_vdw_element_Average</th>\n",
       "      <td>2.007</td>\n",
       "      <td>1.677</td>\n",
       "      <td>1.704</td>\n",
       "      <td>1.715</td>\n",
       "      <td>1.744</td>\n",
       "    </tr>\n",
       "    <tr>\n",
       "      <th>R_cov_element_Average</th>\n",
       "      <td>1.253</td>\n",
       "      <td>0.868</td>\n",
       "      <td>0.894</td>\n",
       "      <td>0.849</td>\n",
       "      <td>0.874</td>\n",
       "    </tr>\n",
       "    <tr>\n",
       "      <th>zaratio_Average</th>\n",
       "      <td>0.457</td>\n",
       "      <td>0.523</td>\n",
       "      <td>0.497</td>\n",
       "      <td>0.519</td>\n",
       "      <td>0.494</td>\n",
       "    </tr>\n",
       "    <tr>\n",
       "      <th>density_Average</th>\n",
       "      <td>7.667</td>\n",
       "      <td>0.743</td>\n",
       "      <td>0.781</td>\n",
       "      <td>1.491</td>\n",
       "      <td>1.568</td>\n",
       "    </tr>\n",
       "  </tbody>\n",
       "</table>\n",
       "</div>"
      ],
      "text/plain": [
       "                            0       1       2       3       4\n",
       "Hardness                2.300   5.500   5.500   5.500   5.500\n",
       "allelectrons_Total    110.000 406.000 406.000 476.000 476.000\n",
       "density_Total          23.000  30.472  30.472  61.142  61.142\n",
       "allelectrons_Average   36.667   9.902  10.410  11.610  12.205\n",
       "val_e_Average           2.667   4.683   4.923   4.683   4.923\n",
       "atomicweight_Average   82.598  19.813  20.931  23.660  24.975\n",
       "ionenergy_Average       8.504  11.456  11.541  11.487  11.574\n",
       "el_neg_chi_Average      2.147   2.700   2.754   2.764   2.820\n",
       "R_vdw_element_Average   2.007   1.677   1.704   1.715   1.744\n",
       "R_cov_element_Average   1.253   0.868   0.894   0.849   0.874\n",
       "zaratio_Average         0.457   0.523   0.497   0.519   0.494\n",
       "density_Average         7.667   0.743   0.781   1.491   1.568"
      ]
     },
     "metadata": {},
     "output_type": "display_data"
    },
    {
     "name": "stdout",
     "output_type": "stream",
     "text": [
      "\n",
      "\n",
      "DataFrame Description:\n",
      "----------------------\n"
     ]
    },
    {
     "data": {
      "text/html": [
       "<div>\n",
       "<style scoped>\n",
       "    .dataframe tbody tr th:only-of-type {\n",
       "        vertical-align: middle;\n",
       "    }\n",
       "\n",
       "    .dataframe tbody tr th {\n",
       "        vertical-align: top;\n",
       "    }\n",
       "\n",
       "    .dataframe thead th {\n",
       "        text-align: right;\n",
       "    }\n",
       "</style>\n",
       "<table border=\"1\" class=\"dataframe\">\n",
       "  <thead>\n",
       "    <tr style=\"text-align: right;\">\n",
       "      <th></th>\n",
       "      <th>count</th>\n",
       "      <th>mean</th>\n",
       "      <th>std</th>\n",
       "      <th>min</th>\n",
       "      <th>25%</th>\n",
       "      <th>50%</th>\n",
       "      <th>75%</th>\n",
       "      <th>max</th>\n",
       "    </tr>\n",
       "  </thead>\n",
       "  <tbody>\n",
       "    <tr>\n",
       "      <th>Hardness</th>\n",
       "      <td>10,968.000</td>\n",
       "      <td>4.645</td>\n",
       "      <td>1.683</td>\n",
       "      <td>1.000</td>\n",
       "      <td>3.000</td>\n",
       "      <td>5.500</td>\n",
       "      <td>6.000</td>\n",
       "      <td>10.000</td>\n",
       "    </tr>\n",
       "    <tr>\n",
       "      <th>allelectrons_Total</th>\n",
       "      <td>10,968.000</td>\n",
       "      <td>138.545</td>\n",
       "      <td>301.056</td>\n",
       "      <td>0.000</td>\n",
       "      <td>68.000</td>\n",
       "      <td>100.000</td>\n",
       "      <td>138.000</td>\n",
       "      <td>15,300.000</td>\n",
       "    </tr>\n",
       "    <tr>\n",
       "      <th>density_Total</th>\n",
       "      <td>10,968.000</td>\n",
       "      <td>15.249</td>\n",
       "      <td>18.383</td>\n",
       "      <td>0.000</td>\n",
       "      <td>7.558</td>\n",
       "      <td>11.073</td>\n",
       "      <td>17.590</td>\n",
       "      <td>643.094</td>\n",
       "    </tr>\n",
       "    <tr>\n",
       "      <th>allelectrons_Average</th>\n",
       "      <td>10,968.000</td>\n",
       "      <td>16.922</td>\n",
       "      <td>10.449</td>\n",
       "      <td>0.000</td>\n",
       "      <td>10.000</td>\n",
       "      <td>12.500</td>\n",
       "      <td>21.833</td>\n",
       "      <td>67.000</td>\n",
       "    </tr>\n",
       "    <tr>\n",
       "      <th>val_e_Average</th>\n",
       "      <td>10,968.000</td>\n",
       "      <td>4.543</td>\n",
       "      <td>0.687</td>\n",
       "      <td>0.000</td>\n",
       "      <td>4.000</td>\n",
       "      <td>4.700</td>\n",
       "      <td>4.800</td>\n",
       "      <td>6.000</td>\n",
       "    </tr>\n",
       "    <tr>\n",
       "      <th>atomicweight_Average</th>\n",
       "      <td>10,968.000</td>\n",
       "      <td>37.243</td>\n",
       "      <td>25.958</td>\n",
       "      <td>0.000</td>\n",
       "      <td>20.299</td>\n",
       "      <td>26.165</td>\n",
       "      <td>48.719</td>\n",
       "      <td>167.400</td>\n",
       "    </tr>\n",
       "    <tr>\n",
       "      <th>ionenergy_Average</th>\n",
       "      <td>10,968.000</td>\n",
       "      <td>10.956</td>\n",
       "      <td>1.397</td>\n",
       "      <td>0.000</td>\n",
       "      <td>10.600</td>\n",
       "      <td>11.221</td>\n",
       "      <td>11.688</td>\n",
       "      <td>15.246</td>\n",
       "    </tr>\n",
       "    <tr>\n",
       "      <th>el_neg_chi_Average</th>\n",
       "      <td>10,968.000</td>\n",
       "      <td>2.611</td>\n",
       "      <td>0.331</td>\n",
       "      <td>0.000</td>\n",
       "      <td>2.530</td>\n",
       "      <td>2.706</td>\n",
       "      <td>2.805</td>\n",
       "      <td>3.443</td>\n",
       "    </tr>\n",
       "    <tr>\n",
       "      <th>R_vdw_element_Average</th>\n",
       "      <td>10,968.000</td>\n",
       "      <td>1.729</td>\n",
       "      <td>0.191</td>\n",
       "      <td>0.000</td>\n",
       "      <td>1.673</td>\n",
       "      <td>1.732</td>\n",
       "      <td>1.798</td>\n",
       "      <td>2.250</td>\n",
       "    </tr>\n",
       "    <tr>\n",
       "      <th>R_cov_element_Average</th>\n",
       "      <td>10,968.000</td>\n",
       "      <td>0.941</td>\n",
       "      <td>0.180</td>\n",
       "      <td>0.000</td>\n",
       "      <td>0.864</td>\n",
       "      <td>0.914</td>\n",
       "      <td>0.980</td>\n",
       "      <td>1.616</td>\n",
       "    </tr>\n",
       "    <tr>\n",
       "      <th>zaratio_Average</th>\n",
       "      <td>10,968.000</td>\n",
       "      <td>0.495</td>\n",
       "      <td>0.064</td>\n",
       "      <td>0.000</td>\n",
       "      <td>0.476</td>\n",
       "      <td>0.489</td>\n",
       "      <td>0.497</td>\n",
       "      <td>0.826</td>\n",
       "    </tr>\n",
       "    <tr>\n",
       "      <th>density_Average</th>\n",
       "      <td>10,968.000</td>\n",
       "      <td>2.121</td>\n",
       "      <td>1.936</td>\n",
       "      <td>0.000</td>\n",
       "      <td>0.812</td>\n",
       "      <td>1.346</td>\n",
       "      <td>2.732</td>\n",
       "      <td>10.970</td>\n",
       "    </tr>\n",
       "  </tbody>\n",
       "</table>\n",
       "</div>"
      ],
      "text/plain": [
       "                           count    mean     std   min    25%     50%     75%  \\\n",
       "Hardness              10,968.000   4.645   1.683 1.000  3.000   5.500   6.000   \n",
       "allelectrons_Total    10,968.000 138.545 301.056 0.000 68.000 100.000 138.000   \n",
       "density_Total         10,968.000  15.249  18.383 0.000  7.558  11.073  17.590   \n",
       "allelectrons_Average  10,968.000  16.922  10.449 0.000 10.000  12.500  21.833   \n",
       "val_e_Average         10,968.000   4.543   0.687 0.000  4.000   4.700   4.800   \n",
       "atomicweight_Average  10,968.000  37.243  25.958 0.000 20.299  26.165  48.719   \n",
       "ionenergy_Average     10,968.000  10.956   1.397 0.000 10.600  11.221  11.688   \n",
       "el_neg_chi_Average    10,968.000   2.611   0.331 0.000  2.530   2.706   2.805   \n",
       "R_vdw_element_Average 10,968.000   1.729   0.191 0.000  1.673   1.732   1.798   \n",
       "R_cov_element_Average 10,968.000   0.941   0.180 0.000  0.864   0.914   0.980   \n",
       "zaratio_Average       10,968.000   0.495   0.064 0.000  0.476   0.489   0.497   \n",
       "density_Average       10,968.000   2.121   1.936 0.000  0.812   1.346   2.732   \n",
       "\n",
       "                             max  \n",
       "Hardness                  10.000  \n",
       "allelectrons_Total    15,300.000  \n",
       "density_Total            643.094  \n",
       "allelectrons_Average      67.000  \n",
       "val_e_Average              6.000  \n",
       "atomicweight_Average     167.400  \n",
       "ionenergy_Average         15.246  \n",
       "el_neg_chi_Average         3.443  \n",
       "R_vdw_element_Average      2.250  \n",
       "R_cov_element_Average      1.616  \n",
       "zaratio_Average            0.826  \n",
       "density_Average           10.970  "
      ]
     },
     "metadata": {},
     "output_type": "display_data"
    },
    {
     "name": "stdout",
     "output_type": "stream",
     "text": [
      "\n",
      "\n",
      "Number of Null Values:\n",
      "----------------------\n"
     ]
    },
    {
     "data": {
      "text/plain": [
       "Hardness                 0\n",
       "allelectrons_Total       0\n",
       "density_Total            0\n",
       "allelectrons_Average     0\n",
       "val_e_Average            0\n",
       "atomicweight_Average     0\n",
       "ionenergy_Average        0\n",
       "el_neg_chi_Average       0\n",
       "R_vdw_element_Average    0\n",
       "R_cov_element_Average    0\n",
       "zaratio_Average          0\n",
       "density_Average          0\n",
       "dtype: int64"
      ]
     },
     "metadata": {},
     "output_type": "display_data"
    },
    {
     "name": "stdout",
     "output_type": "stream",
     "text": [
      "\n",
      "\n",
      "Number of Duplicated Rows:\n",
      "--------------------------\n"
     ]
    },
    {
     "data": {
      "text/plain": [
       "0"
      ]
     },
     "metadata": {},
     "output_type": "display_data"
    },
    {
     "name": "stdout",
     "output_type": "stream",
     "text": [
      "\n",
      "\n",
      "Number of Unique Values:\n",
      "------------------------\n"
     ]
    },
    {
     "data": {
      "text/plain": [
       "Hardness                   50\n",
       "allelectrons_Total        366\n",
       "density_Total            1172\n",
       "allelectrons_Average      724\n",
       "val_e_Average             244\n",
       "atomicweight_Average      940\n",
       "ionenergy_Average         995\n",
       "el_neg_chi_Average        842\n",
       "R_vdw_element_Average     821\n",
       "R_cov_element_Average     779\n",
       "zaratio_Average           922\n",
       "density_Average          1120\n",
       "dtype: int64"
      ]
     },
     "metadata": {},
     "output_type": "display_data"
    },
    {
     "name": "stdout",
     "output_type": "stream",
     "text": [
      "\n",
      "\n",
      "DataFrame Shape:\n",
      "----------------\n",
      "Rows: 10968, Columns: 12\n",
      "CPU times: user 62.9 ms, sys: 6.58 ms, total: 69.4 ms\n",
      "Wall time: 68.5 ms\n"
     ]
    }
   ],
   "source": [
    "%%time\n",
    "def analyze_dataframe(df):\n",
    "    \"\"\"\n",
    "    Analyze a pandas DataFrame and provide a summary of its characteristics.\n",
    "\n",
    "    Parameters:\n",
    "    df (pandas.DataFrame): The input DataFrame to analyze.\n",
    "\n",
    "    Returns:\n",
    "    None\n",
    "    \"\"\"\n",
    "    print(\"DataFrame Information:\")\n",
    "    print(\"----------------------\")\n",
    "    display(df.info(verbose=True, show_counts=True))\n",
    "    print(\"\\n\")\n",
    "    \n",
    "    print(\"DataFrame Values:\")\n",
    "    print(\"----------------------\")\n",
    "    display(df.head(5).T)\n",
    "    print(\"\\n\")\n",
    "\n",
    "    print(\"DataFrame Description:\")\n",
    "    print(\"----------------------\")\n",
    "    display(df.describe().T)\n",
    "    print(\"\\n\")\n",
    "\n",
    "    print(\"Number of Null Values:\")\n",
    "    print(\"----------------------\")\n",
    "    display(df.isnull().sum())\n",
    "    print(\"\\n\")\n",
    "\n",
    "    print(\"Number of Duplicated Rows:\")\n",
    "    print(\"--------------------------\")\n",
    "    display(df.duplicated().sum())\n",
    "    print(\"\\n\")\n",
    "\n",
    "    print(\"Number of Unique Values:\")\n",
    "    print(\"------------------------\")\n",
    "    display(df.nunique())\n",
    "    print(\"\\n\")\n",
    "\n",
    "    print(\"DataFrame Shape:\")\n",
    "    print(\"----------------\")\n",
    "    print(f\"Rows: {df.shape[0]}, Columns: {df.shape[1]}\")\n",
    "\n",
    "# Usage\n",
    "analyze_dataframe(train_df)"
   ]
  },
  {
   "cell_type": "markdown",
   "id": "c42db037",
   "metadata": {
    "papermill": {
     "duration": 0.023273,
     "end_time": "2023-11-26T04:11:43.398792",
     "exception": false,
     "start_time": "2023-11-26T04:11:43.375519",
     "status": "completed"
    },
    "tags": []
   },
   "source": [
    "---"
   ]
  },
  {
   "cell_type": "markdown",
   "id": "ab0d540b",
   "metadata": {
    "papermill": {
     "duration": 0.022979,
     "end_time": "2023-11-26T04:11:43.445049",
     "exception": false,
     "start_time": "2023-11-26T04:11:43.422070",
     "status": "completed"
    },
    "tags": []
   },
   "source": [
    "# 6.0 Feature Engineering"
   ]
  },
  {
   "cell_type": "code",
   "execution_count": null,
   "id": "33ee4731",
   "metadata": {
    "execution": {
     "iopub.execute_input": "2023-11-26T04:11:43.494671Z",
     "iopub.status.busy": "2023-11-26T04:11:43.493812Z",
     "iopub.status.idle": "2023-11-26T04:11:43.498475Z",
     "shell.execute_reply": "2023-11-26T04:11:43.497600Z"
    },
    "papermill": {
     "duration": 0.031471,
     "end_time": "2023-11-26T04:11:43.500421",
     "exception": false,
     "start_time": "2023-11-26T04:11:43.468950",
     "status": "completed"
    },
    "tags": []
   },
   "outputs": [],
   "source": [
    "features = [feat for feat in train_df.columns if feat not in ['id', 'Hardness']]"
   ]
  },
  {
   "cell_type": "markdown",
   "id": "6feb0475",
   "metadata": {
    "papermill": {
     "duration": 0.023389,
     "end_time": "2023-11-26T04:11:43.547187",
     "exception": false,
     "start_time": "2023-11-26T04:11:43.523798",
     "status": "completed"
    },
    "tags": []
   },
   "source": [
    "## 6.1 Outlier Identification "
   ]
  },
  {
   "cell_type": "code",
   "execution_count": null,
   "id": "fd96580f",
   "metadata": {
    "execution": {
     "iopub.execute_input": "2023-11-26T04:11:43.595956Z",
     "iopub.status.busy": "2023-11-26T04:11:43.595601Z",
     "iopub.status.idle": "2023-11-26T04:11:44.454379Z",
     "shell.execute_reply": "2023-11-26T04:11:44.453588Z"
    },
    "papermill": {
     "duration": 0.886166,
     "end_time": "2023-11-26T04:11:44.456728",
     "exception": false,
     "start_time": "2023-11-26T04:11:43.570562",
     "status": "completed"
    },
    "tags": []
   },
   "outputs": [],
   "source": [
    "def count_outliers(df, features):\n",
    "    # Subset the dataframe to only the specified features\n",
    "    df_subset = df[features]\n",
    "    \n",
    "    # Initialize the Isolation Forest model\n",
    "    clf = IsolationForest(contamination='auto')\n",
    "    \n",
    "    # Fit the model on the subset\n",
    "    predictions = clf.fit_predict(df_subset)\n",
    "    \n",
    "    # Create a DataFrame to store the outlier count for each row\n",
    "    outlier_count_df = pd.DataFrame({\n",
    "        'Outlier_Count': [(pred == -1) for pred in predictions]\n",
    "    })\n",
    "\n",
    "    # Sum the counts for each row to get total outlier count\n",
    "    total_outliers = outlier_count_df['Outlier_Count'].sum()\n",
    "    \n",
    "    # Attach the outlier count to the original dataframe\n",
    "    df['Outlier_Count'] = outlier_count_df\n",
    "    \n",
    "    # Return the dataframe with the added outlier count column\n",
    "    return df\n",
    "\n",
    "# Example usage:\n",
    "# Assuming 'df' is your dataframe and ['feature1', 'feature2'] are the features of interest\n",
    "# df_with_outliers = count_outliers(df, ['feature1', 'feature2'])\n",
    "# print(df_with_outliers)\n",
    "\n",
    "ignore_list = ['id', 'Hardness', 'is_original']\n",
    "features = [feat for feat in train_df.columns if feat not in ignore_list]\n",
    "\n",
    "train_df = count_outliers(train_df, features)\n",
    "test_df = count_outliers(test_df, features)\n",
    "\n",
    "#train_df = train_df[train_df['Outlier_Count'] == False]"
   ]
  },
  {
   "cell_type": "markdown",
   "id": "62a2655e",
   "metadata": {
    "papermill": {
     "duration": 0.022898,
     "end_time": "2023-11-26T04:11:44.518463",
     "exception": false,
     "start_time": "2023-11-26T04:11:44.495565",
     "status": "completed"
    },
    "tags": []
   },
   "source": [
    "## 6.2 Feature Standarization"
   ]
  },
  {
   "cell_type": "code",
   "execution_count": null,
   "id": "104d25a8",
   "metadata": {
    "execution": {
     "iopub.execute_input": "2023-11-26T04:11:44.565657Z",
     "iopub.status.busy": "2023-11-26T04:11:44.565322Z",
     "iopub.status.idle": "2023-11-26T04:11:44.597084Z",
     "shell.execute_reply": "2023-11-26T04:11:44.596088Z"
    },
    "papermill": {
     "duration": 0.05783,
     "end_time": "2023-11-26T04:11:44.599106",
     "exception": false,
     "start_time": "2023-11-26T04:11:44.541276",
     "status": "completed"
    },
    "tags": []
   },
   "outputs": [
    {
     "name": "stdout",
     "output_type": "stream",
     "text": [
      "CPU times: user 24 ms, sys: 978 µs, total: 25 ms\n",
      "Wall time: 24.3 ms\n"
     ]
    }
   ],
   "source": [
    "%%time\n",
    "def standardize_features(df, features, method='zscore'):\n",
    "    # Making a copy of the dataframe to avoid changing the original dataframe\n",
    "    df_copy = df.copy()\n",
    "\n",
    "    # Selecting the features to be standardized\n",
    "    data_to_scale = df_copy[features]\n",
    "\n",
    "    # Choosing the standardization method\n",
    "    if method == 'zscore':\n",
    "        scaler = StandardScaler()\n",
    "    elif method == 'minmax':\n",
    "        scaler = MinMaxScaler()\n",
    "    elif method == 'robust':\n",
    "        scaler = RobustScaler()\n",
    "    else:\n",
    "        raise ValueError(\"Invalid method. Choose from 'zscore', 'minmax', or 'robust'.\")\n",
    "\n",
    "    # Applying the standardization\n",
    "    standardized_data = scaler.fit_transform(data_to_scale)\n",
    "\n",
    "    # Replacing the original feature values with the standardized values\n",
    "    df_copy[features] = standardized_data\n",
    "\n",
    "    return df_copy\n",
    "\n",
    "train_df = standardize_features(train_df, features, method = 'robust')\n",
    "test_df = standardize_features(test_df, features, method = 'robust')"
   ]
  },
  {
   "cell_type": "markdown",
   "id": "25ce200e",
   "metadata": {
    "papermill": {
     "duration": 0.022973,
     "end_time": "2023-11-26T04:11:44.646416",
     "exception": false,
     "start_time": "2023-11-26T04:11:44.623443",
     "status": "completed"
    },
    "tags": []
   },
   "source": [
    "## 6.3 K-Means Features"
   ]
  },
  {
   "cell_type": "code",
   "execution_count": null,
   "id": "47bfec6a",
   "metadata": {
    "execution": {
     "iopub.execute_input": "2023-11-26T04:11:44.695423Z",
     "iopub.status.busy": "2023-11-26T04:11:44.694681Z",
     "iopub.status.idle": "2023-11-26T04:11:44.701417Z",
     "shell.execute_reply": "2023-11-26T04:11:44.700513Z"
    },
    "papermill": {
     "duration": 0.033677,
     "end_time": "2023-11-26T04:11:44.703482",
     "exception": false,
     "start_time": "2023-11-26T04:11:44.669805",
     "status": "completed"
    },
    "tags": []
   },
   "outputs": [],
   "source": [
    "def kmeans_features(df, features, n_clusters=3):\n",
    "    \"\"\"\n",
    "    Adds new features to the DataFrame based on K-means clustering.\n",
    "    \n",
    "    Parameters:\n",
    "    - df: pandas DataFrame.\n",
    "    - features: List of features to use for clustering.\n",
    "    - n_clusters: Number of clusters for K-means clustering (default is 3).\n",
    "    \n",
    "    Returns:\n",
    "    - pandas DataFrame with new features based on the clustering.\n",
    "    \"\"\"\n",
    "    # Extract the relevant features for clustering\n",
    "    X = df[features]\n",
    "    \n",
    "    # Apply K-means clustering\n",
    "    kmeans = KMeans(n_clusters=n_clusters, random_state=42).fit(X)\n",
    "    \n",
    "    # Create a new feature for the cluster labels\n",
    "    df['cluster_label'] = kmeans.labels_\n",
    "    \n",
    "    # Add distance features for each cluster center\n",
    "    for i, center in enumerate(kmeans.cluster_centers_):\n",
    "        df[f'dist_to_center_{i}'] = ((X - center) ** 2).sum(axis=1) ** 0.5\n",
    "        \n",
    "    return df\n",
    "\n",
    "#train_df = kmeans_features(train_df, features, 5)\n",
    "#test_df = kmeans_features(test_df, features, 5)"
   ]
  },
  {
   "cell_type": "markdown",
   "id": "15c451bc",
   "metadata": {
    "papermill": {
     "duration": 0.022726,
     "end_time": "2023-11-26T04:11:44.749354",
     "exception": false,
     "start_time": "2023-11-26T04:11:44.726628",
     "status": "completed"
    },
    "tags": []
   },
   "source": [
    "## 6.4 Nearest Neighbor Features"
   ]
  },
  {
   "cell_type": "code",
   "execution_count": null,
   "id": "736520c7",
   "metadata": {
    "execution": {
     "iopub.execute_input": "2023-11-26T04:11:44.797231Z",
     "iopub.status.busy": "2023-11-26T04:11:44.796346Z",
     "iopub.status.idle": "2023-11-26T04:11:44.833525Z",
     "shell.execute_reply": "2023-11-26T04:11:44.832599Z"
    },
    "papermill": {
     "duration": 0.063581,
     "end_time": "2023-11-26T04:11:44.835744",
     "exception": false,
     "start_time": "2023-11-26T04:11:44.772163",
     "status": "completed"
    },
    "tags": []
   },
   "outputs": [],
   "source": [
    "# This part of the code, utilized ML to estimate the Crystals Structures for the provided train dataset...\n",
    "\n",
    "trn_shared_cols = [col for col in train_df.columns if col in crystals.columns]\n",
    "\n",
    "x_train = train_df[trn_shared_cols]\n",
    "x_crystals = crystals[trn_shared_cols]\n",
    "\n",
    "nn_model = NearestNeighbors(n_neighbors=1, p=2)\n",
    "nn_model.fit(x_crystals)\n",
    "\n",
    "dist_df, idx_df =  nn_model.kneighbors(x_train)\n",
    "train_df['crystal_structure'] = crystals.iloc[idx_df.flatten()]['Crystal structure'].values\n",
    "\n",
    "tst_shared_cols = [col for col in test_df.columns if col in crystals.columns]\n",
    "\n",
    "dist_df, idx_df =  nn_model.kneighbors(test_df[tst_shared_cols])\n",
    "test_df['crystal_structure'] = crystals.iloc[idx_df.flatten()]['Crystal structure'].values"
   ]
  },
  {
   "cell_type": "markdown",
   "id": "757a61b6",
   "metadata": {
    "papermill": {
     "duration": 0.022917,
     "end_time": "2023-11-26T04:11:44.881854",
     "exception": false,
     "start_time": "2023-11-26T04:11:44.858937",
     "status": "completed"
    },
    "tags": []
   },
   "source": [
    "## 6.5 Label Encoding\n"
   ]
  },
  {
   "cell_type": "code",
   "execution_count": null,
   "id": "a91b420f",
   "metadata": {
    "execution": {
     "iopub.execute_input": "2023-11-26T04:11:44.929845Z",
     "iopub.status.busy": "2023-11-26T04:11:44.929012Z",
     "iopub.status.idle": "2023-11-26T04:11:44.955541Z",
     "shell.execute_reply": "2023-11-26T04:11:44.954562Z"
    },
    "papermill": {
     "duration": 0.052863,
     "end_time": "2023-11-26T04:11:44.957715",
     "exception": false,
     "start_time": "2023-11-26T04:11:44.904852",
     "status": "completed"
    },
    "tags": []
   },
   "outputs": [
    {
     "name": "stdout",
     "output_type": "stream",
     "text": [
      "Index(['crystal_structure'], dtype='object')\n"
     ]
    }
   ],
   "source": [
    "from sklearn.preprocessing import LabelEncoder\n",
    "import pandas as pd\n",
    "\n",
    "def encode_categorical_variables(train, test):\n",
    "    \"\"\"\n",
    "    This function performs label encoding on categorical variables in the train and test datasets.\n",
    "    It identifies categorical variables, encodes them in the train dataset, and applies the same\n",
    "    encoding to the test dataset.\n",
    "\n",
    "    :param train: Pandas DataFrame for training data\n",
    "    :param test: Pandas DataFrame for testing data\n",
    "    :return: Tuple of DataFrames with encoded variables (encoded_train, encoded_test)\n",
    "    \"\"\"\n",
    "    # Identifying categorical variables in the train dataset\n",
    "    categorical_columns = train.select_dtypes(include=['object', 'category']).columns\n",
    "    print(categorical_columns)\n",
    "\n",
    "    # Creating a copy of the datasets to avoid modifying the original ones\n",
    "    encoded_train = train.copy()\n",
    "    encoded_train['is_train'] = 1\n",
    "    encoded_test = test.copy()\n",
    "    encoded_test['is_train'] = 0\n",
    "    encoded_tmp = pd.concat([encoded_train, encoded_test])\n",
    "\n",
    "    # Initializing and applying LabelEncoder to each categorical column\n",
    "    for column in categorical_columns:\n",
    "        le = LabelEncoder()\n",
    "        # Fit on the train data and transform both train and test data\n",
    "        le.fit(encoded_tmp[column])\n",
    "        # Transform test data using the same encoder\n",
    "        encoded_tmp[column] = le.transform(encoded_tmp[column])\n",
    "        \n",
    "        encoded_train = encoded_tmp[encoded_tmp['is_train'] == 1]\n",
    "        encoded_test = encoded_tmp[encoded_tmp['is_train'] == 0]\n",
    "        \n",
    "        encoded_train.drop(columns = 'is_train', inplace = True)\n",
    "        encoded_test.drop(columns = 'is_train', inplace = True)\n",
    "\n",
    "    return encoded_train, encoded_test\n",
    "\n",
    "# Example usage\n",
    "# Assuming you have train_df and test_df as your train and test DataFrames\n",
    "encoded_train_df, encoded_test_df = encode_categorical_variables(train_df, test_df)"
   ]
  },
  {
   "cell_type": "markdown",
   "id": "4432f1db",
   "metadata": {
    "papermill": {
     "duration": 0.022944,
     "end_time": "2023-11-26T04:11:45.004081",
     "exception": false,
     "start_time": "2023-11-26T04:11:44.981137",
     "status": "completed"
    },
    "tags": []
   },
   "source": [
    "# 7.0 Feature Selection"
   ]
  },
  {
   "cell_type": "code",
   "execution_count": null,
   "id": "dc259558",
   "metadata": {
    "execution": {
     "iopub.execute_input": "2023-11-26T04:11:45.052617Z",
     "iopub.status.busy": "2023-11-26T04:11:45.052249Z",
     "iopub.status.idle": "2023-11-26T04:11:45.907991Z",
     "shell.execute_reply": "2023-11-26T04:11:45.906939Z"
    },
    "papermill": {
     "duration": 0.884848,
     "end_time": "2023-11-26T04:11:45.912266",
     "exception": false,
     "start_time": "2023-11-26T04:11:45.027418",
     "status": "completed"
    },
    "tags": []
   },
   "outputs": [
    {
     "data": {
      "image/png": "[encoded data removed]",
      "text/plain": [
       "<Figure size 1000x800 with 2 Axes>"
      ]
     },
     "metadata": {},
     "output_type": "display_data"
    }
   ],
   "source": [
    "corr = encoded_train_df.corr()\n",
    "mask = np.triu(np.ones_like(corr, dtype=bool))\n",
    "\n",
    "fig, ax = plt.subplots(figsize=(10, 8))\n",
    "\n",
    "heatmap = sns.heatmap(corr, mask=mask, cmap='pink_r', vmax=.3, center=0,\n",
    "            annot=True, fmt='.2f', square=True, linewidths=.5, cbar_kws={\"shrink\": .5})\n",
    "\n",
    "plt.xticks(rotation=45, ha='right')\n",
    "plt.yticks(rotation=0)\n",
    "\n",
    "title = heatmap.set_title(\"Correlation Heatmap\", weight='bold', size=16)\n",
    "title.set_position([0.45, 1.1])\n",
    "plt.show()"
   ]
  },
  {
   "cell_type": "code",
   "execution_count": null,
   "id": "3b3a99cd",
   "metadata": {
    "execution": {
     "iopub.execute_input": "2023-11-26T04:11:45.976500Z",
     "iopub.status.busy": "2023-11-26T04:11:45.975560Z",
     "iopub.status.idle": "2023-11-26T04:11:46.879753Z",
     "shell.execute_reply": "2023-11-26T04:11:46.878056Z"
    },
    "papermill": {
     "duration": 0.938793,
     "end_time": "2023-11-26T04:11:46.882239",
     "exception": false,
     "start_time": "2023-11-26T04:11:45.943446",
     "status": "completed"
    },
    "tags": []
   },
   "outputs": [
    {
     "name": "stdout",
     "output_type": "stream",
     "text": [
      "+-----------------------+--------------------+\n",
      "|        Feature        | Mutual Information |\n",
      "+-----------------------+--------------------+\n",
      "|  atomicweight_Average |        0.55        |\n",
      "|    zaratio_Average    |       0.541        |\n",
      "|   ionenergy_Average   |       0.501        |\n",
      "| R_cov_element_Average |        0.48        |\n",
      "| R_vdw_element_Average |       0.448        |\n",
      "|   el_neg_chi_Average  |       0.444        |\n",
      "|  allelectrons_Average |       0.432        |\n",
      "|     density_Total     |       0.383        |\n",
      "|     val_e_Average     |       0.335        |\n",
      "|   allelectrons_Total  |       0.333        |\n",
      "|    density_Average    |       0.225        |\n",
      "|     Outlier_Count     |        0.08        |\n",
      "|   crystal_structure   |       0.003        |\n",
      "+-----------------------+--------------------+\n"
     ]
    }
   ],
   "source": [
    "from sklearn.feature_selection import mutual_info_regression\n",
    "from prettytable import PrettyTable\n",
    "\n",
    "X = encoded_train_df.drop('Hardness', axis=1)\n",
    "y = encoded_train_df['Hardness']\n",
    "\n",
    "mi_scores = mutual_info_regression(X, y)\n",
    "mi_scores = pd.Series(mi_scores, name=\"Mutual Information\", index=X.columns)\n",
    "mi_scores = mi_scores.sort_values(ascending=False)\n",
    "\n",
    "pretty_table = PrettyTable()\n",
    "pretty_table.field_names = [\"Feature\", \"Mutual Information\"]\n",
    "\n",
    "for feature, mi_score in mi_scores.items():\n",
    "    pretty_table.add_row([feature, round(mi_score, 3)])\n",
    "\n",
    "print(pretty_table)"
   ]
  },
  {
   "cell_type": "code",
   "execution_count": null,
   "id": "61835c77",
   "metadata": {
    "execution": {
     "iopub.execute_input": "2023-11-26T04:11:46.941339Z",
     "iopub.status.busy": "2023-11-26T04:11:46.940960Z",
     "iopub.status.idle": "2023-11-26T04:11:46.946152Z",
     "shell.execute_reply": "2023-11-26T04:11:46.945271Z"
    },
    "papermill": {
     "duration": 0.035916,
     "end_time": "2023-11-26T04:11:46.948160",
     "exception": false,
     "start_time": "2023-11-26T04:11:46.912244",
     "status": "completed"
    },
    "tags": []
   },
   "outputs": [],
   "source": [
    "avoid_this_features = ['id', \n",
    "                       'Hardness', \n",
    "                       #'allelectrons_Total', \n",
    "                       #'R_vdw_element_Average',\n",
    "                       #'allelectrons_Average'\n",
    "                       #'density_Average'\n",
    "                      ]\n",
    "\n",
    "features = [feat for feat in train_df.columns if feat not in avoid_this_features]"
   ]
  },
  {
   "cell_type": "markdown",
   "id": "b1d69f4d",
   "metadata": {
    "papermill": {
     "duration": 0.026459,
     "end_time": "2023-11-26T04:11:47.001171",
     "exception": false,
     "start_time": "2023-11-26T04:11:46.974712",
     "status": "completed"
    },
    "tags": []
   },
   "source": [
    "---"
   ]
  },
  {
   "cell_type": "markdown",
   "id": "e022b616",
   "metadata": {
    "papermill": {
     "duration": 0.027516,
     "end_time": "2023-11-26T04:11:47.055863",
     "exception": false,
     "start_time": "2023-11-26T04:11:47.028347",
     "status": "completed"
    },
    "tags": []
   },
   "source": [
    "# 8.0 Baseline Model, A Simple Linear Regression..."
   ]
  },
  {
   "cell_type": "code",
   "execution_count": null,
   "id": "0180d7d1",
   "metadata": {
    "execution": {
     "iopub.execute_input": "2023-11-26T04:11:47.112819Z",
     "iopub.status.busy": "2023-11-26T04:11:47.112098Z",
     "iopub.status.idle": "2023-11-26T04:11:47.122344Z",
     "shell.execute_reply": "2023-11-26T04:11:47.121549Z"
    },
    "papermill": {
     "duration": 0.041196,
     "end_time": "2023-11-26T04:11:47.124439",
     "exception": false,
     "start_time": "2023-11-26T04:11:47.083243",
     "status": "completed"
    },
    "tags": []
   },
   "outputs": [],
   "source": [
    "import pandas as pd\n",
    "import numpy as np\n",
    "from sklearn.model_selection import train_test_split\n",
    "from sklearn.linear_model import LinearRegression\n",
    "from sklearn.metrics import mean_squared_error, mean_absolute_error, median_absolute_error\n",
    "\n",
    "def train_linear_regression(df, features, target_column):\n",
    "    \"\"\"\n",
    "    Trains a linear regression model and prints training and validation metrics (RMSE and MAE).\n",
    "\n",
    "    :param df: pandas.DataFrame, the training data.\n",
    "    :param target_column: str, the name of the target variable column in df.\n",
    "    :return: tuple, (model, predictions, validation_data)\n",
    "    \"\"\"\n",
    "    # Splitting the DataFrame into X (features) and y (target)\n",
    "    X = df.drop(target_column, axis=1)\n",
    "    X = X[features]\n",
    "    y = df[target_column]\n",
    "\n",
    "    # Splitting the data into training and validation sets\n",
    "    X_train, X_val, y_train, y_val = train_test_split(X, y, test_size=0.2, random_state=42)\n",
    "\n",
    "    # Creating and training the model\n",
    "    model = LinearRegression()\n",
    "    model.fit(X_train, y_train)\n",
    "\n",
    "    # Making predictions on the training and validation sets\n",
    "    train_predictions = model.predict(X_train)\n",
    "    val_predictions = model.predict(X_val)\n",
    "\n",
    "    # Calculating metrics for the training set\n",
    "    train_rmse = np.sqrt(mean_squared_error(y_train, train_predictions))\n",
    "    train_medAE = median_absolute_error(y_train, train_predictions)\n",
    "\n",
    "    # Calculating metrics for the validation set\n",
    "    val_rmse = np.sqrt(mean_squared_error(y_val, val_predictions))\n",
    "    val_medAE = median_absolute_error(y_val, val_predictions)\n",
    "\n",
    "    # Printing the metrics\n",
    "    print(f\"Training RMSE: {train_rmse: .2f}\")\n",
    "    print(f\"Training MEDAE: {train_medAE: .2f}\")\n",
    "    print('...')\n",
    "    print(f\"Validation RMSE: {val_rmse: .2f}\")\n",
    "    print(f\"Validation MEDAE: {val_medAE: .2f}\")\n",
    "\n",
    "    # Combining the validation data and predictions for easy analysis\n",
    "    validation_data = X_val.copy()\n",
    "    validation_data[target_column] = y_val\n",
    "    validation_data['Predictions'] = val_predictions\n",
    "\n",
    "    return model, val_predictions, validation_data\n",
    "\n",
    "# Example usage:\n",
    "# model, val_predictions, validation_data = train_linear_regression(your_dataframe, 'target_column_name')\n"
   ]
  },
  {
   "cell_type": "code",
   "execution_count": null,
   "id": "8ee86400",
   "metadata": {
    "execution": {
     "iopub.execute_input": "2023-11-26T04:11:47.182681Z",
     "iopub.status.busy": "2023-11-26T04:11:47.182071Z",
     "iopub.status.idle": "2023-11-26T04:11:47.186494Z",
     "shell.execute_reply": "2023-11-26T04:11:47.185591Z"
    },
    "papermill": {
     "duration": 0.035088,
     "end_time": "2023-11-26T04:11:47.188628",
     "exception": false,
     "start_time": "2023-11-26T04:11:47.153540",
     "status": "completed"
    },
    "tags": []
   },
   "outputs": [],
   "source": [
    "# model, predictions, validation_data = train_linear_regression(encoded_train_df, features, 'Hardness')"
   ]
  },
  {
   "cell_type": "code",
   "execution_count": null,
   "id": "da644da5",
   "metadata": {
    "execution": {
     "iopub.execute_input": "2023-11-26T04:11:47.243190Z",
     "iopub.status.busy": "2023-11-26T04:11:47.242884Z",
     "iopub.status.idle": "2023-11-26T04:11:47.246896Z",
     "shell.execute_reply": "2023-11-26T04:11:47.246024Z"
    },
    "papermill": {
     "duration": 0.032995,
     "end_time": "2023-11-26T04:11:47.248816",
     "exception": false,
     "start_time": "2023-11-26T04:11:47.215821",
     "status": "completed"
    },
    "tags": []
   },
   "outputs": [],
   "source": [
    "#test_predictions = model.predict(encoded_test_df[features])"
   ]
  },
  {
   "cell_type": "code",
   "execution_count": null,
   "id": "5717fff4",
   "metadata": {
    "execution": {
     "iopub.execute_input": "2023-11-26T04:11:47.301438Z",
     "iopub.status.busy": "2023-11-26T04:11:47.300835Z",
     "iopub.status.idle": "2023-11-26T04:11:47.304872Z",
     "shell.execute_reply": "2023-11-26T04:11:47.303986Z"
    },
    "papermill": {
     "duration": 0.032448,
     "end_time": "2023-11-26T04:11:47.306895",
     "exception": false,
     "start_time": "2023-11-26T04:11:47.274447",
     "status": "completed"
    },
    "tags": []
   },
   "outputs": [],
   "source": [
    "# sample_path = '/kaggle/input/playground-series-s3e25/sample_submission.csv'\n",
    "# sample_df = read_csv_to_dataframe(sample_path)\n",
    "# sample_df['Hardness'] = test_predictions\n",
    "\n",
    "# sample_df.to_csv('submission.csv', index=False)"
   ]
  },
  {
   "cell_type": "markdown",
   "id": "060a2e0e",
   "metadata": {
    "papermill": {
     "duration": 0.025026,
     "end_time": "2023-11-26T04:11:47.357520",
     "exception": false,
     "start_time": "2023-11-26T04:11:47.332494",
     "status": "completed"
    },
    "tags": []
   },
   "source": [
    "---"
   ]
  },
  {
   "cell_type": "markdown",
   "id": "6957fc8f",
   "metadata": {
    "papermill": {
     "duration": 0.025214,
     "end_time": "2023-11-26T04:11:47.408101",
     "exception": false,
     "start_time": "2023-11-26T04:11:47.382887",
     "status": "completed"
    },
    "tags": []
   },
   "source": [
    "# 9.0 Gradient Boosted Desicion Tree, CatBoost Model..."
   ]
  },
  {
   "cell_type": "markdown",
   "id": "fa931a8d",
   "metadata": {
    "papermill": {
     "duration": 0.02546,
     "end_time": "2023-11-26T04:11:47.459105",
     "exception": false,
     "start_time": "2023-11-26T04:11:47.433645",
     "status": "completed"
    },
    "tags": []
   },
   "source": [
    "## 9.1 Model One"
   ]
  },
  {
   "cell_type": "code",
   "execution_count": null,
   "id": "5db18cbd",
   "metadata": {
    "execution": {
     "iopub.execute_input": "2023-11-26T04:11:47.512723Z",
     "iopub.status.busy": "2023-11-26T04:11:47.511866Z",
     "iopub.status.idle": "2023-11-26T04:11:47.517265Z",
     "shell.execute_reply": "2023-11-26T04:11:47.516333Z"
    },
    "papermill": {
     "duration": 0.034311,
     "end_time": "2023-11-26T04:11:47.519293",
     "exception": false,
     "start_time": "2023-11-26T04:11:47.484982",
     "status": "completed"
    },
    "tags": []
   },
   "outputs": [],
   "source": [
    "params = {\n",
    "    'verbose': False,\n",
    "    'random_seed': 42,\n",
    "    'iterations': 3000,\n",
    "    'loss_function': 'Quantile:alpha=0.5',\n",
    "    'depth': 7,\n",
    "    'subsample':0.7841394148733731,\n",
    "    'learning_rate': 0.04442655333145627,\n",
    "    'l2_leaf_reg': 3.523614847869309,\n",
    "    'leaf_estimation_method': 'Exact',\n",
    "    'boost_from_average': True,\n",
    "}"
   ]
  },
  {
   "cell_type": "code",
   "execution_count": null,
   "id": "8008ea29",
   "metadata": {
    "execution": {
     "iopub.execute_input": "2023-11-26T04:11:47.573844Z",
     "iopub.status.busy": "2023-11-26T04:11:47.572980Z",
     "iopub.status.idle": "2023-11-26T04:16:43.584631Z",
     "shell.execute_reply": "2023-11-26T04:16:43.583563Z"
    },
    "papermill": {
     "duration": 296.041357,
     "end_time": "2023-11-26T04:16:43.586912",
     "exception": false,
     "start_time": "2023-11-26T04:11:47.545555",
     "status": "completed"
    },
    "tags": []
   },
   "outputs": [
    {
     "name": "stdout",
     "output_type": "stream",
     "text": [
      "Fold 1 MedAE: 0.5220\n",
      "Fold 2 MedAE: 0.5102\n",
      "Fold 3 MedAE: 0.5404\n",
      "Fold 4 MedAE: 0.5162\n",
      "Fold 5 MedAE: 0.5075\n",
      "Fold 6 MedAE: 0.4987\n",
      "Fold 7 MedAE: 0.5446\n",
      "Fold 8 MedAE: 0.4858\n",
      "Fold 9 MedAE: 0.5098\n",
      "Fold 10 MedAE: 0.5428\n",
      "\n",
      " Overall MedAE for OOF Predictions: 0.5168\n"
     ]
    }
   ],
   "source": [
    "# ...\n",
    "target = 'Hardness'\n",
    "\n",
    "# ...\n",
    "X = train_df.drop(columns = target)\n",
    "y = train_df[target].values \n",
    "\n",
    "# ...\n",
    "kfold = KFold(n_splits=10, shuffle=True, random_state=42)\n",
    "fold_number = 1\n",
    "oof_preds = np.zeros(y.shape)\n",
    "models = []\n",
    "val_results = []\n",
    "feat_imporances = np.zeros(X[features].shape[1])\n",
    "results_df = pd.DataFrame(columns = ['Hardness_predicted', 'Hardness_true'])\n",
    "categ_feat = ['crystal_structure']\n",
    "\n",
    "\n",
    "# ....\n",
    "for trn_idx, val_idx in kfold.split(X,y):\n",
    "    x_trn, x_val = X[features].iloc[trn_idx], X[features].iloc[val_idx]\n",
    "    y_trn, y_val = y[trn_idx], y[val_idx]\n",
    "    \n",
    "    trn_pool = Pool(x_trn, y_trn, feature_names=features, cat_features=categ_feat)\n",
    "    val_pool = Pool(x_val, y_val, feature_names=features, cat_features=categ_feat)\n",
    "    \n",
    "    # Define the catboost regressor model...\n",
    "    model = CatBoostRegressor(**params)\n",
    "    model.fit(trn_pool, eval_set=val_pool, early_stopping_rounds=256)\n",
    "    models. append(model)\n",
    "    \n",
    "    val_result = model.eval_metrics(val_pool, ['MedianAbsoluteError'])\n",
    "    val_results.append(val_result)\n",
    "    \n",
    "    feat_imporances += model.get_feature_importance()\n",
    "    fold_pred = model.predict(x_val)\n",
    "    oof_preds[val_idx] = fold_pred\n",
    "    \n",
    "    temp_df = pd.DataFrame({'Hardness_predicted': fold_pred, 'Hardness_true': y_val})\n",
    "    results_df = pd.concat([results_df, temp_df], ignore_index=True)\n",
    "    \n",
    "    fold_mae = median_absolute_error(y_val, fold_pred)\n",
    "    fold_std = np.std(np.abs(fold_pred - y_val))\n",
    "    print(f\"Fold {fold_number} MedAE: {fold_mae:.4f}\")\n",
    "    fold_number += 1\n",
    "    \n",
    "feat_imporances /= kfold.get_n_splits()\n",
    "oof_mae = median_absolute_error(y, oof_preds)\n",
    "print(f\"\\n Overall MedAE for OOF Predictions: {oof_mae:.4f}\")"
   ]
  },
  {
   "cell_type": "code",
   "execution_count": null,
   "id": "11835ac3",
   "metadata": {
    "execution": {
     "iopub.execute_input": "2023-11-26T04:16:43.641277Z",
     "iopub.status.busy": "2023-11-26T04:16:43.640960Z",
     "iopub.status.idle": "2023-11-26T04:16:43.644782Z",
     "shell.execute_reply": "2023-11-26T04:16:43.643986Z"
    },
    "papermill": {
     "duration": 0.033034,
     "end_time": "2023-11-26T04:16:43.646694",
     "exception": false,
     "start_time": "2023-11-26T04:16:43.613660",
     "status": "completed"
    },
    "tags": []
   },
   "outputs": [],
   "source": [
    "# Model Score, Plain Model: 0.5167 ...\n",
    "# Removing some of the features with high correlation: 0.5097..."
   ]
  },
  {
   "cell_type": "markdown",
   "id": "a1ad0023",
   "metadata": {
    "papermill": {
     "duration": 0.025687,
     "end_time": "2023-11-26T04:16:43.698304",
     "exception": false,
     "start_time": "2023-11-26T04:16:43.672617",
     "status": "completed"
    },
    "tags": []
   },
   "source": [
    "## 9.2 Model Two Sample Weigth"
   ]
  },
  {
   "cell_type": "code",
   "execution_count": null,
   "id": "5ee580bf",
   "metadata": {
    "execution": {
     "iopub.execute_input": "2023-11-26T04:16:43.751437Z",
     "iopub.status.busy": "2023-11-26T04:16:43.751089Z",
     "iopub.status.idle": "2023-11-26T04:24:05.143142Z",
     "shell.execute_reply": "2023-11-26T04:24:05.142232Z"
    },
    "papermill": {
     "duration": 441.447566,
     "end_time": "2023-11-26T04:24:05.171674",
     "exception": false,
     "start_time": "2023-11-26T04:16:43.724108",
     "status": "completed"
    },
    "tags": []
   },
   "outputs": [
    {
     "name": "stdout",
     "output_type": "stream",
     "text": [
      "Fold 1 MedAE: 0.5153\n",
      "Fold 2 MedAE: 0.4905\n",
      "Fold 3 MedAE: 0.5736\n",
      "Fold 4 MedAE: 0.5045\n",
      "Fold 5 MedAE: 0.5047\n",
      "Fold 6 MedAE: 0.4886\n",
      "Fold 7 MedAE: 0.5404\n",
      "Fold 8 MedAE: 0.4701\n",
      "Fold 9 MedAE: 0.5024\n",
      "Fold 10 MedAE: 0.5321\n",
      "\n",
      " Overall MedAE for OOF Predictions: 0.5072\n"
     ]
    }
   ],
   "source": [
    "# ...\n",
    "target = 'Hardness'\n",
    "\n",
    "# ...\n",
    "X = train_df.drop(columns = target)\n",
    "y = train_df[target].values \n",
    "\n",
    "# ...\n",
    "kfold = KFold(n_splits=10, shuffle=True, random_state=42)\n",
    "fold_number = 1\n",
    "oof_preds = np.zeros(y.shape)\n",
    "models = []\n",
    "val_results = []\n",
    "feat_imporances = np.zeros(X[features].shape[1])\n",
    "results_df = pd.DataFrame(columns = ['Hardness_predicted', 'Hardness_true'])\n",
    "categ_feat = ['crystal_structure']\n",
    "\n",
    "base_weight = 0.01\n",
    "lower, upper = 0.07, 1.2\n",
    "\n",
    "# ....\n",
    "for trn_idx, val_idx in kfold.split(X,y):\n",
    "    x_trn, x_val = X[features].iloc[trn_idx], X[features].iloc[val_idx]\n",
    "    y_trn, y_val = y[trn_idx], y[val_idx]\n",
    "    \n",
    "    trn_pool = Pool(x_trn, y_trn, feature_names=features, cat_features=categ_feat)\n",
    "    val_pool = Pool(x_val, y_val, feature_names=features, cat_features=categ_feat)\n",
    "    \n",
    "    # Define the catboost regressor model...\n",
    "    model = CatBoostRegressor(**params)\n",
    "    model.fit(trn_pool, eval_set=val_pool, early_stopping_rounds=256)\n",
    "    models.append(model)\n",
    "    \n",
    "    initial_predictions = model.predict(x_trn)\n",
    "    \n",
    "    # Calculating sample weights based on initial set of predictions...\n",
    "    error = np.abs(y_trn - initial_predictions)\n",
    "    sample_weigth_trn = base_weight + ((lower < error) & (error < upper))\n",
    "    \n",
    "    # Second training phase with weights\n",
    "    weighted_trn_pool = Pool(x_trn, y_trn, weight=sample_weigth_trn, cat_features=categ_feat)\n",
    "    model.fit(weighted_trn_pool, eval_set=val_pool, early_stopping_rounds=256)\n",
    "    models.append(model)\n",
    "    \n",
    "    # Model evaluation...\n",
    "    val_result = model.eval_metrics(val_pool, ['MedianAbsoluteError'])\n",
    "    val_results.append(val_result)\n",
    "    \n",
    "    feat_imporances += model.get_feature_importance()\n",
    "    fold_pred = model.predict(x_val)\n",
    "    oof_preds[val_idx] = fold_pred\n",
    "    \n",
    "    temp_df = pd.DataFrame({'Hardness_predicted': fold_pred, 'Hardness_true': y_val})\n",
    "    results_df = pd.concat([results_df, temp_df], ignore_index=True)\n",
    "    \n",
    "    fold_mae = median_absolute_error(y_val, fold_pred)\n",
    "    fold_std = np.std(np.abs(fold_pred - y_val))\n",
    "    print(f\"Fold {fold_number} MedAE: {fold_mae:.4f}\")\n",
    "    fold_number += 1\n",
    "    \n",
    "feat_imporances /= kfold.get_n_splits()\n",
    "oof_mae = median_absolute_error(y, oof_preds)\n",
    "print(f\"\\n Overall MedAE for OOF Predictions: {oof_mae:.4f}\")"
   ]
  },
  {
   "cell_type": "code",
   "execution_count": null,
   "id": "dc95cbd1",
   "metadata": {
    "execution": {
     "iopub.execute_input": "2023-11-26T04:24:05.226837Z",
     "iopub.status.busy": "2023-11-26T04:24:05.226530Z",
     "iopub.status.idle": "2023-11-26T04:24:05.230431Z",
     "shell.execute_reply": "2023-11-26T04:24:05.229620Z"
    },
    "papermill": {
     "duration": 0.033696,
     "end_time": "2023-11-26T04:24:05.232288",
     "exception": false,
     "start_time": "2023-11-26T04:24:05.198592",
     "status": "completed"
    },
    "tags": []
   },
   "outputs": [],
   "source": [
    "# Removing some of the features with high correlation: 0.5013 >>> 0.48731 ...\n",
    "# Removing some of the features with high correlation: 0.4972 >>> ??????? ... Adding outliers..."
   ]
  },
  {
   "cell_type": "markdown",
   "id": "31bc3903",
   "metadata": {
    "papermill": {
     "duration": 0.026813,
     "end_time": "2023-11-26T04:24:05.286069",
     "exception": false,
     "start_time": "2023-11-26T04:24:05.259256",
     "status": "completed"
    },
    "tags": []
   },
   "source": [
    "## 9.3 Model Predictions"
   ]
  },
  {
   "cell_type": "code",
   "execution_count": null,
   "id": "1dabf057",
   "metadata": {
    "execution": {
     "iopub.execute_input": "2023-11-26T04:24:05.340964Z",
     "iopub.status.busy": "2023-11-26T04:24:05.340637Z",
     "iopub.status.idle": "2023-11-26T04:24:05.725773Z",
     "shell.execute_reply": "2023-11-26T04:24:05.724950Z"
    },
    "papermill": {
     "duration": 0.415297,
     "end_time": "2023-11-26T04:24:05.728135",
     "exception": false,
     "start_time": "2023-11-26T04:24:05.312838",
     "status": "completed"
    },
    "tags": []
   },
   "outputs": [],
   "source": [
    "predictions = np.zeros(test_df[features].shape[0])\n",
    "\n",
    "for model in models:\n",
    "    predictions += model.predict(test_df[features])\n",
    "\n",
    "predictions /= len(models)\n",
    "test_df['Hardness'] = predictions"
   ]
  },
  {
   "cell_type": "markdown",
   "id": "53df36ed",
   "metadata": {
    "papermill": {
     "duration": 0.027672,
     "end_time": "2023-11-26T04:24:05.784138",
     "exception": false,
     "start_time": "2023-11-26T04:24:05.756466",
     "status": "completed"
    },
    "tags": []
   },
   "source": [
    "## 9.5 Submission"
   ]
  },
  {
   "cell_type": "code",
   "execution_count": null,
   "id": "3a5f7876",
   "metadata": {
    "execution": {
     "iopub.execute_input": "2023-11-26T04:24:05.842171Z",
     "iopub.status.busy": "2023-11-26T04:24:05.841805Z",
     "iopub.status.idle": "2023-11-26T04:24:05.887319Z",
     "shell.execute_reply": "2023-11-26T04:24:05.886480Z"
    },
    "papermill": {
     "duration": 0.077695,
     "end_time": "2023-11-26T04:24:05.889706",
     "exception": false,
     "start_time": "2023-11-26T04:24:05.812011",
     "status": "completed"
    },
    "tags": []
   },
   "outputs": [],
   "source": [
    "sample_path = '/kaggle/input/playground-series-s3e25/sample_submission.csv'\n",
    "sample_df = read_csv_to_dataframe(sample_path)\n",
    "sample_df['Hardness'] = predictions\n",
    "\n",
    "sample_df.to_csv('catboost_submission.csv', index=False)"
   ]
  },
  {
   "cell_type": "code",
   "execution_count": null,
   "id": "4deea25f",
   "metadata": {
    "execution": {
     "iopub.execute_input": "2023-11-26T04:24:05.947088Z",
     "iopub.status.busy": "2023-11-26T04:24:05.946405Z",
     "iopub.status.idle": "2023-11-26T04:24:05.956973Z",
     "shell.execute_reply": "2023-11-26T04:24:05.956151Z"
    },
    "papermill": {
     "duration": 0.041634,
     "end_time": "2023-11-26T04:24:05.959175",
     "exception": false,
     "start_time": "2023-11-26T04:24:05.917541",
     "status": "completed"
    },
    "tags": []
   },
   "outputs": [
    {
     "data": {
      "text/html": [
       "<div>\n",
       "<style scoped>\n",
       "    .dataframe tbody tr th:only-of-type {\n",
       "        vertical-align: middle;\n",
       "    }\n",
       "\n",
       "    .dataframe tbody tr th {\n",
       "        vertical-align: top;\n",
       "    }\n",
       "\n",
       "    .dataframe thead th {\n",
       "        text-align: right;\n",
       "    }\n",
       "</style>\n",
       "<table border=\"1\" class=\"dataframe\">\n",
       "  <thead>\n",
       "    <tr style=\"text-align: right;\">\n",
       "      <th></th>\n",
       "      <th>id</th>\n",
       "      <th>Hardness</th>\n",
       "    </tr>\n",
       "  </thead>\n",
       "  <tbody>\n",
       "    <tr>\n",
       "      <th>0</th>\n",
       "      <td>10407</td>\n",
       "      <td>2.898</td>\n",
       "    </tr>\n",
       "    <tr>\n",
       "      <th>1</th>\n",
       "      <td>10408</td>\n",
       "      <td>2.693</td>\n",
       "    </tr>\n",
       "    <tr>\n",
       "      <th>2</th>\n",
       "      <td>10409</td>\n",
       "      <td>5.753</td>\n",
       "    </tr>\n",
       "    <tr>\n",
       "      <th>3</th>\n",
       "      <td>10410</td>\n",
       "      <td>4.413</td>\n",
       "    </tr>\n",
       "    <tr>\n",
       "      <th>4</th>\n",
       "      <td>10411</td>\n",
       "      <td>4.860</td>\n",
       "    </tr>\n",
       "    <tr>\n",
       "      <th>...</th>\n",
       "      <td>...</td>\n",
       "      <td>...</td>\n",
       "    </tr>\n",
       "    <tr>\n",
       "      <th>6934</th>\n",
       "      <td>17341</td>\n",
       "      <td>5.411</td>\n",
       "    </tr>\n",
       "    <tr>\n",
       "      <th>6935</th>\n",
       "      <td>17342</td>\n",
       "      <td>3.902</td>\n",
       "    </tr>\n",
       "    <tr>\n",
       "      <th>6936</th>\n",
       "      <td>17343</td>\n",
       "      <td>4.903</td>\n",
       "    </tr>\n",
       "    <tr>\n",
       "      <th>6937</th>\n",
       "      <td>17344</td>\n",
       "      <td>4.229</td>\n",
       "    </tr>\n",
       "    <tr>\n",
       "      <th>6938</th>\n",
       "      <td>17345</td>\n",
       "      <td>2.939</td>\n",
       "    </tr>\n",
       "  </tbody>\n",
       "</table>\n",
       "<p>6939 rows × 2 columns</p>\n",
       "</div>"
      ],
      "text/plain": [
       "         id  Hardness\n",
       "0     10407     2.898\n",
       "1     10408     2.693\n",
       "2     10409     5.753\n",
       "3     10410     4.413\n",
       "4     10411     4.860\n",
       "...     ...       ...\n",
       "6934  17341     5.411\n",
       "6935  17342     3.902\n",
       "6936  17343     4.903\n",
       "6937  17344     4.229\n",
       "6938  17345     2.939\n",
       "\n",
       "[6939 rows x 2 columns]"
      ]
     },
     "execution_count": 34,
     "metadata": {},
     "output_type": "execute_result"
    }
   ],
   "source": [
    "sample_df"
   ]
  },
  {
   "cell_type": "markdown",
   "id": "d5401989",
   "metadata": {
    "papermill": {
     "duration": 0.027839,
     "end_time": "2023-11-26T04:24:06.015201",
     "exception": false,
     "start_time": "2023-11-26T04:24:05.987362",
     "status": "completed"
    },
    "tags": []
   },
   "source": [
    "---"
   ]
  },
  {
   "cell_type": "markdown",
   "id": "29114e8c",
   "metadata": {
    "papermill": {
     "duration": 0.027729,
     "end_time": "2023-11-26T04:24:06.071017",
     "exception": false,
     "start_time": "2023-11-26T04:24:06.043288",
     "status": "completed"
    },
    "tags": []
   },
   "source": [
    "# 10.0 Multi-Model..."
   ]
  },
  {
   "cell_type": "markdown",
   "id": "0e780899",
   "metadata": {
    "papermill": {
     "duration": 0.028616,
     "end_time": "2023-11-26T04:24:06.128958",
     "exception": false,
     "start_time": "2023-11-26T04:24:06.100342",
     "status": "completed"
    },
    "tags": []
   },
   "source": [
    "## 10.1 Defining Model Parameters."
   ]
  },
  {
   "cell_type": "code",
   "execution_count": null,
   "id": "2506dfe9",
   "metadata": {
    "execution": {
     "iopub.execute_input": "2023-11-26T04:24:06.192523Z",
     "iopub.status.busy": "2023-11-26T04:24:06.192100Z",
     "iopub.status.idle": "2023-11-26T04:24:06.198259Z",
     "shell.execute_reply": "2023-11-26T04:24:06.197207Z"
    },
    "papermill": {
     "duration": 0.042189,
     "end_time": "2023-11-26T04:24:06.200558",
     "exception": false,
     "start_time": "2023-11-26T04:24:06.158369",
     "status": "completed"
    },
    "tags": []
   },
   "outputs": [],
   "source": [
    "# def cvs(estimator, cv = KFold(shuffle = True, random_state = SEED), m_name = \"\", concat_org = True, train_or_df = mineral_df):\n",
    "    \n",
    "#     X = train_df.copy()\n",
    "#     y = X.pop(TARGET)\n",
    "    \n",
    "#     prediction_vals = np.zeros((len(train_df)))\n",
    "#     scrs, validation_srcs = [], []\n",
    "    \n",
    "#     for fold, (train_idx, val_idx) in enumerate(cv.split(X, y)):\n",
    "        \n",
    "#         model = clone(estimator)\n",
    "        \n",
    "#         X_train = X.iloc[train_idx]\n",
    "#         y_train = y.iloc[train_idx]\n",
    "#         X_val = X.iloc[val_idx]\n",
    "#         y_val = y.iloc[val_idx]\n",
    "        \n",
    "#         if concat_org:\n",
    "#             X_train = pd.concat([X_train, train_or_df.drop(TARGET, axis = 1)]).reset_index(drop = True)\n",
    "#             y_train = pd.concat([y_train, train_or_df.Hardness]).reset_index(drop = True)\n",
    "        \n",
    "#         model.fit(X_train, y_train)   \n",
    "#         train_preds = model.predict(X_train)\n",
    "        \n",
    "#         pred_vals = model.predict(X_val)   \n",
    "#         prediction_vals[val_idx] += pred_vals\n",
    "        \n",
    "#         train_src = median_absolute_error(y_train, train_preds)\n",
    "#         validation_src = median_absolute_error(y_val, pred_vals)\n",
    "        \n",
    "#         scrs.append(train_src)\n",
    "#         validation_srcs.append(validation_src)\n",
    "    \n",
    "#     print(f\"\\n\\n{blue}{m_name.upper()}{res}\\n\" + f\"{mgta}={res}\" * 40 + f\"\\n{cyn}Validation Score:{res} {red}{np.mean(validation_srcs):.5f} ± {np.std(validation_srcs):.5f}{res} \\n{cyn}Train Score:{res} {red}{np.mean(scrs):.5f} ± {np.std(scrs):.5f}{res}\")\n",
    "    \n",
    "#     return validation_src, prediction_vals"
   ]
  },
  {
   "cell_type": "code",
   "execution_count": null,
   "id": "d1d0b055",
   "metadata": {
    "execution": {
     "iopub.execute_input": "2023-11-26T04:24:06.269652Z",
     "iopub.status.busy": "2023-11-26T04:24:06.269295Z",
     "iopub.status.idle": "2023-11-26T04:24:06.275832Z",
     "shell.execute_reply": "2023-11-26T04:24:06.274757Z"
    },
    "papermill": {
     "duration": 0.043783,
     "end_time": "2023-11-26T04:24:06.278036",
     "exception": false,
     "start_time": "2023-11-26T04:24:06.234253",
     "status": "completed"
    },
    "tags": []
   },
   "outputs": [],
   "source": [
    "# scores_list, oof_list = pd.DataFrame(), pd.DataFrame()\n",
    "\n",
    "# models = [\n",
    "#     (\"CB_REG\", CatBoostRegressor(\n",
    "#                             iterations=300,\n",
    "#                             depth=9,\n",
    "#                             verbose = 0,\n",
    "#                             subsample=SUBSAMPLE,\n",
    "#                             reg_lambda=0.075,\n",
    "#                             objective = \"MAE\",\n",
    "#                             random_state = SEED,\n",
    "#                             learning_rate=LR,\n",
    "#                             min_child_samples=96,\n",
    "#                             colsample_bylevel=0.55,\n",
    "#     )),\n",
    "\n",
    "#     (\"XGB_REG\", XGBRegressor(\n",
    "#                         gamma=0.022,\n",
    "#                         max_depth=9,\n",
    "#                         subsample=SUBSAMPLE,\n",
    "#                         reg_alpha=0.003,\n",
    "#                         reg_lambda=0.001,\n",
    "#                         n_estimators=169, \n",
    "#                         random_state = SEED, \n",
    "#                         min_child_weight=10, \n",
    "#                         learning_rate=LR,\n",
    "#                         colsample_bytree=0.95,\n",
    "#                         objective = \"reg:absoluteerror\"\n",
    "#     )),\n",
    "    \n",
    "#     (\"GB_REG\", GradientBoostingRegressor(\n",
    "#                                     alpha=0.45,\n",
    "#                                     max_depth=8, \n",
    "#                                     subsample=SUBSAMPLE,\n",
    "#                                     n_estimators=271, \n",
    "#                                     min_samples_leaf=9, \n",
    "#                                     learning_rate=LR,\n",
    "#                                     random_state = SEED,\n",
    "#                                     min_samples_split=15,\n",
    "#                                     loss = \"absolute_error\"\n",
    "#     )),\n",
    "    \n",
    "#     (\"HGB_REG\", HistGradientBoostingRegressor(\n",
    "#                                         max_iter=251,\n",
    "#                                         max_depth=10, \n",
    "#                                         max_leaf_nodes=776,\n",
    "#                                         learning_rate=LR,\n",
    "#                                         random_state = SEED,\n",
    "#                                         min_samples_leaf=16, \n",
    "#                                         l2_regularization=1.2,\n",
    "#                                         loss = \"absolute_error\",\n",
    "#     )),]\n",
    "\n",
    "# for (label, model) in models:\n",
    "#      scores_list[label], oof_list[label] = cross_val_score(model, m_name = label, train_or_df = mineral_df)"
   ]
  },
  {
   "cell_type": "markdown",
   "id": "05685915",
   "metadata": {
    "papermill": {
     "duration": 0.03305,
     "end_time": "2023-11-26T04:24:06.344806",
     "exception": false,
     "start_time": "2023-11-26T04:24:06.311756",
     "status": "completed"
    },
    "tags": []
   },
   "source": [
    "# 10.0 Complex Model XGBoost + Cross Validation Loop..."
   ]
  },
  {
   "cell_type": "code",
   "execution_count": null,
   "id": "75a79e3e",
   "metadata": {
    "execution": {
     "iopub.execute_input": "2023-11-26T04:24:06.414409Z",
     "iopub.status.busy": "2023-11-26T04:24:06.413439Z",
     "iopub.status.idle": "2023-11-26T04:24:06.420295Z",
     "shell.execute_reply": "2023-11-26T04:24:06.419302Z"
    },
    "papermill": {
     "duration": 0.044177,
     "end_time": "2023-11-26T04:24:06.422595",
     "exception": false,
     "start_time": "2023-11-26T04:24:06.378418",
     "status": "completed"
    },
    "tags": []
   },
   "outputs": [],
   "source": [
    "# def objective(trial):\n",
    "#     # Load the dataset and split it into training and testing sets\n",
    "#     X_train, X_test, y_train, y_test = train_test_split(train_df[features], train_df['Hardness'], test_size=0.25, random_state=SEED)\n",
    "\n",
    "#     # Define the hyperparameters to be optimized\n",
    "#     param = {\n",
    "#         \"booster\": trial.suggest_categorical(\"booster\", [\"gbtree\", \"gblinear\", \"dart\"]),\n",
    "#         \"lambda\": trial.suggest_loguniform(\"lambda\", 1e-8, 1.0),\n",
    "#         \"alpha\": trial.suggest_loguniform(\"alpha\", 1e-8, 1.0),\n",
    "#         \"subsample\": trial.suggest_float(\"subsample\", 0.01, 1.0, step = 0.1),\n",
    "#         \"colsample_bytree\": trial.suggest_float(\"colsample_bytree\", 0.1, 1.0, step = 0.1),\n",
    "#         \"max_depth\": trial.suggest_int(\"max_depth\", 1, 16),\n",
    "#         \"n_estimators\": trial.suggest_int(\"n_estimators\", 256, 4096),\n",
    "#         \"eta\": trial.suggest_float(\"eta\", 0.01, 0.5, step = 0.01),\n",
    "#         \"gamma\": trial.suggest_loguniform(\"gamma\", 1e-8, 1.0),\n",
    "#         \"grow_policy\": trial.suggest_categorical(\"grow_policy\", [\"depthwise\", \"lossguide\"]),\n",
    "#         \"tree_method\": \"gpu_hist\",\n",
    "#     }\n",
    "\n",
    "#     if param[\"booster\"] == \"dart\":\n",
    "#         param[\"sample_type\"] = trial.suggest_categorical(\"sample_type\", [\"uniform\", \"weighted\"])\n",
    "#         param[\"normalize_type\"] = trial.suggest_categorical(\"normalize_type\", [\"tree\", \"forest\"])\n",
    "#         param[\"rate_drop\"] = trial.suggest_loguniform(\"rate_drop\", 1e-8, 1.0)\n",
    "#         param[\"skip_drop\"] = trial.suggest_loguniform(\"skip_drop\", 1e-8, 1.0)\n",
    "\n",
    "#     #Train the XGBoost model with the current hyperparameters\n",
    "#     model = xgb.train(param, xgb.DMatrix(X_train, label = y_train),\n",
    "#                       #num_boost_round=100\n",
    "#                      )\n",
    "    \n",
    "#     #model = xgb.XGBClassifier(**param)\n",
    "#     #model.fit(X_train, y_train, eval_set = [(X_test, y_test)], verbose = 512)\n",
    "\n",
    "#     # Evaluate the model on the test set\n",
    "#     y_pred = model.predict(xgb.DMatrix(X_test))\n",
    "#     loss = median_absolute_error(y_test, y_pred)\n",
    "\n",
    "#     return loss\n",
    "\n",
    "# def optimize_xgboost_hyperparameters(num_trials=512):\n",
    "#     study = optuna.create_study(direction=\"minimize\")\n",
    "#     optuna.logging.set_verbosity(optuna.logging.CRITICAL)\n",
    "#     study.optimize(objective, n_trials=num_trials)\n",
    "\n",
    "#     best_params = study.best_params\n",
    "#     return best_params\n",
    "\n",
    "# # Run the optimization\n",
    "\n",
    "# optimal_params = optimize_xgboost_hyperparameters()\n",
    "# print('.' * 25, '\\n')\n",
    "# print(optimal_params)"
   ]
  },
  {
   "cell_type": "code",
   "execution_count": null,
   "id": "52fa7f26",
   "metadata": {
    "execution": {
     "iopub.execute_input": "2023-11-26T04:24:06.492195Z",
     "iopub.status.busy": "2023-11-26T04:24:06.491294Z",
     "iopub.status.idle": "2023-11-26T04:24:06.498429Z",
     "shell.execute_reply": "2023-11-26T04:24:06.497452Z"
    },
    "papermill": {
     "duration": 0.044508,
     "end_time": "2023-11-26T04:24:06.500711",
     "exception": false,
     "start_time": "2023-11-26T04:24:06.456203",
     "status": "completed"
    },
    "tags": []
   },
   "outputs": [],
   "source": [
    "# import numpy as np\n",
    "# import xgboost as xgb\n",
    "# from sklearn.model_selection import KFold\n",
    "# from sklearn.metrics import mean_squared_error, mean_absolute_error\n",
    "\n",
    "# def fit_xgboost_regressor_with_kfold(df, features, target_variable, parameters, n_splits=10, early_stopping_rounds=10, random_state=42):\n",
    "#     \"\"\"\n",
    "#     Fit an XGBoost Regressor to a pandas DataFrame with k-fold cross-validation and early stopping.\n",
    "\n",
    "#     Parameters:\n",
    "#     df (pandas.DataFrame): The input DataFrame.\n",
    "#     features (list): List of feature column names.\n",
    "#     target_variable (str): The name of the target variable column in the DataFrame.\n",
    "#     parameters (dict): Parameters for XGBoost Regressor.\n",
    "#     n_splits (int): The number of folds in the cross-validation (default: 10).\n",
    "#     early_stopping_rounds (int): Number of rounds for early stopping (default: 10).\n",
    "#     random_state (int): A random seed for reproducible results (default: 42).\n",
    "\n",
    "#     Returns:\n",
    "#     xgboost.XGBRegressor: A trained XGBoost Regressor model.\n",
    "#     numpy.array: Mean predictions over all folds.\n",
    "#     \"\"\"\n",
    "#     X = df[features]\n",
    "#     y = df[target_variable]\n",
    "\n",
    "#     kfold = KFold(n_splits=n_splits, shuffle=True, random_state=random_state)\n",
    " \n",
    "#     model = xgb.XGBRegressor(**parameters)\n",
    "\n",
    "#     fold_rmses = []\n",
    "#     fold_medAEs = []\n",
    "#     fold_predictions = []\n",
    "#     fold = 1\n",
    "\n",
    "#     for train_index, val_index in kfold.split(X, y):\n",
    "#         print(f'Training Fold: {fold} ...')\n",
    "#         X_train, X_val = X.iloc[train_index], X.iloc[val_index]\n",
    "#         y_train, y_val = y.iloc[train_index], y.iloc[val_index]\n",
    "\n",
    "#         eval_set = [(X_val, y_val)]\n",
    "#         model.fit(X_train, y_train, eval_set=eval_set, early_stopping_rounds=early_stopping_rounds, verbose=512)\n",
    "        \n",
    "#         y_pred = model.predict(X_val) \n",
    "#         y_pred_test = model.predict(test_df[features]) \n",
    "        \n",
    "#         fold_rmse = np.sqrt(mean_squared_error(y_val, y_pred))\n",
    "#         fold_medAE = median_absolute_error(y_val, y_pred)\n",
    "#         fold_rmses.append(fold_rmse)\n",
    "#         fold_medAEs.append(fold_medAE)\n",
    "        \n",
    "#         fold_predictions.append(y_pred_test)\n",
    "#         fold += 1\n",
    "        \n",
    "#         print('....', '\\n')\n",
    "    \n",
    "#     predictions = np.mean(fold_predictions, axis = 0)\n",
    "\n",
    "#     print(\"Fold RMSEs:\", fold_rmses)\n",
    "#     print(\"Fold MEDAEs:\", fold_medAEs)\n",
    "#     print(\"Mean RMSE:\", np.mean(fold_rmses))\n",
    "#     print(\"Mean MEDAE:\", np.mean(fold_medAEs))\n",
    "\n",
    "#     return model, predictions"
   ]
  },
  {
   "cell_type": "code",
   "execution_count": null,
   "id": "a4fe440d",
   "metadata": {
    "execution": {
     "iopub.execute_input": "2023-11-26T04:24:06.569281Z",
     "iopub.status.busy": "2023-11-26T04:24:06.568873Z",
     "iopub.status.idle": "2023-11-26T04:24:06.575099Z",
     "shell.execute_reply": "2023-11-26T04:24:06.574041Z"
    },
    "papermill": {
     "duration": 0.043084,
     "end_time": "2023-11-26T04:24:06.577388",
     "exception": false,
     "start_time": "2023-11-26T04:24:06.534304",
     "status": "completed"
    },
    "tags": []
   },
   "outputs": [],
   "source": [
    "# # Base parameters... Before Optimization...\n",
    "# params = {'n_estimators'          : 2048,\n",
    "#           'max_depth'             : 10,\n",
    "#           'learning_rate'         : 0.01,\n",
    "#           'booster'               : 'gbtree',\n",
    "#           'subsample'             : 0.75,\n",
    "#           'colsample_bytree'      : 0.75,\n",
    "#           'reg_lambda'            : 1.00,\n",
    "#           'reg_alpha'             : 0.80,\n",
    "#           'gamma'                 : 0.80,\n",
    "#           'random_state'          : SEED,\n",
    "#           'objective'             : 'reg:absoluteerror',\n",
    "#           'tree_method'           : 'hist',\n",
    "#           'eval_metric'           : median_absolute_error,\n",
    "#           'n_jobs'                : -1,\n",
    "#          }\n",
    "\n",
    "# # Iterations from Optuna...\n",
    "# best_parameters = optimal_params\n",
    "\n",
    "# params = {'n_estimators'          : best_parameters['n_estimators'],\n",
    "#           'max_depth'             : best_parameters['max_depth'],\n",
    "#           'learning_rate'         : best_parameters['eta'],\n",
    "#           'booster'               : best_parameters['booster'],\n",
    "#           'subsample'             : best_parameters['subsample'],\n",
    "#           'colsample_bytree'      : best_parameters['colsample_bytree'],\n",
    "#           'reg_lambda'            : best_parameters['lambda'],\n",
    "#           'reg_alpha'             : best_parameters['alpha'],\n",
    "#           'gamma'                 : best_parameters['gamma'],\n",
    "#           'random_state'          : SEED,\n",
    "#           'objective'             : 'reg:absoluteerror',\n",
    "#           'tree_method'           : 'hist',\n",
    "#           'eval_metric'           : median_absolute_error,\n",
    "#           'grow_policy'           : best_parameters['grow_policy'],\n",
    "#           'n_jobs'                : -1,\n",
    "#          }"
   ]
  },
  {
   "cell_type": "code",
   "execution_count": null,
   "id": "4c2f1a6e",
   "metadata": {
    "execution": {
     "iopub.execute_input": "2023-11-26T04:24:06.644173Z",
     "iopub.status.busy": "2023-11-26T04:24:06.643831Z",
     "iopub.status.idle": "2023-11-26T04:24:06.648501Z",
     "shell.execute_reply": "2023-11-26T04:24:06.647536Z"
    },
    "papermill": {
     "duration": 0.040301,
     "end_time": "2023-11-26T04:24:06.650675",
     "exception": false,
     "start_time": "2023-11-26T04:24:06.610374",
     "status": "completed"
    },
    "tags": []
   },
   "outputs": [],
   "source": [
    "# best_model, predictions = fit_xgboost_regressor_with_kfold(train_df, \n",
    "#                                                            features, \n",
    "#                                                            target_variable = 'Hardness', \n",
    "#                                                            parameters = params, \n",
    "#                                                            n_splits=10, \n",
    "#                                                            random_state=SEED, \n",
    "#                                                            early_stopping_rounds=250\n",
    "#                                                           )"
   ]
  },
  {
   "cell_type": "code",
   "execution_count": null,
   "id": "52eebf7e",
   "metadata": {
    "execution": {
     "iopub.execute_input": "2023-11-26T04:24:06.717260Z",
     "iopub.status.busy": "2023-11-26T04:24:06.716838Z",
     "iopub.status.idle": "2023-11-26T04:24:06.721551Z",
     "shell.execute_reply": "2023-11-26T04:24:06.720485Z"
    },
    "papermill": {
     "duration": 0.040698,
     "end_time": "2023-11-26T04:24:06.723897",
     "exception": false,
     "start_time": "2023-11-26T04:24:06.683199",
     "status": "completed"
    },
    "tags": []
   },
   "outputs": [],
   "source": [
    "# Mean MEDAE: 0.5599094724655151 >>> All Data Utilized."
   ]
  },
  {
   "cell_type": "code",
   "execution_count": null,
   "id": "4920450f",
   "metadata": {
    "execution": {
     "iopub.execute_input": "2023-11-26T04:24:06.791401Z",
     "iopub.status.busy": "2023-11-26T04:24:06.791003Z",
     "iopub.status.idle": "2023-11-26T04:24:06.796021Z",
     "shell.execute_reply": "2023-11-26T04:24:06.795045Z"
    },
    "papermill": {
     "duration": 0.041251,
     "end_time": "2023-11-26T04:24:06.798182",
     "exception": false,
     "start_time": "2023-11-26T04:24:06.756931",
     "status": "completed"
    },
    "tags": []
   },
   "outputs": [],
   "source": [
    "# %%time\n",
    "# import matplotlib.pyplot as plt\n",
    "# %matplotlib inline\n",
    "# # Creates a plot to visualize the most important features...\n",
    "\n",
    "# feats = {} # a dict to hold feature_name: feature_importance\n",
    "# for feature, importance in zip(train_df[features].columns, best_model.feature_importances_):\n",
    "#     feats[feature] = importance #add the name/value pair \n",
    "\n",
    "# importances = pd.DataFrame.from_dict(feats, orient='index').rename(columns={0: 'Gini-importance'})\n",
    "# importances.sort_values(by='Gini-importance', ascending=False).plot(kind='bar', rot=90, figsize=(10,4))\n",
    "# plt.show()"
   ]
  },
  {
   "cell_type": "code",
   "execution_count": null,
   "id": "1d4fe358",
   "metadata": {
    "execution": {
     "iopub.execute_input": "2023-11-26T04:24:06.867287Z",
     "iopub.status.busy": "2023-11-26T04:24:06.866899Z",
     "iopub.status.idle": "2023-11-26T04:24:06.871344Z",
     "shell.execute_reply": "2023-11-26T04:24:06.870279Z"
    },
    "papermill": {
     "duration": 0.042057,
     "end_time": "2023-11-26T04:24:06.873499",
     "exception": false,
     "start_time": "2023-11-26T04:24:06.831442",
     "status": "completed"
    },
    "tags": []
   },
   "outputs": [],
   "source": [
    "# sample_path = '/kaggle/input/playground-series-s3e25/sample_submission.csv'\n",
    "# sample_df = read_csv_to_dataframe(sample_path)\n",
    "# sample_df['Hardness'] = predictions\n",
    "\n",
    "# sample_df.to_csv('xgb_submission.csv', index=False)"
   ]
  },
  {
   "cell_type": "markdown",
   "id": "920a5495",
   "metadata": {
    "papermill": {
     "duration": 0.031872,
     "end_time": "2023-11-26T04:24:06.937577",
     "exception": false,
     "start_time": "2023-11-26T04:24:06.905705",
     "status": "completed"
    },
    "tags": []
   },
   "source": [
    "---"
   ]
  },
  {
   "cell_type": "markdown",
   "id": "bc5b0532",
   "metadata": {
    "papermill": {
     "duration": 0.031719,
     "end_time": "2023-11-26T04:24:07.001360",
     "exception": false,
     "start_time": "2023-11-26T04:24:06.969641",
     "status": "completed"
    },
    "tags": []
   },
   "source": [
    "# Tensorflow Model Using Keras..."
   ]
  },
  {
   "cell_type": "code",
   "execution_count": null,
   "id": "aebd2184",
   "metadata": {
    "execution": {
     "iopub.execute_input": "2023-11-26T04:24:07.067134Z",
     "iopub.status.busy": "2023-11-26T04:24:07.066754Z",
     "iopub.status.idle": "2023-11-26T04:24:07.071486Z",
     "shell.execute_reply": "2023-11-26T04:24:07.070456Z"
    },
    "papermill": {
     "duration": 0.040376,
     "end_time": "2023-11-26T04:24:07.073670",
     "exception": false,
     "start_time": "2023-11-26T04:24:07.033294",
     "status": "completed"
    },
    "tags": []
   },
   "outputs": [],
   "source": [
    "# import pandas as pd\n",
    "# import numpy as np\n",
    "# import tensorflow as tf\n",
    "# import tensorflow_probability as tfp\n",
    "# from tensorflow import keras\n",
    "# from tensorflow.keras import layers\n",
    "# from sklearn.model_selection import train_test_split"
   ]
  },
  {
   "cell_type": "code",
   "execution_count": null,
   "id": "c56110ae",
   "metadata": {
    "execution": {
     "iopub.execute_input": "2023-11-26T04:24:07.140313Z",
     "iopub.status.busy": "2023-11-26T04:24:07.139861Z",
     "iopub.status.idle": "2023-11-26T04:24:07.144492Z",
     "shell.execute_reply": "2023-11-26T04:24:07.143504Z"
    },
    "papermill": {
     "duration": 0.040569,
     "end_time": "2023-11-26T04:24:07.146618",
     "exception": false,
     "start_time": "2023-11-26T04:24:07.106049",
     "status": "completed"
    },
    "tags": []
   },
   "outputs": [],
   "source": [
    "# def loss_fn(y_true, y_pred):\n",
    "#     return tfp.stats.percentile(tf.abs(y_true - y_pred), q = 50)\n",
    "\n",
    "# def metric_fn(y_true, y_pred):\n",
    "#     return tfp.stats.percentile(tf.abs(y_true - y_pred), q = 100) - tfp.stats.percentile(tf.abs(y_true - y_pred), q = 0)"
   ]
  },
  {
   "cell_type": "code",
   "execution_count": null,
   "id": "c35a1658",
   "metadata": {
    "execution": {
     "iopub.execute_input": "2023-11-26T04:24:07.214182Z",
     "iopub.status.busy": "2023-11-26T04:24:07.213806Z",
     "iopub.status.idle": "2023-11-26T04:24:07.219494Z",
     "shell.execute_reply": "2023-11-26T04:24:07.218561Z"
    },
    "papermill": {
     "duration": 0.042152,
     "end_time": "2023-11-26T04:24:07.221569",
     "exception": false,
     "start_time": "2023-11-26T04:24:07.179417",
     "status": "completed"
    },
    "tags": []
   },
   "outputs": [],
   "source": [
    "# def train_neural_network(df, feature_cols, target_col):\n",
    "#     # Splitting the data into features and target\n",
    "#     X = df[feature_cols]\n",
    "#     y = df[target_col]\n",
    "\n",
    "#     # Splitting data into training and validation sets\n",
    "#     X_train, X_val, y_train, y_val = train_test_split(X, y, test_size=0.2, random_state=42)\n",
    "\n",
    "#     # Creating a neural network model\n",
    "#     model = keras.Sequential([\n",
    "#         layers.Dense(256, activation='relu', input_shape=(X_train.shape[1],)),\n",
    "#         layers.Dense(128, activation='relu'),\n",
    "#         layers.Dense(64,  activation='relu'),\n",
    "#         layers.Dense(1)\n",
    "#     ])\n",
    "\n",
    "#     # Compiling the model\n",
    "#     optimizer_function = tf.keras.optimizers.Adam(0.015, beta_1 = 0.5)\n",
    "#     model.compile(optimizer = optimizer_function, loss = loss_fn, metrics = [metric_fn])\n",
    "\n",
    "#     # Callbacks\n",
    "#     early_stopping = keras.callbacks.EarlyStopping(\n",
    "#         monitor='val_loss', \n",
    "#         patience=64,\n",
    "#         restore_best_weights=True\n",
    "#     )\n",
    "\n",
    "#     reduce_lr = keras.callbacks.ReduceLROnPlateau(\n",
    "#         monitor='val_loss', \n",
    "#         factor=0.2,\n",
    "#         patience=5,\n",
    "#         min_lr=0.001\n",
    "#     )\n",
    "\n",
    "#     # Training the model\n",
    "#     model.fit(X_train, y_train, epochs=128, validation_data=(X_val, y_val),\n",
    "#               callbacks=[early_stopping, reduce_lr], verbose=True)\n",
    "\n",
    "#     # Making predictions\n",
    "#     predictions = model.predict(X_val)\n",
    "\n",
    "#     return model, predictions"
   ]
  },
  {
   "cell_type": "code",
   "execution_count": null,
   "id": "75e56141",
   "metadata": {
    "execution": {
     "iopub.execute_input": "2023-11-26T04:24:07.285572Z",
     "iopub.status.busy": "2023-11-26T04:24:07.284944Z",
     "iopub.status.idle": "2023-11-26T04:24:07.289147Z",
     "shell.execute_reply": "2023-11-26T04:24:07.288259Z"
    },
    "papermill": {
     "duration": 0.037357,
     "end_time": "2023-11-26T04:24:07.291104",
     "exception": false,
     "start_time": "2023-11-26T04:24:07.253747",
     "status": "completed"
    },
    "tags": []
   },
   "outputs": [],
   "source": [
    "# trained_model, predictions = train_neural_network(train_df, features, 'Hardness')"
   ]
  },
  {
   "cell_type": "code",
   "execution_count": null,
   "id": "0f1f30ae",
   "metadata": {
    "execution": {
     "iopub.execute_input": "2023-11-26T04:24:07.352488Z",
     "iopub.status.busy": "2023-11-26T04:24:07.352153Z",
     "iopub.status.idle": "2023-11-26T04:24:07.356182Z",
     "shell.execute_reply": "2023-11-26T04:24:07.355299Z"
    },
    "papermill": {
     "duration": 0.037206,
     "end_time": "2023-11-26T04:24:07.358131",
     "exception": false,
     "start_time": "2023-11-26T04:24:07.320925",
     "status": "completed"
    },
    "tags": []
   },
   "outputs": [],
   "source": [
    "# predictions = trained_model.predict(test_df[features])"
   ]
  },
  {
   "cell_type": "code",
   "execution_count": null,
   "id": "88c28c7e",
   "metadata": {
    "execution": {
     "iopub.execute_input": "2023-11-26T04:24:07.421706Z",
     "iopub.status.busy": "2023-11-26T04:24:07.421372Z",
     "iopub.status.idle": "2023-11-26T04:24:07.425585Z",
     "shell.execute_reply": "2023-11-26T04:24:07.424677Z"
    },
    "papermill": {
     "duration": 0.038337,
     "end_time": "2023-11-26T04:24:07.427638",
     "exception": false,
     "start_time": "2023-11-26T04:24:07.389301",
     "status": "completed"
    },
    "tags": []
   },
   "outputs": [],
   "source": [
    "# sample_path = '/kaggle/input/playground-series-s3e25/sample_submission.csv'\n",
    "# sample_df = read_csv_to_dataframe(sample_path)\n",
    "# sample_df['Hardness'] = predictions\n",
    "\n",
    "# sample_df.to_csv('nn_keras_submission.csv', index=False)"
   ]
  },
  {
   "cell_type": "markdown",
   "id": "1aef26dd",
   "metadata": {
    "papermill": {
     "duration": 0.030284,
     "end_time": "2023-11-26T04:24:07.488424",
     "exception": false,
     "start_time": "2023-11-26T04:24:07.458140",
     "status": "completed"
    },
    "tags": []
   },
   "source": [
    "# NN Model Using Fast AI"
   ]
  },
  {
   "cell_type": "code",
   "execution_count": null,
   "id": "eb8e2ee5",
   "metadata": {
    "execution": {
     "iopub.execute_input": "2023-11-26T04:24:07.548731Z",
     "iopub.status.busy": "2023-11-26T04:24:07.548017Z",
     "iopub.status.idle": "2023-11-26T04:24:07.552080Z",
     "shell.execute_reply": "2023-11-26T04:24:07.551185Z"
    },
    "papermill": {
     "duration": 0.035959,
     "end_time": "2023-11-26T04:24:07.554352",
     "exception": false,
     "start_time": "2023-11-26T04:24:07.518393",
     "status": "completed"
    },
    "tags": []
   },
   "outputs": [],
   "source": [
    "# %%time\n",
    "# # Load the fastai tabular modules.\n",
    "\n",
    "# import fastai; fastai.__version__\n",
    "# from fastai.tabular.all import *"
   ]
  },
  {
   "cell_type": "code",
   "execution_count": null,
   "id": "3d9bab80",
   "metadata": {
    "execution": {
     "iopub.execute_input": "2023-11-26T04:24:07.613962Z",
     "iopub.status.busy": "2023-11-26T04:24:07.613361Z",
     "iopub.status.idle": "2023-11-26T04:24:07.617569Z",
     "shell.execute_reply": "2023-11-26T04:24:07.616633Z"
    },
    "papermill": {
     "duration": 0.036198,
     "end_time": "2023-11-26T04:24:07.619542",
     "exception": false,
     "start_time": "2023-11-26T04:24:07.583344",
     "status": "completed"
    },
    "tags": []
   },
   "outputs": [],
   "source": [
    "# %%time\n",
    "# # Creating a list of the data preprocessing steps we want to apply to the model...\n",
    "\n",
    "# data_processing = [\n",
    "#                     FillMissing, # Fill the missing values in continuous columns.\n",
    "#                     Normalize,   # Normalize the dataset, nesesary for DL models.\n",
    "#                   ]"
   ]
  },
  {
   "cell_type": "code",
   "execution_count": null,
   "id": "cf83f169",
   "metadata": {
    "execution": {
     "iopub.execute_input": "2023-11-26T04:24:07.678621Z",
     "iopub.status.busy": "2023-11-26T04:24:07.678056Z",
     "iopub.status.idle": "2023-11-26T04:24:07.682107Z",
     "shell.execute_reply": "2023-11-26T04:24:07.681248Z"
    },
    "papermill": {
     "duration": 0.035792,
     "end_time": "2023-11-26T04:24:07.684112",
     "exception": false,
     "start_time": "2023-11-26T04:24:07.648320",
     "status": "completed"
    },
    "tags": []
   },
   "outputs": [],
   "source": [
    "# %%time \n",
    "# # Updates the features after high correlation features have been removed\n",
    "# continuous_feat = [feat for feat in train_df.columns if feat not in ['Hardness', 'id']]"
   ]
  },
  {
   "cell_type": "code",
   "execution_count": null,
   "id": "9d8faf37",
   "metadata": {
    "execution": {
     "iopub.execute_input": "2023-11-26T04:24:07.742418Z",
     "iopub.status.busy": "2023-11-26T04:24:07.742119Z",
     "iopub.status.idle": "2023-11-26T04:24:07.746914Z",
     "shell.execute_reply": "2023-11-26T04:24:07.746067Z"
    },
    "papermill": {
     "duration": 0.035961,
     "end_time": "2023-11-26T04:24:07.748792",
     "exception": false,
     "start_time": "2023-11-26T04:24:07.712831",
     "status": "completed"
    },
    "tags": []
   },
   "outputs": [],
   "source": [
    "# %%time\n",
    "# # Create a dataloader to be used by the learner\n",
    "# # Difining some data loader params\n",
    "\n",
    "# batch_size = 16\n",
    "# valid_pct  = 0.25\n",
    "\n",
    "# # Creting the tabular data loader\n",
    "# data = TabularDataLoaders.from_df(df = train_df,                     # Here we pass tge train dataset.\n",
    "#                                   path = '.',                        # Here we pass the location path of the data, in this case null = '.'\n",
    "#                                   procs = data_processing,           # Apply selected transformations to the data\n",
    "#                                   cat_names = None,                  # Specify categorical features\n",
    "#                                   cont_names = continuous_feat,      # Specify numerical features\n",
    "#                                   valid_pct = valid_pct,             # Set the percentage of the dataset to be used in the validation process\n",
    "#                                   bs = batch_size,                   # Specify the batch size\n",
    "#                                   y_block = RegressionBlock,         # Specify the type of target variable\n",
    "#                                   y_names = 'Hardness',              # Specify the name of the target variable for the model\n",
    "#                                   shuffle_train = True,              # Specify if the dataset should be shuffle\n",
    "#                                  )\n"
   ]
  },
  {
   "cell_type": "code",
   "execution_count": null,
   "id": "edf25942",
   "metadata": {
    "execution": {
     "iopub.execute_input": "2023-11-26T04:24:07.808133Z",
     "iopub.status.busy": "2023-11-26T04:24:07.807275Z",
     "iopub.status.idle": "2023-11-26T04:24:07.811879Z",
     "shell.execute_reply": "2023-11-26T04:24:07.811117Z"
    },
    "papermill": {
     "duration": 0.036413,
     "end_time": "2023-11-26T04:24:07.813720",
     "exception": false,
     "start_time": "2023-11-26T04:24:07.777307",
     "status": "completed"
    },
    "tags": []
   },
   "outputs": [],
   "source": [
    "# %%time\n",
    "# # Define the tabular learner to be used in the training stage\n",
    "# # Learner parameters\n",
    "\n",
    "# layers_definition = [512, 512, 64, 32] #...\n",
    "# emb_size = None #...\n",
    "# my_config = tabular_config() #...\n",
    "# drop_out = [0.3, 0.3, 0.3, 0.3]\n",
    "\n",
    "# # Learner definition\n",
    "# learn = tabular_learner(dls     = data,                         #....\n",
    "#                         layers  = layers_definition,            #....\n",
    "#                         emb_szs = emb_size,                     #....\n",
    "#                         metrics = [mae], #....\n",
    "#                         config  = my_config,                    #....\n",
    "#                        ).to_fp16() "
   ]
  },
  {
   "cell_type": "code",
   "execution_count": null,
   "id": "35b001c2",
   "metadata": {
    "execution": {
     "iopub.execute_input": "2023-11-26T04:24:07.875412Z",
     "iopub.status.busy": "2023-11-26T04:24:07.874698Z",
     "iopub.status.idle": "2023-11-26T04:24:07.878747Z",
     "shell.execute_reply": "2023-11-26T04:24:07.877874Z"
    },
    "papermill": {
     "duration": 0.037722,
     "end_time": "2023-11-26T04:24:07.880695",
     "exception": false,
     "start_time": "2023-11-26T04:24:07.842973",
     "status": "completed"
    },
    "tags": []
   },
   "outputs": [],
   "source": [
    "# %%time\n",
    "# # Prints out the model architecture.\n",
    "# # As a summary for easy visualization.\n",
    "# learn.summary()"
   ]
  },
  {
   "cell_type": "code",
   "execution_count": null,
   "id": "abe0cbbf",
   "metadata": {
    "execution": {
     "iopub.execute_input": "2023-11-26T04:24:07.941470Z",
     "iopub.status.busy": "2023-11-26T04:24:07.940635Z",
     "iopub.status.idle": "2023-11-26T04:24:07.945922Z",
     "shell.execute_reply": "2023-11-26T04:24:07.945056Z"
    },
    "papermill": {
     "duration": 0.038091,
     "end_time": "2023-11-26T04:24:07.948104",
     "exception": false,
     "start_time": "2023-11-26T04:24:07.910013",
     "status": "completed"
    },
    "tags": []
   },
   "outputs": [
    {
     "name": "stdout",
     "output_type": "stream",
     "text": [
      "CPU times: user 4 µs, sys: 1e+03 ns, total: 5 µs\n",
      "Wall time: 6.91 µs\n"
     ]
    }
   ],
   "source": [
    "%%time\n",
    "# Fit one fastai cycle on the training dataset.\n",
    "# It's like a warm start to identify the optimal LR for the model in the subsequent steps.\n",
    "\n",
    "#learn.fit_one_cycle(1)"
   ]
  },
  {
   "cell_type": "code",
   "execution_count": null,
   "id": "392c19ba",
   "metadata": {
    "execution": {
     "iopub.execute_input": "2023-11-26T04:24:08.007062Z",
     "iopub.status.busy": "2023-11-26T04:24:08.006776Z",
     "iopub.status.idle": "2023-11-26T04:24:08.012023Z",
     "shell.execute_reply": "2023-11-26T04:24:08.010966Z"
    },
    "papermill": {
     "duration": 0.037194,
     "end_time": "2023-11-26T04:24:08.013974",
     "exception": false,
     "start_time": "2023-11-26T04:24:07.976780",
     "status": "completed"
    },
    "tags": []
   },
   "outputs": [
    {
     "name": "stdout",
     "output_type": "stream",
     "text": [
      "CPU times: user 3 µs, sys: 1e+03 ns, total: 4 µs\n",
      "Wall time: 6.68 µs\n"
     ]
    }
   ],
   "source": [
    "%%time\n",
    "# Find the optimal Learning Rate for the model based on previous information...\n",
    "\n",
    "#learn.lr_find()"
   ]
  },
  {
   "cell_type": "code",
   "execution_count": null,
   "id": "d08508f7",
   "metadata": {
    "execution": {
     "iopub.execute_input": "2023-11-26T04:24:08.073437Z",
     "iopub.status.busy": "2023-11-26T04:24:08.072764Z",
     "iopub.status.idle": "2023-11-26T04:24:08.077983Z",
     "shell.execute_reply": "2023-11-26T04:24:08.077115Z"
    },
    "papermill": {
     "duration": 0.037169,
     "end_time": "2023-11-26T04:24:08.079976",
     "exception": false,
     "start_time": "2023-11-26T04:24:08.042807",
     "status": "completed"
    },
    "tags": []
   },
   "outputs": [
    {
     "name": "stdout",
     "output_type": "stream",
     "text": [
      "CPU times: user 3 µs, sys: 1e+03 ns, total: 4 µs\n",
      "Wall time: 6.68 µs\n"
     ]
    }
   ],
   "source": [
    "%%time\n",
    "# Fit 3 epochs on the training dataset.\n",
    "# Using the LR identified in the previous step.\n",
    "\n",
    "#lr = 0.027\n",
    "#learn.fit_one_cycle(10, lr_max = lr)"
   ]
  },
  {
   "cell_type": "code",
   "execution_count": null,
   "id": "a129b6cb",
   "metadata": {
    "execution": {
     "iopub.execute_input": "2023-11-26T04:24:08.139505Z",
     "iopub.status.busy": "2023-11-26T04:24:08.139170Z",
     "iopub.status.idle": "2023-11-26T04:24:08.144036Z",
     "shell.execute_reply": "2023-11-26T04:24:08.143176Z"
    },
    "papermill": {
     "duration": 0.037318,
     "end_time": "2023-11-26T04:24:08.146260",
     "exception": false,
     "start_time": "2023-11-26T04:24:08.108942",
     "status": "completed"
    },
    "tags": []
   },
   "outputs": [
    {
     "name": "stdout",
     "output_type": "stream",
     "text": [
      "CPU times: user 3 µs, sys: 1e+03 ns, total: 4 µs\n",
      "Wall time: 5.96 µs\n"
     ]
    }
   ],
   "source": [
    "%%time\n",
    "#...\n",
    "#learn.fine_tune(25, base_lr = lr, freeze_epochs = 5)"
   ]
  },
  {
   "cell_type": "code",
   "execution_count": null,
   "id": "6197d836",
   "metadata": {
    "execution": {
     "iopub.execute_input": "2023-11-26T04:24:08.205199Z",
     "iopub.status.busy": "2023-11-26T04:24:08.204915Z",
     "iopub.status.idle": "2023-11-26T04:24:08.209532Z",
     "shell.execute_reply": "2023-11-26T04:24:08.208684Z"
    },
    "papermill": {
     "duration": 0.036686,
     "end_time": "2023-11-26T04:24:08.211637",
     "exception": false,
     "start_time": "2023-11-26T04:24:08.174951",
     "status": "completed"
    },
    "tags": []
   },
   "outputs": [
    {
     "name": "stdout",
     "output_type": "stream",
     "text": [
      "CPU times: user 3 µs, sys: 0 ns, total: 3 µs\n",
      "Wall time: 6.68 µs\n"
     ]
    }
   ],
   "source": [
    "%%time\n",
    "#...\n",
    "#dl = learn.dls.test_dl(test_df[features])"
   ]
  },
  {
   "cell_type": "code",
   "execution_count": null,
   "id": "a6d357e4",
   "metadata": {
    "execution": {
     "iopub.execute_input": "2023-11-26T04:24:08.270638Z",
     "iopub.status.busy": "2023-11-26T04:24:08.270346Z",
     "iopub.status.idle": "2023-11-26T04:24:08.274846Z",
     "shell.execute_reply": "2023-11-26T04:24:08.274070Z"
    },
    "papermill": {
     "duration": 0.036528,
     "end_time": "2023-11-26T04:24:08.277049",
     "exception": false,
     "start_time": "2023-11-26T04:24:08.240521",
     "status": "completed"
    },
    "tags": []
   },
   "outputs": [
    {
     "name": "stdout",
     "output_type": "stream",
     "text": [
      "CPU times: user 3 µs, sys: 0 ns, total: 3 µs\n",
      "Wall time: 5.96 µs\n"
     ]
    }
   ],
   "source": [
    "%%time\n",
    "#...\n",
    "#nn_predictions, _, preds = learn.get_preds(dl = dl, with_decoded = True)"
   ]
  },
  {
   "cell_type": "code",
   "execution_count": null,
   "id": "7f63bcdd",
   "metadata": {
    "execution": {
     "iopub.execute_input": "2023-11-26T04:24:08.336695Z",
     "iopub.status.busy": "2023-11-26T04:24:08.336435Z",
     "iopub.status.idle": "2023-11-26T04:24:08.340975Z",
     "shell.execute_reply": "2023-11-26T04:24:08.340139Z"
    },
    "papermill": {
     "duration": 0.036861,
     "end_time": "2023-11-26T04:24:08.343017",
     "exception": false,
     "start_time": "2023-11-26T04:24:08.306156",
     "status": "completed"
    },
    "tags": []
   },
   "outputs": [
    {
     "name": "stdout",
     "output_type": "stream",
     "text": [
      "CPU times: user 3 µs, sys: 1e+03 ns, total: 4 µs\n",
      "Wall time: 5.96 µs\n"
     ]
    }
   ],
   "source": [
    "%%time\n",
    "#...\n",
    "#nn_predictions, preds"
   ]
  },
  {
   "cell_type": "code",
   "execution_count": null,
   "id": "aa7a771c",
   "metadata": {
    "execution": {
     "iopub.execute_input": "2023-11-26T04:24:08.402764Z",
     "iopub.status.busy": "2023-11-26T04:24:08.402515Z",
     "iopub.status.idle": "2023-11-26T04:24:08.406255Z",
     "shell.execute_reply": "2023-11-26T04:24:08.405410Z"
    },
    "papermill": {
     "duration": 0.035747,
     "end_time": "2023-11-26T04:24:08.408114",
     "exception": false,
     "start_time": "2023-11-26T04:24:08.372367",
     "status": "completed"
    },
    "tags": []
   },
   "outputs": [],
   "source": [
    "# sample_path = '/kaggle/input/playground-series-s3e25/sample_submission.csv'\n",
    "# sample_df = read_csv_to_dataframe(sample_path)\n",
    "# sample_df['Hardness'] = nn_predictions\n",
    "\n",
    "# sample_df.to_csv('nn_submission.csv', index=False)"
   ]
  },
  {
   "cell_type": "markdown",
   "id": "4cf8db69",
   "metadata": {
    "papermill": {
     "duration": 0.029058,
     "end_time": "2023-11-26T04:24:08.466363",
     "exception": false,
     "start_time": "2023-11-26T04:24:08.437305",
     "status": "completed"
    },
    "tags": []
   },
   "source": [
    "---"
   ]
  },
  {
   "cell_type": "code",
   "execution_count": null,
   "id": "d644feab",
   "metadata": {
    "papermill": {
     "duration": 0.028967,
     "end_time": "2023-11-26T04:24:08.524600",
     "exception": false,
     "start_time": "2023-11-26T04:24:08.495633",
     "status": "completed"
    },
    "tags": []
   },
   "outputs": [],
   "source": []
  },
  {
   "cell_type": "code",
   "execution_count": null,
   "id": "056cce1c",
   "metadata": {
    "papermill": {
     "duration": 0.02909,
     "end_time": "2023-11-26T04:24:08.583401",
     "exception": false,
     "start_time": "2023-11-26T04:24:08.554311",
     "status": "completed"
    },
    "tags": []
   },
   "outputs": [],
   "source": []
  }
 ],
 "metadata": {
  "kaggle": {
   "accelerator": "gpu",
   "dataSources": [
    {
     "databundleVersionId": 6989718,
     "sourceId": 60892,
     "sourceType": "competition"
    },
    {
     "datasetId": 3815527,
     "sourceId": 6612067,
     "sourceType": "datasetVersion"
    }
   ],
   "dockerImageVersionId": 30587,
   "isGpuEnabled": true,
   "isInternetEnabled": true,
   "language": "python",
   "sourceType": "notebook"
  },
  "kernelspec": {
   "display_name": "Python 3",
   "language": "python",
   "name": "python3"
  },
  "language_info": {
   "codemirror_mode": {
    "name": "ipython",
    "version": 3
   },
   "file_extension": ".py",
   "mimetype": "text/x-python",
   "name": "python",
   "nbconvert_exporter": "python",
   "pygments_lexer": "ipython3",
   "version": "3.11.0"
  },
  "papermill": {
   "default_parameters": {},
   "duration": 754.431702,
   "end_time": "2023-11-26T04:24:09.334485",
   "environment_variables": {},
   "exception": null,
   "input_path": "__notebook__.ipynb",
   "output_path": "__notebook__.ipynb",
   "parameters": {},
   "start_time": "2023-11-26T04:11:34.902783",
   "version": "2.4.0"
  }
 },
 "nbformat": 4,
 "nbformat_minor": 5
}
